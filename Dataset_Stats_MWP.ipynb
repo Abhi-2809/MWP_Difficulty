{
  "nbformat": 4,
  "nbformat_minor": 0,
  "metadata": {
    "colab": {
      "name": "Dataset Stats - MWP.ipynb",
      "provenance": []
    },
    "kernelspec": {
      "name": "python3",
      "display_name": "Python 3"
    },
    "language_info": {
      "name": "python"
    }
  },
  "cells": [
    {
      "cell_type": "code",
      "metadata": {
        "colab": {
          "base_uri": "https://localhost:8080/"
        },
        "id": "AShIFNzGJJWP",
        "outputId": "19973362-c851-4e78-bba2-5826bc437d84"
      },
      "source": [
        "from google.colab import drive\n",
        "drive.mount('/content/drive')"
      ],
      "execution_count": 1,
      "outputs": [
        {
          "output_type": "stream",
          "name": "stdout",
          "text": [
            "Mounted at /content/drive\n"
          ]
        }
      ]
    },
    {
      "cell_type": "code",
      "metadata": {
        "id": "Crc7y7w_JKnT"
      },
      "source": [
        "import pandas as pd\n",
        "import numpy as np\n",
        "import matplotlib.pyplot as plt"
      ],
      "execution_count": 23,
      "outputs": []
    },
    {
      "cell_type": "code",
      "metadata": {
        "id": "60WJx9IUJR0F"
      },
      "source": [
        "df = pd.read_csv('/content/drive/MyDrive/MWP Classification/MWP(Words and Values in List).csv')"
      ],
      "execution_count": 14,
      "outputs": []
    },
    {
      "cell_type": "code",
      "metadata": {
        "colab": {
          "base_uri": "https://localhost:8080/",
          "height": 606
        },
        "id": "GC0QVEMlJV4Q",
        "outputId": "82be0fbe-ecda-4858-f4b8-c7c9b92d6357"
      },
      "source": [
        "df"
      ],
      "execution_count": 15,
      "outputs": [
        {
          "output_type": "execute_result",
          "data": {
            "text/html": [
              "<div>\n",
              "<style scoped>\n",
              "    .dataframe tbody tr th:only-of-type {\n",
              "        vertical-align: middle;\n",
              "    }\n",
              "\n",
              "    .dataframe tbody tr th {\n",
              "        vertical-align: top;\n",
              "    }\n",
              "\n",
              "    .dataframe thead th {\n",
              "        text-align: right;\n",
              "    }\n",
              "</style>\n",
              "<table border=\"1\" class=\"dataframe\">\n",
              "  <thead>\n",
              "    <tr style=\"text-align: right;\">\n",
              "      <th></th>\n",
              "      <th>Unnamed: 0</th>\n",
              "      <th>Problem</th>\n",
              "      <th>Level</th>\n",
              "      <th>Type</th>\n",
              "      <th>Solution</th>\n",
              "      <th>Extracted words(List)</th>\n",
              "      <th>Extracted Num(List)</th>\n",
              "    </tr>\n",
              "  </thead>\n",
              "  <tbody>\n",
              "    <tr>\n",
              "      <th>0</th>\n",
              "      <td>0</td>\n",
              "      <td>There are constants    alpha  and    beta  suc...</td>\n",
              "      <td>Level 5</td>\n",
              "      <td>Algebra</td>\n",
              "      <td>The numerator  x^2 - 80x + 1551  factors as  (...</td>\n",
              "      <td>['There', 'are', 'constants', 'alpha', 'and', ...</td>\n",
              "      <td>['2', '80', '1551', '2', '57', '2970']</td>\n",
              "    </tr>\n",
              "    <tr>\n",
              "      <th>1</th>\n",
              "      <td>1</td>\n",
              "      <td>The length of the segment between the points  ...</td>\n",
              "      <td>Level 5</td>\n",
              "      <td>Algebra</td>\n",
              "      <td>By the distance formula, the distance from  (2...</td>\n",
              "      <td>['The', 'length', 'of', 'the', 'segment', 'bet...</td>\n",
              "      <td>['2', '4', '4', '1', '2', '10']</td>\n",
              "    </tr>\n",
              "    <tr>\n",
              "      <th>2</th>\n",
              "      <td>2</td>\n",
              "      <td>Chewbacca has 20 pieces of cherry gum and 30 p...</td>\n",
              "      <td>Level 5</td>\n",
              "      <td>Algebra</td>\n",
              "      <td>If Chewbacca loses one pack of cherry gum, the...</td>\n",
              "      <td>['Chewbacca', 'has', 'pieces', 'of', 'cherry',...</td>\n",
              "      <td>['20', '30', '5']</td>\n",
              "    </tr>\n",
              "    <tr>\n",
              "      <th>3</th>\n",
              "      <td>3</td>\n",
              "      <td>For some constants  a  and  b,  let   [f(x) = ...</td>\n",
              "      <td>Level 5</td>\n",
              "      <td>Algebra</td>\n",
              "      <td>Setting  x = 3,  we get  f(3) = -1.  Since  -1...</td>\n",
              "      <td>['For', 'some', 'constants', 'a', 'and', 'b', ...</td>\n",
              "      <td>['2', '8', '3', '2']</td>\n",
              "    </tr>\n",
              "    <tr>\n",
              "      <th>4</th>\n",
              "      <td>4</td>\n",
              "      <td>Calculate the sum  1 + 3 + 5 +   cdots + 15 + ...</td>\n",
              "      <td>Level 2</td>\n",
              "      <td>Algebra</td>\n",
              "      <td>The arithmetic sequence 1, 3, 5,    dots , 17,...</td>\n",
              "      <td>['Calculate', 'the', 'sum', 'cdots']</td>\n",
              "      <td>['1', '3', '5', '15', '17']</td>\n",
              "    </tr>\n",
              "    <tr>\n",
              "      <th>...</th>\n",
              "      <td>...</td>\n",
              "      <td>...</td>\n",
              "      <td>...</td>\n",
              "      <td>...</td>\n",
              "      <td>...</td>\n",
              "      <td>...</td>\n",
              "      <td>...</td>\n",
              "    </tr>\n",
              "    <tr>\n",
              "      <th>1739</th>\n",
              "      <td>1739</td>\n",
              "      <td>What is the slope of the line passing through ...</td>\n",
              "      <td>Level 2</td>\n",
              "      <td>Algebra</td>\n",
              "      <td>We have  m =   dfrac{y_2 - y_1}{x_2-x_1} =   d...</td>\n",
              "      <td>['What', 'is', 'the', 'slope', 'of', 'the', 'l...</td>\n",
              "      <td>['3', '5', '2', '5']</td>\n",
              "    </tr>\n",
              "    <tr>\n",
              "      <th>1740</th>\n",
              "      <td>1740</td>\n",
              "      <td>Evaluate  i^{11} + i^{16} + i^{21} + i^{26} + ...</td>\n",
              "      <td>Level 4</td>\n",
              "      <td>Algebra</td>\n",
              "      <td>We know that by definition,  i^2=-1 , so  i^4=...</td>\n",
              "      <td>['Evaluate', 'i', 'i', 'i', 'i', 'i']</td>\n",
              "      <td>['11', '16', '21', '26', '31']</td>\n",
              "    </tr>\n",
              "    <tr>\n",
              "      <th>1741</th>\n",
              "      <td>1741</td>\n",
              "      <td>If  a  is a constant such that  4x^2 - 12x + a...</td>\n",
              "      <td>Level 3</td>\n",
              "      <td>Algebra</td>\n",
              "      <td>If  4x^2 - 12x + a  is the square of a binomia...</td>\n",
              "      <td>['If', 'a', 'is', 'a', 'constant', 'such', 'th...</td>\n",
              "      <td>['4', '2', '12']</td>\n",
              "    </tr>\n",
              "    <tr>\n",
              "      <th>1742</th>\n",
              "      <td>1742</td>\n",
              "      <td>Given  a   star b = a^2 + 2ab + b^2 , what is ...</td>\n",
              "      <td>Level 3</td>\n",
              "      <td>Algebra</td>\n",
              "      <td>Note that  a   star b = a^2 + 2ab + b^2 = (a +...</td>\n",
              "      <td>['Given', 'a', 'star', 'b', 'a', 'ab', 'b', 'w...</td>\n",
              "      <td>['2', '2', '2', '4', '6']</td>\n",
              "    </tr>\n",
              "    <tr>\n",
              "      <th>1743</th>\n",
              "      <td>1743</td>\n",
              "      <td>The graph of the function  f(x)  is shown belo...</td>\n",
              "      <td>Level 5</td>\n",
              "      <td>Algebra</td>\n",
              "      <td>As shown by the graph, there are  3  values of...</td>\n",
              "      <td>['The', 'graph', 'of', 'the', 'function', 'f',...</td>\n",
              "      <td>['3', '7', '4', '0', '5', '0', '7', '10', '4',...</td>\n",
              "    </tr>\n",
              "  </tbody>\n",
              "</table>\n",
              "<p>1744 rows × 7 columns</p>\n",
              "</div>"
            ],
            "text/plain": [
              "      Unnamed: 0  ...                                Extracted Num(List)\n",
              "0              0  ...             ['2', '80', '1551', '2', '57', '2970']\n",
              "1              1  ...                    ['2', '4', '4', '1', '2', '10']\n",
              "2              2  ...                                  ['20', '30', '5']\n",
              "3              3  ...                               ['2', '8', '3', '2']\n",
              "4              4  ...                        ['1', '3', '5', '15', '17']\n",
              "...          ...  ...                                                ...\n",
              "1739        1739  ...                               ['3', '5', '2', '5']\n",
              "1740        1740  ...                     ['11', '16', '21', '26', '31']\n",
              "1741        1741  ...                                   ['4', '2', '12']\n",
              "1742        1742  ...                          ['2', '2', '2', '4', '6']\n",
              "1743        1743  ...  ['3', '7', '4', '0', '5', '0', '7', '10', '4',...\n",
              "\n",
              "[1744 rows x 7 columns]"
            ]
          },
          "metadata": {},
          "execution_count": 15
        }
      ]
    },
    {
      "cell_type": "code",
      "metadata": {
        "colab": {
          "base_uri": "https://localhost:8080/"
        },
        "id": "fXHZ3kJuJWva",
        "outputId": "b41a4720-0772-4f9e-e977-e0d3a346d146"
      },
      "source": [
        "from collections import Counter\n",
        "l = Counter(df['Level '])\n",
        "print(l)"
      ],
      "execution_count": 21,
      "outputs": [
        {
          "output_type": "stream",
          "name": "stdout",
          "text": [
            "Counter({'Level 5': 436, 'Level 4': 398, 'Level 3': 392, 'Level 2': 340, 'Level 1': 178})\n"
          ]
        }
      ]
    },
    {
      "cell_type": "code",
      "metadata": {
        "colab": {
          "base_uri": "https://localhost:8080/",
          "height": 312
        },
        "id": "tE8OTcBYKuvq",
        "outputId": "1d82f6ba-120f-4d26-a44f-e2ee26ff841e"
      },
      "source": [
        "a_dictionary = dict({'Difficult': 436+398, 'Medium': 392, 'Easy': 340+178})\n",
        "keys = a_dictionary.keys()\n",
        "values = a_dictionary.values()\n",
        "\n",
        "plt.bar(keys, values)\n",
        "plt.xlabel(\"Level of the Problem\")\n",
        "plt.ylabel(\"Number of Problems\")\n",
        "plt.title(\"Count of Problems corresponding to the levels\")"
      ],
      "execution_count": 33,
      "outputs": [
        {
          "output_type": "execute_result",
          "data": {
            "text/plain": [
              "Text(0.5, 1.0, 'Count of Problems corresponding to the levels')"
            ]
          },
          "metadata": {},
          "execution_count": 33
        },
        {
          "output_type": "display_data",
          "data": {
            "image/png": "[encoded data removed]",
            "text/plain": [
              "<Figure size 432x288 with 1 Axes>"
            ]
          },
          "metadata": {
            "needs_background": "light"
          }
        }
      ]
    },
    {
      "cell_type": "code",
      "metadata": {
        "id": "0s9-NFaFLZi0"
      },
      "source": [
        "l = dict(sorted(l.items(), key=lambda item: item[1]))"
      ],
      "execution_count": 25,
      "outputs": []
    },
    {
      "cell_type": "code",
      "metadata": {
        "colab": {
          "base_uri": "https://localhost:8080/"
        },
        "id": "sXqzqLGoJZ9t",
        "outputId": "e3c6600b-6b3e-4c8e-85e6-71f5e060ee62"
      },
      "source": [
        "df.columns"
      ],
      "execution_count": 18,
      "outputs": [
        {
          "output_type": "execute_result",
          "data": {
            "text/plain": [
              "Index(['Unnamed: 0', 'Problem ', 'Level ', 'Type', 'Solution',\n",
              "       'Extracted words(List)', 'Extracted Num(List)'],\n",
              "      dtype='object')"
            ]
          },
          "metadata": {},
          "execution_count": 18
        }
      ]
    },
    {
      "cell_type": "code",
      "metadata": {
        "colab": {
          "base_uri": "https://localhost:8080/"
        },
        "id": "Q0HRJdQQKQrJ",
        "outputId": "0b0b8b30-3825-479a-df3b-c0eb78ccec91"
      },
      "source": [
        "len(df['Extracted Num(List)'][0].split())"
      ],
      "execution_count": 42,
      "outputs": [
        {
          "output_type": "execute_result",
          "data": {
            "text/plain": [
              "6"
            ]
          },
          "metadata": {},
          "execution_count": 42
        }
      ]
    },
    {
      "cell_type": "code",
      "metadata": {
        "colab": {
          "base_uri": "https://localhost:8080/",
          "height": 35
        },
        "id": "NMGWkCMiKhDF",
        "outputId": "f93dccbb-d5dd-4124-edea-00e997024b29"
      },
      "source": [
        "d = df['Extracted Num(List)'][0].split()\n",
        "d[0]"
      ],
      "execution_count": 44,
      "outputs": [
        {
          "output_type": "execute_result",
          "data": {
            "application/vnd.google.colaboratory.intrinsic+json": {
              "type": "string"
            },
            "text/plain": [
              "\"['2',\""
            ]
          },
          "metadata": {},
          "execution_count": 44
        }
      ]
    },
    {
      "cell_type": "code",
      "metadata": {
        "id": "R9S3aq4rM8zk"
      },
      "source": [
        "n_count =[]\n",
        "for i in range(len(df)):\n",
        "  n_count.append(len(df['Extracted Num(List)'][i].split()))"
      ],
      "execution_count": 45,
      "outputs": []
    },
    {
      "cell_type": "code",
      "metadata": {
        "id": "sz5szO2DNXj5"
      },
      "source": [
        "lab = df['Level ']"
      ],
      "execution_count": 47,
      "outputs": []
    },
    {
      "cell_type": "code",
      "metadata": {
        "id": "9hKbOkScNgVh"
      },
      "source": [
        "df_new = pd.DataFrame({'lab':lab,'n_count':n_count})"
      ],
      "execution_count": 50,
      "outputs": []
    },
    {
      "cell_type": "code",
      "metadata": {
        "colab": {
          "base_uri": "https://localhost:8080/",
          "height": 419
        },
        "id": "U-N_UjfzNpqR",
        "outputId": "0c566393-eb82-472f-f046-e68152dc6781"
      },
      "source": [
        "df_new"
      ],
      "execution_count": 51,
      "outputs": [
        {
          "output_type": "execute_result",
          "data": {
            "text/html": [
              "<div>\n",
              "<style scoped>\n",
              "    .dataframe tbody tr th:only-of-type {\n",
              "        vertical-align: middle;\n",
              "    }\n",
              "\n",
              "    .dataframe tbody tr th {\n",
              "        vertical-align: top;\n",
              "    }\n",
              "\n",
              "    .dataframe thead th {\n",
              "        text-align: right;\n",
              "    }\n",
              "</style>\n",
              "<table border=\"1\" class=\"dataframe\">\n",
              "  <thead>\n",
              "    <tr style=\"text-align: right;\">\n",
              "      <th></th>\n",
              "      <th>lab</th>\n",
              "      <th>n_count</th>\n",
              "    </tr>\n",
              "  </thead>\n",
              "  <tbody>\n",
              "    <tr>\n",
              "      <th>0</th>\n",
              "      <td>Level 5</td>\n",
              "      <td>6</td>\n",
              "    </tr>\n",
              "    <tr>\n",
              "      <th>1</th>\n",
              "      <td>Level 5</td>\n",
              "      <td>6</td>\n",
              "    </tr>\n",
              "    <tr>\n",
              "      <th>2</th>\n",
              "      <td>Level 5</td>\n",
              "      <td>3</td>\n",
              "    </tr>\n",
              "    <tr>\n",
              "      <th>3</th>\n",
              "      <td>Level 5</td>\n",
              "      <td>4</td>\n",
              "    </tr>\n",
              "    <tr>\n",
              "      <th>4</th>\n",
              "      <td>Level 2</td>\n",
              "      <td>5</td>\n",
              "    </tr>\n",
              "    <tr>\n",
              "      <th>...</th>\n",
              "      <td>...</td>\n",
              "      <td>...</td>\n",
              "    </tr>\n",
              "    <tr>\n",
              "      <th>1739</th>\n",
              "      <td>Level 2</td>\n",
              "      <td>4</td>\n",
              "    </tr>\n",
              "    <tr>\n",
              "      <th>1740</th>\n",
              "      <td>Level 4</td>\n",
              "      <td>5</td>\n",
              "    </tr>\n",
              "    <tr>\n",
              "      <th>1741</th>\n",
              "      <td>Level 3</td>\n",
              "      <td>3</td>\n",
              "    </tr>\n",
              "    <tr>\n",
              "      <th>1742</th>\n",
              "      <td>Level 3</td>\n",
              "      <td>5</td>\n",
              "    </tr>\n",
              "    <tr>\n",
              "      <th>1743</th>\n",
              "      <td>Level 5</td>\n",
              "      <td>99</td>\n",
              "    </tr>\n",
              "  </tbody>\n",
              "</table>\n",
              "<p>1744 rows × 2 columns</p>\n",
              "</div>"
            ],
            "text/plain": [
              "          lab  n_count\n",
              "0     Level 5        6\n",
              "1     Level 5        6\n",
              "2     Level 5        3\n",
              "3     Level 5        4\n",
              "4     Level 2        5\n",
              "...       ...      ...\n",
              "1739  Level 2        4\n",
              "1740  Level 4        5\n",
              "1741  Level 3        3\n",
              "1742  Level 3        5\n",
              "1743  Level 5       99\n",
              "\n",
              "[1744 rows x 2 columns]"
            ]
          },
          "metadata": {},
          "execution_count": 51
        }
      ]
    },
    {
      "cell_type": "code",
      "metadata": {
        "colab": {
          "base_uri": "https://localhost:8080/",
          "height": 235
        },
        "id": "r3kF47C3OEnh",
        "outputId": "6a6fdc3f-9502-4440-b358-0f561dc7e15c"
      },
      "source": [
        "df_newg = df_new.groupby('lab')\n",
        "df_newg.mean()"
      ],
      "execution_count": 52,
      "outputs": [
        {
          "output_type": "execute_result",
          "data": {
            "text/html": [
              "<div>\n",
              "<style scoped>\n",
              "    .dataframe tbody tr th:only-of-type {\n",
              "        vertical-align: middle;\n",
              "    }\n",
              "\n",
              "    .dataframe tbody tr th {\n",
              "        vertical-align: top;\n",
              "    }\n",
              "\n",
              "    .dataframe thead th {\n",
              "        text-align: right;\n",
              "    }\n",
              "</style>\n",
              "<table border=\"1\" class=\"dataframe\">\n",
              "  <thead>\n",
              "    <tr style=\"text-align: right;\">\n",
              "      <th></th>\n",
              "      <th>n_count</th>\n",
              "    </tr>\n",
              "    <tr>\n",
              "      <th>lab</th>\n",
              "      <th></th>\n",
              "    </tr>\n",
              "  </thead>\n",
              "  <tbody>\n",
              "    <tr>\n",
              "      <th>Level 1</th>\n",
              "      <td>4.724719</td>\n",
              "    </tr>\n",
              "    <tr>\n",
              "      <th>Level 2</th>\n",
              "      <td>5.423529</td>\n",
              "    </tr>\n",
              "    <tr>\n",
              "      <th>Level 3</th>\n",
              "      <td>5.117347</td>\n",
              "    </tr>\n",
              "    <tr>\n",
              "      <th>Level 4</th>\n",
              "      <td>5.680905</td>\n",
              "    </tr>\n",
              "    <tr>\n",
              "      <th>Level 5</th>\n",
              "      <td>8.527523</td>\n",
              "    </tr>\n",
              "  </tbody>\n",
              "</table>\n",
              "</div>"
            ],
            "text/plain": [
              "          n_count\n",
              "lab              \n",
              "Level 1  4.724719\n",
              "Level 2  5.423529\n",
              "Level 3  5.117347\n",
              "Level 4  5.680905\n",
              "Level 5  8.527523"
            ]
          },
          "metadata": {},
          "execution_count": 52
        }
      ]
    },
    {
      "cell_type": "code",
      "metadata": {
        "colab": {
          "base_uri": "https://localhost:8080/",
          "height": 312
        },
        "id": "cC9-HE0ZPEBJ",
        "outputId": "47fd9dcd-b706-4f1e-e400-d573d909e705"
      },
      "source": [
        "a_dictionary = dict({'Difficult': (5.680905+8.527523)/2 , 'Medium': 5.117347, 'Easy': (4.724719+5.423529)/2})\n",
        "keys = a_dictionary.keys()\n",
        "values = a_dictionary.values()\n",
        "\n",
        "plt.bar(keys, values)\n",
        "plt.xlabel(\"Level of the Problem\")\n",
        "plt.ylabel(\"Average numerical values\")\n",
        "plt.title(\"Average Count of Numerical values corresponding to the levels\")"
      ],
      "execution_count": 58,
      "outputs": [
        {
          "output_type": "execute_result",
          "data": {
            "text/plain": [
              "Text(0.5, 1.0, 'Average Count of Numerical values corresponding to the levels')"
            ]
          },
          "metadata": {},
          "execution_count": 58
        },
        {
          "output_type": "display_data",
          "data": {
            "image/png": "[encoded data removed]",
            "text/plain": [
              "<Figure size 432x288 with 1 Axes>"
            ]
          },
          "metadata": {
            "needs_background": "light"
          }
        }
      ]
    },
    {
      "cell_type": "code",
      "metadata": {
        "id": "V5tz4uhDOVa0"
      },
      "source": [
        "n_cou =[]\n",
        "for i in range(len(df)):\n",
        "  n_cou.append(len(df['Extracted words(List)'][i].split()))"
      ],
      "execution_count": 53,
      "outputs": []
    },
    {
      "cell_type": "code",
      "metadata": {
        "id": "wDw2FyHYOouF"
      },
      "source": [
        "df_new2 = pd.DataFrame({'lab':lab,'n_count':n_cou})"
      ],
      "execution_count": 54,
      "outputs": []
    },
    {
      "cell_type": "code",
      "metadata": {
        "colab": {
          "base_uri": "https://localhost:8080/",
          "height": 235
        },
        "id": "WfoNjhvXOsFo",
        "outputId": "92ae3a1c-9737-41b8-e317-57b94a62faaa"
      },
      "source": [
        "df_newg2 = df_new2.groupby('lab')\n",
        "df_newg2.mean()"
      ],
      "execution_count": 55,
      "outputs": [
        {
          "output_type": "execute_result",
          "data": {
            "text/html": [
              "<div>\n",
              "<style scoped>\n",
              "    .dataframe tbody tr th:only-of-type {\n",
              "        vertical-align: middle;\n",
              "    }\n",
              "\n",
              "    .dataframe tbody tr th {\n",
              "        vertical-align: top;\n",
              "    }\n",
              "\n",
              "    .dataframe thead th {\n",
              "        text-align: right;\n",
              "    }\n",
              "</style>\n",
              "<table border=\"1\" class=\"dataframe\">\n",
              "  <thead>\n",
              "    <tr style=\"text-align: right;\">\n",
              "      <th></th>\n",
              "      <th>n_count</th>\n",
              "    </tr>\n",
              "    <tr>\n",
              "      <th>lab</th>\n",
              "      <th></th>\n",
              "    </tr>\n",
              "  </thead>\n",
              "  <tbody>\n",
              "    <tr>\n",
              "      <th>Level 1</th>\n",
              "      <td>15.084270</td>\n",
              "    </tr>\n",
              "    <tr>\n",
              "      <th>Level 2</th>\n",
              "      <td>19.829412</td>\n",
              "    </tr>\n",
              "    <tr>\n",
              "      <th>Level 3</th>\n",
              "      <td>21.737245</td>\n",
              "    </tr>\n",
              "    <tr>\n",
              "      <th>Level 4</th>\n",
              "      <td>25.896985</td>\n",
              "    </tr>\n",
              "    <tr>\n",
              "      <th>Level 5</th>\n",
              "      <td>39.059633</td>\n",
              "    </tr>\n",
              "  </tbody>\n",
              "</table>\n",
              "</div>"
            ],
            "text/plain": [
              "           n_count\n",
              "lab               \n",
              "Level 1  15.084270\n",
              "Level 2  19.829412\n",
              "Level 3  21.737245\n",
              "Level 4  25.896985\n",
              "Level 5  39.059633"
            ]
          },
          "metadata": {},
          "execution_count": 55
        }
      ]
    },
    {
      "cell_type": "code",
      "metadata": {
        "colab": {
          "base_uri": "https://localhost:8080/",
          "height": 312
        },
        "id": "DIDRd16eOviW",
        "outputId": "021ef87b-64fe-419a-e2a0-28a9c7dbef41"
      },
      "source": [
        "a_dictionary = dict({'Difficult': (25.896985+39.059633)/2 , 'Medium': 21.737245, 'Easy': (15.084270+19.829412)/2})\n",
        "keys = a_dictionary.keys()\n",
        "values = a_dictionary.values()\n",
        "\n",
        "plt.bar(keys, values)\n",
        "plt.xlabel(\"Level of the Problem\")\n",
        "plt.ylabel(\"Average number of words\")\n",
        "plt.title(\"Average Count of Words corresponding to the levels\")"
      ],
      "execution_count": 59,
      "outputs": [
        {
          "output_type": "execute_result",
          "data": {
            "text/plain": [
              "Text(0.5, 1.0, 'Average Count of Words corresponding to the levels')"
            ]
          },
          "metadata": {},
          "execution_count": 59
        },
        {
          "output_type": "display_data",
          "data": {
            "image/png": "[encoded data removed]",
            "text/plain": [
              "<Figure size 432x288 with 1 Axes>"
            ]
          },
          "metadata": {
            "needs_background": "light"
          }
        }
      ]
    },
    {
      "cell_type": "code",
      "metadata": {
        "id": "nuB9Ac9zPoe-"
      },
      "source": [
        ""
      ],
      "execution_count": null,
      "outputs": []
    }
  ]
}