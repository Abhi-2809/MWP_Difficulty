{
  "nbformat": 4,
  "nbformat_minor": 0,
  "metadata": {
    "colab": {
      "name": "Words Extraction.ipynb",
      "provenance": []
    },
    "kernelspec": {
      "display_name": "Python 3",
      "name": "python3"
    },
    "language_info": {
      "name": "python"
    }
  },
  "cells": [
    {
      "cell_type": "code",
      "metadata": {
        "id": "j88dAxQWQU7T"
      },
      "source": [
        "import pandas as pd\n",
        "import numpy as np"
      ],
      "execution_count": null,
      "outputs": []
    },
    {
      "cell_type": "code",
      "metadata": {
        "id": "99i0qV5-QunX"
      },
      "source": [
        "df = pd.read_csv('/content/drive/MyDrive/MWP-Classification/MWP_Algebra_Dataset_Words_and_Values_extracted.csv')"
      ],
      "execution_count": null,
      "outputs": []
    },
    {
      "cell_type": "code",
      "metadata": {
        "id": "Su5HN3HEQztx"
      },
      "source": [
        "df.drop(columns=['Unnamed: 0','Unnamed: 0.1'],inplace=True)"
      ],
      "execution_count": null,
      "outputs": []
    },
    {
      "cell_type": "code",
      "metadata": {
        "colab": {
          "base_uri": "https://localhost:8080/",
          "height": 589
        },
        "id": "3cu55LXdRDFh",
        "outputId": "3054e64e-3a00-4725-8fb9-c3c1a9ad450c"
      },
      "source": [
        "df"
      ],
      "execution_count": null,
      "outputs": [
        {
          "data": {
            "text/html": [
              "<div>\n",
              "<style scoped>\n",
              "    .dataframe tbody tr th:only-of-type {\n",
              "        vertical-align: middle;\n",
              "    }\n",
              "\n",
              "    .dataframe tbody tr th {\n",
              "        vertical-align: top;\n",
              "    }\n",
              "\n",
              "    .dataframe thead th {\n",
              "        text-align: right;\n",
              "    }\n",
              "</style>\n",
              "<table border=\"1\" class=\"dataframe\">\n",
              "  <thead>\n",
              "    <tr style=\"text-align: right;\">\n",
              "      <th></th>\n",
              "      <th>Problem</th>\n",
              "      <th>Level</th>\n",
              "      <th>Type</th>\n",
              "      <th>Solution</th>\n",
              "      <th>Extracted Words</th>\n",
              "      <th>Extracted Values</th>\n",
              "    </tr>\n",
              "  </thead>\n",
              "  <tbody>\n",
              "    <tr>\n",
              "      <th>0</th>\n",
              "      <td>There are constants    alpha  and    beta  suc...</td>\n",
              "      <td>Level 5</td>\n",
              "      <td>Algebra</td>\n",
              "      <td>The numerator  x^2 - 80x + 1551  factors as  (...</td>\n",
              "      <td>['There', 'are', 'constants', 'alpha', 'and', ...</td>\n",
              "      <td>['2', '80', '1551', '2', '57', '2970']</td>\n",
              "    </tr>\n",
              "    <tr>\n",
              "      <th>1</th>\n",
              "      <td>The length of the segment between the points  ...</td>\n",
              "      <td>Level 5</td>\n",
              "      <td>Algebra</td>\n",
              "      <td>By the distance formula, the distance from  (2...</td>\n",
              "      <td>['The', 'length', 'of', 'the', 'segment', 'bet...</td>\n",
              "      <td>['2', '4', '4', '1', '2', '10']</td>\n",
              "    </tr>\n",
              "    <tr>\n",
              "      <th>2</th>\n",
              "      <td>Chewbacca has 20 pieces of cherry gum and 30 p...</td>\n",
              "      <td>Level 5</td>\n",
              "      <td>Algebra</td>\n",
              "      <td>If Chewbacca loses one pack of cherry gum, the...</td>\n",
              "      <td>['Chewbacca', 'has', 'pieces', 'of', 'cherry',...</td>\n",
              "      <td>['20', '30', '5']</td>\n",
              "    </tr>\n",
              "    <tr>\n",
              "      <th>3</th>\n",
              "      <td>For some constants  a  and  b,  let   [f(x) = ...</td>\n",
              "      <td>Level 5</td>\n",
              "      <td>Algebra</td>\n",
              "      <td>Setting  x = 3,  we get  f(3) = -1.  Since  -1...</td>\n",
              "      <td>['For', 'some', 'constants', 'a', 'and', 'b', ...</td>\n",
              "      <td>['2', '8', '3', '2']</td>\n",
              "    </tr>\n",
              "    <tr>\n",
              "      <th>4</th>\n",
              "      <td>Calculate the sum  1 + 3 + 5 +   cdots + 15 + ...</td>\n",
              "      <td>Level 2</td>\n",
              "      <td>Algebra</td>\n",
              "      <td>The arithmetic sequence 1, 3, 5,    dots , 17,...</td>\n",
              "      <td>['Calculate', 'the', 'sum', 'cdots']</td>\n",
              "      <td>['1', '3', '5', '15', '17']</td>\n",
              "    </tr>\n",
              "    <tr>\n",
              "      <th>...</th>\n",
              "      <td>...</td>\n",
              "      <td>...</td>\n",
              "      <td>...</td>\n",
              "      <td>...</td>\n",
              "      <td>...</td>\n",
              "      <td>...</td>\n",
              "    </tr>\n",
              "    <tr>\n",
              "      <th>1739</th>\n",
              "      <td>What is the slope of the line passing through ...</td>\n",
              "      <td>Level 2</td>\n",
              "      <td>Algebra</td>\n",
              "      <td>We have  m =   dfrac{y_2 - y_1}{x_2-x_1} =   d...</td>\n",
              "      <td>['What', 'is', 'the', 'slope', 'of', 'the', 'l...</td>\n",
              "      <td>['3', '5', '2', '5']</td>\n",
              "    </tr>\n",
              "    <tr>\n",
              "      <th>1740</th>\n",
              "      <td>Evaluate  i^{11} + i^{16} + i^{21} + i^{26} + ...</td>\n",
              "      <td>Level 4</td>\n",
              "      <td>Algebra</td>\n",
              "      <td>We know that by definition,  i^2=-1 , so  i^4=...</td>\n",
              "      <td>['Evaluate', 'i', 'i', 'i', 'i', 'i']</td>\n",
              "      <td>['11', '16', '21', '26', '31']</td>\n",
              "    </tr>\n",
              "    <tr>\n",
              "      <th>1741</th>\n",
              "      <td>If  a  is a constant such that  4x^2 - 12x + a...</td>\n",
              "      <td>Level 3</td>\n",
              "      <td>Algebra</td>\n",
              "      <td>If  4x^2 - 12x + a  is the square of a binomia...</td>\n",
              "      <td>['If', 'a', 'is', 'a', 'constant', 'such', 'th...</td>\n",
              "      <td>['4', '2', '12']</td>\n",
              "    </tr>\n",
              "    <tr>\n",
              "      <th>1742</th>\n",
              "      <td>Given  a   star b = a^2 + 2ab + b^2 , what is ...</td>\n",
              "      <td>Level 3</td>\n",
              "      <td>Algebra</td>\n",
              "      <td>Note that  a   star b = a^2 + 2ab + b^2 = (a +...</td>\n",
              "      <td>['Given', 'a', 'star', 'b', 'a', 'ab', 'b', 'w...</td>\n",
              "      <td>['2', '2', '2', '4', '6']</td>\n",
              "    </tr>\n",
              "    <tr>\n",
              "      <th>1743</th>\n",
              "      <td>The graph of the function  f(x)  is shown belo...</td>\n",
              "      <td>Level 5</td>\n",
              "      <td>Algebra</td>\n",
              "      <td>As shown by the graph, there are  3  values of...</td>\n",
              "      <td>['The', 'graph', 'of', 'the', 'function', 'f',...</td>\n",
              "      <td>['3', '7', '4', '0', '5', '0', '7', '10', '4',...</td>\n",
              "    </tr>\n",
              "  </tbody>\n",
              "</table>\n",
              "<p>1744 rows × 6 columns</p>\n",
              "</div>"
            ],
            "text/plain": [
              "                                               Problem   ...                                   Extracted Values\n",
              "0     There are constants    alpha  and    beta  suc...  ...             ['2', '80', '1551', '2', '57', '2970']\n",
              "1     The length of the segment between the points  ...  ...                    ['2', '4', '4', '1', '2', '10']\n",
              "2     Chewbacca has 20 pieces of cherry gum and 30 p...  ...                                  ['20', '30', '5']\n",
              "3     For some constants  a  and  b,  let   [f(x) = ...  ...                               ['2', '8', '3', '2']\n",
              "4     Calculate the sum  1 + 3 + 5 +   cdots + 15 + ...  ...                        ['1', '3', '5', '15', '17']\n",
              "...                                                 ...  ...                                                ...\n",
              "1739  What is the slope of the line passing through ...  ...                               ['3', '5', '2', '5']\n",
              "1740  Evaluate  i^{11} + i^{16} + i^{21} + i^{26} + ...  ...                     ['11', '16', '21', '26', '31']\n",
              "1741  If  a  is a constant such that  4x^2 - 12x + a...  ...                                   ['4', '2', '12']\n",
              "1742  Given  a   star b = a^2 + 2ab + b^2 , what is ...  ...                          ['2', '2', '2', '4', '6']\n",
              "1743  The graph of the function  f(x)  is shown belo...  ...  ['3', '7', '4', '0', '5', '0', '7', '10', '4',...\n",
              "\n",
              "[1744 rows x 6 columns]"
            ]
          },
          "execution_count": 5,
          "metadata": {},
          "output_type": "execute_result"
        }
      ]
    },
    {
      "cell_type": "code",
      "metadata": {
        "id": "uxG7X7B7RPL2"
      },
      "source": [
        "words = list(df['Extracted Words'])"
      ],
      "execution_count": null,
      "outputs": []
    },
    {
      "cell_type": "code",
      "metadata": {
        "id": "_q9xq_vnT5xc"
      },
      "source": [
        "list_extwords = []\n",
        "for i in range(len(df)):\n",
        "  newl=[]\n",
        "  l = list(words[i].split())\n",
        "  for w in l:\n",
        "    newl.append(re.sub('[^a-zA-Z]+', '', w))\n",
        "    \n",
        "  list_extwords.append(newl)  "
      ],
      "execution_count": 41,
      "outputs": []
    },
    {
      "cell_type": "code",
      "metadata": {
        "colab": {
          "base_uri": "https://localhost:8080/"
        },
        "id": "7Cyong_xT5u0",
        "outputId": "77400dc3-d43b-4196-e093-9f9c8c48a9bb"
      },
      "source": [
        "len(list_extwords)"
      ],
      "execution_count": 42,
      "outputs": [
        {
          "output_type": "execute_result",
          "data": {
            "text/plain": [
              "1744"
            ]
          },
          "metadata": {},
          "execution_count": 42
        }
      ]
    },
    {
      "cell_type": "code",
      "metadata": {
        "id": "UpkDCOGqT5qK",
        "colab": {
          "base_uri": "https://localhost:8080/",
          "height": 589
        },
        "outputId": "dc4d740b-923f-4c56-f2fe-c3d52307deda"
      },
      "source": [
        "df['Extracted words(List)'] = list_extwords\n",
        "df"
      ],
      "execution_count": 45,
      "outputs": [
        {
          "output_type": "execute_result",
          "data": {
            "text/html": [
              "<div>\n",
              "<style scoped>\n",
              "    .dataframe tbody tr th:only-of-type {\n",
              "        vertical-align: middle;\n",
              "    }\n",
              "\n",
              "    .dataframe tbody tr th {\n",
              "        vertical-align: top;\n",
              "    }\n",
              "\n",
              "    .dataframe thead th {\n",
              "        text-align: right;\n",
              "    }\n",
              "</style>\n",
              "<table border=\"1\" class=\"dataframe\">\n",
              "  <thead>\n",
              "    <tr style=\"text-align: right;\">\n",
              "      <th></th>\n",
              "      <th>Problem</th>\n",
              "      <th>Level</th>\n",
              "      <th>Type</th>\n",
              "      <th>Solution</th>\n",
              "      <th>Extracted Words</th>\n",
              "      <th>Extracted Values</th>\n",
              "      <th>Extracted words(List)</th>\n",
              "    </tr>\n",
              "  </thead>\n",
              "  <tbody>\n",
              "    <tr>\n",
              "      <th>0</th>\n",
              "      <td>There are constants    alpha  and    beta  suc...</td>\n",
              "      <td>Level 5</td>\n",
              "      <td>Algebra</td>\n",
              "      <td>The numerator  x^2 - 80x + 1551  factors as  (...</td>\n",
              "      <td>['There', 'are', 'constants', 'alpha', 'and', ...</td>\n",
              "      <td>['2', '80', '1551', '2', '57', '2970']</td>\n",
              "      <td>[There, are, constants, alpha, and, beta, such...</td>\n",
              "    </tr>\n",
              "    <tr>\n",
              "      <th>1</th>\n",
              "      <td>The length of the segment between the points  ...</td>\n",
              "      <td>Level 5</td>\n",
              "      <td>Algebra</td>\n",
              "      <td>By the distance formula, the distance from  (2...</td>\n",
              "      <td>['The', 'length', 'of', 'the', 'segment', 'bet...</td>\n",
              "      <td>['2', '4', '4', '1', '2', '10']</td>\n",
              "      <td>[The, length, of, the, segment, between, the, ...</td>\n",
              "    </tr>\n",
              "    <tr>\n",
              "      <th>2</th>\n",
              "      <td>Chewbacca has 20 pieces of cherry gum and 30 p...</td>\n",
              "      <td>Level 5</td>\n",
              "      <td>Algebra</td>\n",
              "      <td>If Chewbacca loses one pack of cherry gum, the...</td>\n",
              "      <td>['Chewbacca', 'has', 'pieces', 'of', 'cherry',...</td>\n",
              "      <td>['20', '30', '5']</td>\n",
              "      <td>[Chewbacca, has, pieces, of, cherry, gum, and,...</td>\n",
              "    </tr>\n",
              "    <tr>\n",
              "      <th>3</th>\n",
              "      <td>For some constants  a  and  b,  let   [f(x) = ...</td>\n",
              "      <td>Level 5</td>\n",
              "      <td>Algebra</td>\n",
              "      <td>Setting  x = 3,  we get  f(3) = -1.  Since  -1...</td>\n",
              "      <td>['For', 'some', 'constants', 'a', 'and', 'b', ...</td>\n",
              "      <td>['2', '8', '3', '2']</td>\n",
              "      <td>[For, some, constants, a, and, b, let, f, x, l...</td>\n",
              "    </tr>\n",
              "    <tr>\n",
              "      <th>4</th>\n",
              "      <td>Calculate the sum  1 + 3 + 5 +   cdots + 15 + ...</td>\n",
              "      <td>Level 2</td>\n",
              "      <td>Algebra</td>\n",
              "      <td>The arithmetic sequence 1, 3, 5,    dots , 17,...</td>\n",
              "      <td>['Calculate', 'the', 'sum', 'cdots']</td>\n",
              "      <td>['1', '3', '5', '15', '17']</td>\n",
              "      <td>[Calculate, the, sum, cdots]</td>\n",
              "    </tr>\n",
              "    <tr>\n",
              "      <th>...</th>\n",
              "      <td>...</td>\n",
              "      <td>...</td>\n",
              "      <td>...</td>\n",
              "      <td>...</td>\n",
              "      <td>...</td>\n",
              "      <td>...</td>\n",
              "      <td>...</td>\n",
              "    </tr>\n",
              "    <tr>\n",
              "      <th>1739</th>\n",
              "      <td>What is the slope of the line passing through ...</td>\n",
              "      <td>Level 2</td>\n",
              "      <td>Algebra</td>\n",
              "      <td>We have  m =   dfrac{y_2 - y_1}{x_2-x_1} =   d...</td>\n",
              "      <td>['What', 'is', 'the', 'slope', 'of', 'the', 'l...</td>\n",
              "      <td>['3', '5', '2', '5']</td>\n",
              "      <td>[What, is, the, slope, of, the, line, passing,...</td>\n",
              "    </tr>\n",
              "    <tr>\n",
              "      <th>1740</th>\n",
              "      <td>Evaluate  i^{11} + i^{16} + i^{21} + i^{26} + ...</td>\n",
              "      <td>Level 4</td>\n",
              "      <td>Algebra</td>\n",
              "      <td>We know that by definition,  i^2=-1 , so  i^4=...</td>\n",
              "      <td>['Evaluate', 'i', 'i', 'i', 'i', 'i']</td>\n",
              "      <td>['11', '16', '21', '26', '31']</td>\n",
              "      <td>[Evaluate, i, i, i, i, i]</td>\n",
              "    </tr>\n",
              "    <tr>\n",
              "      <th>1741</th>\n",
              "      <td>If  a  is a constant such that  4x^2 - 12x + a...</td>\n",
              "      <td>Level 3</td>\n",
              "      <td>Algebra</td>\n",
              "      <td>If  4x^2 - 12x + a  is the square of a binomia...</td>\n",
              "      <td>['If', 'a', 'is', 'a', 'constant', 'such', 'th...</td>\n",
              "      <td>['4', '2', '12']</td>\n",
              "      <td>[If, a, is, a, constant, such, that, x, x, a, ...</td>\n",
              "    </tr>\n",
              "    <tr>\n",
              "      <th>1742</th>\n",
              "      <td>Given  a   star b = a^2 + 2ab + b^2 , what is ...</td>\n",
              "      <td>Level 3</td>\n",
              "      <td>Algebra</td>\n",
              "      <td>Note that  a   star b = a^2 + 2ab + b^2 = (a +...</td>\n",
              "      <td>['Given', 'a', 'star', 'b', 'a', 'ab', 'b', 'w...</td>\n",
              "      <td>['2', '2', '2', '4', '6']</td>\n",
              "      <td>[Given, a, star, b, a, ab, b, what, is, the, v...</td>\n",
              "    </tr>\n",
              "    <tr>\n",
              "      <th>1743</th>\n",
              "      <td>The graph of the function  f(x)  is shown belo...</td>\n",
              "      <td>Level 5</td>\n",
              "      <td>Algebra</td>\n",
              "      <td>As shown by the graph, there are  3  values of...</td>\n",
              "      <td>['The', 'graph', 'of', 'the', 'function', 'f',...</td>\n",
              "      <td>['3', '7', '4', '0', '5', '0', '7', '10', '4',...</td>\n",
              "      <td>[The, graph, of, the, function, f, x, is, show...</td>\n",
              "    </tr>\n",
              "  </tbody>\n",
              "</table>\n",
              "<p>1744 rows × 7 columns</p>\n",
              "</div>"
            ],
            "text/plain": [
              "                                               Problem   ...                              Extracted words(List)\n",
              "0     There are constants    alpha  and    beta  suc...  ...  [There, are, constants, alpha, and, beta, such...\n",
              "1     The length of the segment between the points  ...  ...  [The, length, of, the, segment, between, the, ...\n",
              "2     Chewbacca has 20 pieces of cherry gum and 30 p...  ...  [Chewbacca, has, pieces, of, cherry, gum, and,...\n",
              "3     For some constants  a  and  b,  let   [f(x) = ...  ...  [For, some, constants, a, and, b, let, f, x, l...\n",
              "4     Calculate the sum  1 + 3 + 5 +   cdots + 15 + ...  ...                       [Calculate, the, sum, cdots]\n",
              "...                                                 ...  ...                                                ...\n",
              "1739  What is the slope of the line passing through ...  ...  [What, is, the, slope, of, the, line, passing,...\n",
              "1740  Evaluate  i^{11} + i^{16} + i^{21} + i^{26} + ...  ...                          [Evaluate, i, i, i, i, i]\n",
              "1741  If  a  is a constant such that  4x^2 - 12x + a...  ...  [If, a, is, a, constant, such, that, x, x, a, ...\n",
              "1742  Given  a   star b = a^2 + 2ab + b^2 , what is ...  ...  [Given, a, star, b, a, ab, b, what, is, the, v...\n",
              "1743  The graph of the function  f(x)  is shown belo...  ...  [The, graph, of, the, function, f, x, is, show...\n",
              "\n",
              "[1744 rows x 7 columns]"
            ]
          },
          "metadata": {},
          "execution_count": 45
        }
      ]
    },
    {
      "cell_type": "code",
      "metadata": {
        "id": "WUHYEWq3WDhQ"
      },
      "source": [
        "num = list(df['Extracted Values'])"
      ],
      "execution_count": 46,
      "outputs": []
    },
    {
      "cell_type": "code",
      "metadata": {
        "id": "-jzWOVMST5nJ"
      },
      "source": [
        "list_extnum = []\n",
        "for i in range(len(df)):\n",
        "  new2=[]\n",
        "  l = list(num[i].split())\n",
        "  for w in l:\n",
        "    new2.append(re.sub(\"[^0-9]\", \"\", w))\n",
        "    \n",
        "  list_extnum.append(new2) "
      ],
      "execution_count": 48,
      "outputs": []
    },
    {
      "cell_type": "code",
      "metadata": {
        "id": "-Gwg17QyT5h_",
        "colab": {
          "base_uri": "https://localhost:8080/",
          "height": 657
        },
        "outputId": "8acae906-193e-4b04-d8bb-0af8333c5aed"
      },
      "source": [
        "df['Extracted Num(List)'] = list_extnum\n",
        "df"
      ],
      "execution_count": 51,
      "outputs": [
        {
          "output_type": "execute_result",
          "data": {
            "text/html": [
              "<div>\n",
              "<style scoped>\n",
              "    .dataframe tbody tr th:only-of-type {\n",
              "        vertical-align: middle;\n",
              "    }\n",
              "\n",
              "    .dataframe tbody tr th {\n",
              "        vertical-align: top;\n",
              "    }\n",
              "\n",
              "    .dataframe thead th {\n",
              "        text-align: right;\n",
              "    }\n",
              "</style>\n",
              "<table border=\"1\" class=\"dataframe\">\n",
              "  <thead>\n",
              "    <tr style=\"text-align: right;\">\n",
              "      <th></th>\n",
              "      <th>Problem</th>\n",
              "      <th>Level</th>\n",
              "      <th>Type</th>\n",
              "      <th>Solution</th>\n",
              "      <th>Extracted Words</th>\n",
              "      <th>Extracted Values</th>\n",
              "      <th>Extracted words(List)</th>\n",
              "      <th>Extracted words(Num)</th>\n",
              "      <th>Extracted Num(List)</th>\n",
              "    </tr>\n",
              "  </thead>\n",
              "  <tbody>\n",
              "    <tr>\n",
              "      <th>0</th>\n",
              "      <td>There are constants    alpha  and    beta  suc...</td>\n",
              "      <td>Level 5</td>\n",
              "      <td>Algebra</td>\n",
              "      <td>The numerator  x^2 - 80x + 1551  factors as  (...</td>\n",
              "      <td>['There', 'are', 'constants', 'alpha', 'and', ...</td>\n",
              "      <td>['2', '80', '1551', '2', '57', '2970']</td>\n",
              "      <td>[There, are, constants, alpha, and, beta, such...</td>\n",
              "      <td>[2, 80, 1551, 2, 57, 2970]</td>\n",
              "      <td>[2, 80, 1551, 2, 57, 2970]</td>\n",
              "    </tr>\n",
              "    <tr>\n",
              "      <th>1</th>\n",
              "      <td>The length of the segment between the points  ...</td>\n",
              "      <td>Level 5</td>\n",
              "      <td>Algebra</td>\n",
              "      <td>By the distance formula, the distance from  (2...</td>\n",
              "      <td>['The', 'length', 'of', 'the', 'segment', 'bet...</td>\n",
              "      <td>['2', '4', '4', '1', '2', '10']</td>\n",
              "      <td>[The, length, of, the, segment, between, the, ...</td>\n",
              "      <td>[2, 4, 4, 1, 2, 10]</td>\n",
              "      <td>[2, 4, 4, 1, 2, 10]</td>\n",
              "    </tr>\n",
              "    <tr>\n",
              "      <th>2</th>\n",
              "      <td>Chewbacca has 20 pieces of cherry gum and 30 p...</td>\n",
              "      <td>Level 5</td>\n",
              "      <td>Algebra</td>\n",
              "      <td>If Chewbacca loses one pack of cherry gum, the...</td>\n",
              "      <td>['Chewbacca', 'has', 'pieces', 'of', 'cherry',...</td>\n",
              "      <td>['20', '30', '5']</td>\n",
              "      <td>[Chewbacca, has, pieces, of, cherry, gum, and,...</td>\n",
              "      <td>[20, 30, 5]</td>\n",
              "      <td>[20, 30, 5]</td>\n",
              "    </tr>\n",
              "    <tr>\n",
              "      <th>3</th>\n",
              "      <td>For some constants  a  and  b,  let   [f(x) = ...</td>\n",
              "      <td>Level 5</td>\n",
              "      <td>Algebra</td>\n",
              "      <td>Setting  x = 3,  we get  f(3) = -1.  Since  -1...</td>\n",
              "      <td>['For', 'some', 'constants', 'a', 'and', 'b', ...</td>\n",
              "      <td>['2', '8', '3', '2']</td>\n",
              "      <td>[For, some, constants, a, and, b, let, f, x, l...</td>\n",
              "      <td>[2, 8, 3, 2]</td>\n",
              "      <td>[2, 8, 3, 2]</td>\n",
              "    </tr>\n",
              "    <tr>\n",
              "      <th>4</th>\n",
              "      <td>Calculate the sum  1 + 3 + 5 +   cdots + 15 + ...</td>\n",
              "      <td>Level 2</td>\n",
              "      <td>Algebra</td>\n",
              "      <td>The arithmetic sequence 1, 3, 5,    dots , 17,...</td>\n",
              "      <td>['Calculate', 'the', 'sum', 'cdots']</td>\n",
              "      <td>['1', '3', '5', '15', '17']</td>\n",
              "      <td>[Calculate, the, sum, cdots]</td>\n",
              "      <td>[1, 3, 5, 15, 17]</td>\n",
              "      <td>[1, 3, 5, 15, 17]</td>\n",
              "    </tr>\n",
              "    <tr>\n",
              "      <th>...</th>\n",
              "      <td>...</td>\n",
              "      <td>...</td>\n",
              "      <td>...</td>\n",
              "      <td>...</td>\n",
              "      <td>...</td>\n",
              "      <td>...</td>\n",
              "      <td>...</td>\n",
              "      <td>...</td>\n",
              "      <td>...</td>\n",
              "    </tr>\n",
              "    <tr>\n",
              "      <th>1739</th>\n",
              "      <td>What is the slope of the line passing through ...</td>\n",
              "      <td>Level 2</td>\n",
              "      <td>Algebra</td>\n",
              "      <td>We have  m =   dfrac{y_2 - y_1}{x_2-x_1} =   d...</td>\n",
              "      <td>['What', 'is', 'the', 'slope', 'of', 'the', 'l...</td>\n",
              "      <td>['3', '5', '2', '5']</td>\n",
              "      <td>[What, is, the, slope, of, the, line, passing,...</td>\n",
              "      <td>[3, 5, 2, 5]</td>\n",
              "      <td>[3, 5, 2, 5]</td>\n",
              "    </tr>\n",
              "    <tr>\n",
              "      <th>1740</th>\n",
              "      <td>Evaluate  i^{11} + i^{16} + i^{21} + i^{26} + ...</td>\n",
              "      <td>Level 4</td>\n",
              "      <td>Algebra</td>\n",
              "      <td>We know that by definition,  i^2=-1 , so  i^4=...</td>\n",
              "      <td>['Evaluate', 'i', 'i', 'i', 'i', 'i']</td>\n",
              "      <td>['11', '16', '21', '26', '31']</td>\n",
              "      <td>[Evaluate, i, i, i, i, i]</td>\n",
              "      <td>[11, 16, 21, 26, 31]</td>\n",
              "      <td>[11, 16, 21, 26, 31]</td>\n",
              "    </tr>\n",
              "    <tr>\n",
              "      <th>1741</th>\n",
              "      <td>If  a  is a constant such that  4x^2 - 12x + a...</td>\n",
              "      <td>Level 3</td>\n",
              "      <td>Algebra</td>\n",
              "      <td>If  4x^2 - 12x + a  is the square of a binomia...</td>\n",
              "      <td>['If', 'a', 'is', 'a', 'constant', 'such', 'th...</td>\n",
              "      <td>['4', '2', '12']</td>\n",
              "      <td>[If, a, is, a, constant, such, that, x, x, a, ...</td>\n",
              "      <td>[4, 2, 12]</td>\n",
              "      <td>[4, 2, 12]</td>\n",
              "    </tr>\n",
              "    <tr>\n",
              "      <th>1742</th>\n",
              "      <td>Given  a   star b = a^2 + 2ab + b^2 , what is ...</td>\n",
              "      <td>Level 3</td>\n",
              "      <td>Algebra</td>\n",
              "      <td>Note that  a   star b = a^2 + 2ab + b^2 = (a +...</td>\n",
              "      <td>['Given', 'a', 'star', 'b', 'a', 'ab', 'b', 'w...</td>\n",
              "      <td>['2', '2', '2', '4', '6']</td>\n",
              "      <td>[Given, a, star, b, a, ab, b, what, is, the, v...</td>\n",
              "      <td>[2, 2, 2, 4, 6]</td>\n",
              "      <td>[2, 2, 2, 4, 6]</td>\n",
              "    </tr>\n",
              "    <tr>\n",
              "      <th>1743</th>\n",
              "      <td>The graph of the function  f(x)  is shown belo...</td>\n",
              "      <td>Level 5</td>\n",
              "      <td>Algebra</td>\n",
              "      <td>As shown by the graph, there are  3  values of...</td>\n",
              "      <td>['The', 'graph', 'of', 'the', 'function', 'f',...</td>\n",
              "      <td>['3', '7', '4', '0', '5', '0', '7', '10', '4',...</td>\n",
              "      <td>[The, graph, of, the, function, f, x, is, show...</td>\n",
              "      <td>[3, 7, 4, 0, 5, 0, 7, 10, 4, 4, 5, 66, 1, 05, ...</td>\n",
              "      <td>[3, 7, 4, 0, 5, 0, 7, 10, 4, 4, 5, 66, 1, 05, ...</td>\n",
              "    </tr>\n",
              "  </tbody>\n",
              "</table>\n",
              "<p>1744 rows × 9 columns</p>\n",
              "</div>"
            ],
            "text/plain": [
              "                                               Problem   ...                                Extracted Num(List)\n",
              "0     There are constants    alpha  and    beta  suc...  ...                         [2, 80, 1551, 2, 57, 2970]\n",
              "1     The length of the segment between the points  ...  ...                                [2, 4, 4, 1, 2, 10]\n",
              "2     Chewbacca has 20 pieces of cherry gum and 30 p...  ...                                        [20, 30, 5]\n",
              "3     For some constants  a  and  b,  let   [f(x) = ...  ...                                       [2, 8, 3, 2]\n",
              "4     Calculate the sum  1 + 3 + 5 +   cdots + 15 + ...  ...                                  [1, 3, 5, 15, 17]\n",
              "...                                                 ...  ...                                                ...\n",
              "1739  What is the slope of the line passing through ...  ...                                       [3, 5, 2, 5]\n",
              "1740  Evaluate  i^{11} + i^{16} + i^{21} + i^{26} + ...  ...                               [11, 16, 21, 26, 31]\n",
              "1741  If  a  is a constant such that  4x^2 - 12x + a...  ...                                         [4, 2, 12]\n",
              "1742  Given  a   star b = a^2 + 2ab + b^2 , what is ...  ...                                    [2, 2, 2, 4, 6]\n",
              "1743  The graph of the function  f(x)  is shown belo...  ...  [3, 7, 4, 0, 5, 0, 7, 10, 4, 4, 5, 66, 1, 05, ...\n",
              "\n",
              "[1744 rows x 9 columns]"
            ]
          },
          "metadata": {},
          "execution_count": 51
        }
      ]
    },
    {
      "cell_type": "code",
      "metadata": {
        "colab": {
          "base_uri": "https://localhost:8080/",
          "height": 589
        },
        "id": "2vjJ9ikRWnC3",
        "outputId": "6f669356-8607-4244-8b61-e9355dfaff85"
      },
      "source": [
        "df.drop(columns=['Extracted Words','Extracted Values','Extracted words(Num)'],inplace=True)\n",
        "df"
      ],
      "execution_count": 52,
      "outputs": [
        {
          "output_type": "execute_result",
          "data": {
            "text/html": [
              "<div>\n",
              "<style scoped>\n",
              "    .dataframe tbody tr th:only-of-type {\n",
              "        vertical-align: middle;\n",
              "    }\n",
              "\n",
              "    .dataframe tbody tr th {\n",
              "        vertical-align: top;\n",
              "    }\n",
              "\n",
              "    .dataframe thead th {\n",
              "        text-align: right;\n",
              "    }\n",
              "</style>\n",
              "<table border=\"1\" class=\"dataframe\">\n",
              "  <thead>\n",
              "    <tr style=\"text-align: right;\">\n",
              "      <th></th>\n",
              "      <th>Problem</th>\n",
              "      <th>Level</th>\n",
              "      <th>Type</th>\n",
              "      <th>Solution</th>\n",
              "      <th>Extracted words(List)</th>\n",
              "      <th>Extracted Num(List)</th>\n",
              "    </tr>\n",
              "  </thead>\n",
              "  <tbody>\n",
              "    <tr>\n",
              "      <th>0</th>\n",
              "      <td>There are constants    alpha  and    beta  suc...</td>\n",
              "      <td>Level 5</td>\n",
              "      <td>Algebra</td>\n",
              "      <td>The numerator  x^2 - 80x + 1551  factors as  (...</td>\n",
              "      <td>[There, are, constants, alpha, and, beta, such...</td>\n",
              "      <td>[2, 80, 1551, 2, 57, 2970]</td>\n",
              "    </tr>\n",
              "    <tr>\n",
              "      <th>1</th>\n",
              "      <td>The length of the segment between the points  ...</td>\n",
              "      <td>Level 5</td>\n",
              "      <td>Algebra</td>\n",
              "      <td>By the distance formula, the distance from  (2...</td>\n",
              "      <td>[The, length, of, the, segment, between, the, ...</td>\n",
              "      <td>[2, 4, 4, 1, 2, 10]</td>\n",
              "    </tr>\n",
              "    <tr>\n",
              "      <th>2</th>\n",
              "      <td>Chewbacca has 20 pieces of cherry gum and 30 p...</td>\n",
              "      <td>Level 5</td>\n",
              "      <td>Algebra</td>\n",
              "      <td>If Chewbacca loses one pack of cherry gum, the...</td>\n",
              "      <td>[Chewbacca, has, pieces, of, cherry, gum, and,...</td>\n",
              "      <td>[20, 30, 5]</td>\n",
              "    </tr>\n",
              "    <tr>\n",
              "      <th>3</th>\n",
              "      <td>For some constants  a  and  b,  let   [f(x) = ...</td>\n",
              "      <td>Level 5</td>\n",
              "      <td>Algebra</td>\n",
              "      <td>Setting  x = 3,  we get  f(3) = -1.  Since  -1...</td>\n",
              "      <td>[For, some, constants, a, and, b, let, f, x, l...</td>\n",
              "      <td>[2, 8, 3, 2]</td>\n",
              "    </tr>\n",
              "    <tr>\n",
              "      <th>4</th>\n",
              "      <td>Calculate the sum  1 + 3 + 5 +   cdots + 15 + ...</td>\n",
              "      <td>Level 2</td>\n",
              "      <td>Algebra</td>\n",
              "      <td>The arithmetic sequence 1, 3, 5,    dots , 17,...</td>\n",
              "      <td>[Calculate, the, sum, cdots]</td>\n",
              "      <td>[1, 3, 5, 15, 17]</td>\n",
              "    </tr>\n",
              "    <tr>\n",
              "      <th>...</th>\n",
              "      <td>...</td>\n",
              "      <td>...</td>\n",
              "      <td>...</td>\n",
              "      <td>...</td>\n",
              "      <td>...</td>\n",
              "      <td>...</td>\n",
              "    </tr>\n",
              "    <tr>\n",
              "      <th>1739</th>\n",
              "      <td>What is the slope of the line passing through ...</td>\n",
              "      <td>Level 2</td>\n",
              "      <td>Algebra</td>\n",
              "      <td>We have  m =   dfrac{y_2 - y_1}{x_2-x_1} =   d...</td>\n",
              "      <td>[What, is, the, slope, of, the, line, passing,...</td>\n",
              "      <td>[3, 5, 2, 5]</td>\n",
              "    </tr>\n",
              "    <tr>\n",
              "      <th>1740</th>\n",
              "      <td>Evaluate  i^{11} + i^{16} + i^{21} + i^{26} + ...</td>\n",
              "      <td>Level 4</td>\n",
              "      <td>Algebra</td>\n",
              "      <td>We know that by definition,  i^2=-1 , so  i^4=...</td>\n",
              "      <td>[Evaluate, i, i, i, i, i]</td>\n",
              "      <td>[11, 16, 21, 26, 31]</td>\n",
              "    </tr>\n",
              "    <tr>\n",
              "      <th>1741</th>\n",
              "      <td>If  a  is a constant such that  4x^2 - 12x + a...</td>\n",
              "      <td>Level 3</td>\n",
              "      <td>Algebra</td>\n",
              "      <td>If  4x^2 - 12x + a  is the square of a binomia...</td>\n",
              "      <td>[If, a, is, a, constant, such, that, x, x, a, ...</td>\n",
              "      <td>[4, 2, 12]</td>\n",
              "    </tr>\n",
              "    <tr>\n",
              "      <th>1742</th>\n",
              "      <td>Given  a   star b = a^2 + 2ab + b^2 , what is ...</td>\n",
              "      <td>Level 3</td>\n",
              "      <td>Algebra</td>\n",
              "      <td>Note that  a   star b = a^2 + 2ab + b^2 = (a +...</td>\n",
              "      <td>[Given, a, star, b, a, ab, b, what, is, the, v...</td>\n",
              "      <td>[2, 2, 2, 4, 6]</td>\n",
              "    </tr>\n",
              "    <tr>\n",
              "      <th>1743</th>\n",
              "      <td>The graph of the function  f(x)  is shown belo...</td>\n",
              "      <td>Level 5</td>\n",
              "      <td>Algebra</td>\n",
              "      <td>As shown by the graph, there are  3  values of...</td>\n",
              "      <td>[The, graph, of, the, function, f, x, is, show...</td>\n",
              "      <td>[3, 7, 4, 0, 5, 0, 7, 10, 4, 4, 5, 66, 1, 05, ...</td>\n",
              "    </tr>\n",
              "  </tbody>\n",
              "</table>\n",
              "<p>1744 rows × 6 columns</p>\n",
              "</div>"
            ],
            "text/plain": [
              "                                               Problem   ...                                Extracted Num(List)\n",
              "0     There are constants    alpha  and    beta  suc...  ...                         [2, 80, 1551, 2, 57, 2970]\n",
              "1     The length of the segment between the points  ...  ...                                [2, 4, 4, 1, 2, 10]\n",
              "2     Chewbacca has 20 pieces of cherry gum and 30 p...  ...                                        [20, 30, 5]\n",
              "3     For some constants  a  and  b,  let   [f(x) = ...  ...                                       [2, 8, 3, 2]\n",
              "4     Calculate the sum  1 + 3 + 5 +   cdots + 15 + ...  ...                                  [1, 3, 5, 15, 17]\n",
              "...                                                 ...  ...                                                ...\n",
              "1739  What is the slope of the line passing through ...  ...                                       [3, 5, 2, 5]\n",
              "1740  Evaluate  i^{11} + i^{16} + i^{21} + i^{26} + ...  ...                               [11, 16, 21, 26, 31]\n",
              "1741  If  a  is a constant such that  4x^2 - 12x + a...  ...                                         [4, 2, 12]\n",
              "1742  Given  a   star b = a^2 + 2ab + b^2 , what is ...  ...                                    [2, 2, 2, 4, 6]\n",
              "1743  The graph of the function  f(x)  is shown belo...  ...  [3, 7, 4, 0, 5, 0, 7, 10, 4, 4, 5, 66, 1, 05, ...\n",
              "\n",
              "[1744 rows x 6 columns]"
            ]
          },
          "metadata": {},
          "execution_count": 52
        }
      ]
    },
    {
      "cell_type": "code",
      "metadata": {
        "colab": {
          "base_uri": "https://localhost:8080/",
          "height": 17
        },
        "id": "2DHNBQ8dW4tI",
        "outputId": "7acc48d7-3c7b-4697-d53e-b43a617abdc9"
      },
      "source": [
        "from google.colab import files\n",
        "\n",
        "df.to_csv('MWP(Words and Values in List).csv')\n",
        "files.download('MWP(Words and Values in List).csv')"
      ],
      "execution_count": 53,
      "outputs": [
        {
          "output_type": "display_data",
          "data": {
            "application/javascript": [
              "\n",
              "    async function download(id, filename, size) {\n",
              "      if (!google.colab.kernel.accessAllowed) {\n",
              "        return;\n",
              "      }\n",
              "      const div = document.createElement('div');\n",
              "      const label = document.createElement('label');\n",
              "      label.textContent = `Downloading \"${filename}\": `;\n",
              "      div.appendChild(label);\n",
              "      const progress = document.createElement('progress');\n",
              "      progress.max = size;\n",
              "      div.appendChild(progress);\n",
              "      document.body.appendChild(div);\n",
              "\n",
              "      const buffers = [];\n",
              "      let downloaded = 0;\n",
              "\n",
              "      const channel = await google.colab.kernel.comms.open(id);\n",
              "      // Send a message to notify the kernel that we're ready.\n",
              "      channel.send({})\n",
              "\n",
              "      for await (const message of channel.messages) {\n",
              "        // Send a message to notify the kernel that we're ready.\n",
              "        channel.send({})\n",
              "        if (message.buffers) {\n",
              "          for (const buffer of message.buffers) {\n",
              "            buffers.push(buffer);\n",
              "            downloaded += buffer.byteLength;\n",
              "            progress.value = downloaded;\n",
              "          }\n",
              "        }\n",
              "      }\n",
              "      const blob = new Blob(buffers, {type: 'application/binary'});\n",
              "      const a = document.createElement('a');\n",
              "      a.href = window.URL.createObjectURL(blob);\n",
              "      a.download = filename;\n",
              "      div.appendChild(a);\n",
              "      a.click();\n",
              "      div.remove();\n",
              "    }\n",
              "  "
            ],
            "text/plain": [
              "<IPython.core.display.Javascript object>"
            ]
          },
          "metadata": {}
        },
        {
          "output_type": "display_data",
          "data": {
            "application/javascript": [
              "download(\"download_5c3f8c70-804b-47d9-984e-a1a75fc8c396\", \"MWP(Words and Values in List).csv\", 1383286)"
            ],
            "text/plain": [
              "<IPython.core.display.Javascript object>"
            ]
          },
          "metadata": {}
        }
      ]
    },
    {
      "cell_type": "code",
      "metadata": {
        "id": "C9PFmKvSXK8B"
      },
      "source": [
        "math_words = df['Extracted words(List)']"
      ],
      "execution_count": 54,
      "outputs": []
    },
    {
      "cell_type": "code",
      "metadata": {
        "id": "qploujB6XZhi"
      },
      "source": [
        "math_words = [s for l in math_words for s in l]"
      ],
      "execution_count": 56,
      "outputs": []
    },
    {
      "cell_type": "code",
      "metadata": {
        "colab": {
          "base_uri": "https://localhost:8080/"
        },
        "id": "KEgJYYWWXr3n",
        "outputId": "260b6c58-6359-48e8-8afb-1bfe519e2c3b"
      },
      "source": [
        "len(math_words)"
      ],
      "execution_count": 57,
      "outputs": [
        {
          "output_type": "execute_result",
          "data": {
            "text/plain": [
              "45285"
            ]
          },
          "metadata": {},
          "execution_count": 57
        }
      ]
    },
    {
      "cell_type": "code",
      "metadata": {
        "id": "pL8zRVUGZIb4"
      },
      "source": [
        "from nltk.corpus import stopwords\n",
        "m = [word for word in math_words if word not in stopwords.words('english')]"
      ],
      "execution_count": 66,
      "outputs": []
    },
    {
      "cell_type": "code",
      "metadata": {
        "colab": {
          "base_uri": "https://localhost:8080/"
        },
        "id": "WQQmYVXmZOHA",
        "outputId": "d79a37d7-750f-48c9-d278-ce04d90308a6"
      },
      "source": [
        "import collections\n",
        "from collections import Counter\n",
        "count = dict(Counter(m))\n",
        "print(count)"
      ],
      "execution_count": 74,
      "outputs": [
        {
          "output_type": "stream",
          "name": "stdout",
          "text": [
            "{'There': 15, 'constants': 16, 'alpha': 11, 'beta': 11, 'frac': 573, 'x': 2675, 'What': 597, 'The': 336, 'length': 28, 'segment': 27, 'points': 96, 'sqrt': 320, 'units': 50, 'product': 79, 'possible': 85, 'values': 100, 'Chewbacca': 2, 'pieces': 8, 'cherry': 3, 'gum': 7, 'grape': 3, 'Some': 2, 'complete': 8, 'packs': 2, 'others': 1, 'loose': 1, 'Each': 23, 'pack': 2, 'exactly': 24, 'If': 356, 'loses': 1, 'one': 91, 'ratio': 27, 'number': 147, 'instead': 3, 'finds': 3, 'Find': 242, 'For': 65, 'b': 518, 'let': 7, 'f': 544, 'left': 101, 'begin': 66, 'array': 40, 'cl': 16, 'ax': 56, 'text': 105, 'ge': 11, 'end': 86, 'right': 103, 'function': 72, 'property': 5, 'Calculate': 14, 'sum': 248, 'cdots': 25, 'area': 58, 'circle': 29, 'center': 21, 'P': 67, 'passing': 4, 'Q': 14, 'Express': 186, 'answer': 203, 'terms': 70, 'pi': 16, 'asy': 110, 'size': 94, 'pair': 44, 'string': 11, 'stringpair': 3, 'p': 193, 'return': 32, 'draw': 191, 'Arrows': 113, 'dot': 85, 'SE': 20, 'linewidth': 73, 'NW': 20, 'positive': 163, 'value': 443, 'n': 234, 'equation': 183, 'nx': 5, 'solution': 27, 'leading': 1, 'coefficient': 13, 'polynomial': 24, 'simplified': 21, 'greatest': 37, 'Bank': 4, 'Springfield': 1, 'Super': 1, 'High': 1, 'Yield': 1, 'savings': 2, 'account': 9, 'compounds': 11, 'annually': 11, 'rate': 34, 'percent': 15, 'Lisa': 2, 'invests': 3, 'dollars': 31, 'accounts': 1, 'much': 21, 'interest': 31, 'earn': 10, 'five': 27, 'years': 45, 'Give': 7, 'nearest': 35, 'dollar': 15, 'decimal': 25, 'Define': 14, 'N': 48, 'formula': 4, 'Evaluate': 77, 'lfloor': 51, 'rfloor': 51, 'diamondsuit': 2, 'integers': 186, 'inclusive': 8, 'Given': 48, 'integer': 108, 'roots': 36, 'find': 87, 'average': 19, 'distinct': 21, 'M': 14, 'midpoint': 22, 'overline': 17, 'AB': 17, 'A': 306, 'endpoint': 9, 'coordinates': 54, 'point': 108, 'B': 165, 'Two': 13, 'parabolas': 4, 'graphs': 19, 'equations': 22, 'intersect': 20, 'List': 4, 'order': 27, 'increasing': 10, 'coordinate': 23, 'separated': 6, 'semicolons': 3, 'An': 9, 'infinite': 14, 'geometric': 46, 'series': 22, 'first': 88, 'term': 88, 'second': 37, 'four': 36, 'times': 56, 'k': 96, 'make': 16, 'square': 96, 'binomial': 8, 'quotient': 2, 'two': 192, 'larger': 10, 'system': 14, 'align': 48, 'compute': 4, 'Solve': 52, 'cdot': 105, 'bx': 43, 'Kimberly': 2, 'borrows': 2, 'Lucy': 1, 'charged': 3, 'per': 55, 'month': 10, 'monthly': 2, 'least': 29, 'months': 3, 'owe': 3, 'twice': 22, 'borrowed': 4, 'defined': 48, 'c': 287, 'common': 89, 'fraction': 94, 'three': 90, 'quadratic': 42, 'real': 430, 'squares': 25, 'lowest': 6, 'gon': 6, 'drawn': 12, 'Cartesian': 11, 'plane': 22, 'vertices': 19, 'equals': 10, 'midpoints': 7, 'sides': 16, 'form': 106, 'Finally': 3, 'third': 19, 'remainder': 2, 'counting': 2, 'numbers': 123, 'divided': 4, 'multiplied': 4, 'like': 4, 'combined': 4, 'largest': 30, 'less': 34, 'equal': 40, 'example': 12, 'tfrac': 1, 'range': 25, 'interval': 35, 'notation': 28, 'log': 40, 'Line': 3, 'parallel': 11, 'line': 94, 'passes': 15, 'intercept': 18, 'solutions': 66, 'natural': 2, 'expression': 70, 'smallest': 31, 'domain': 32, 'Let': 108, 'cases': 34, 'le': 37, 'graph': 156, 'continuous': 4, 'means': 6, 'without': 6, 'lifting': 4, 'pencil': 6, 'paper': 5, 'clubsuit': 7, 'perpendicular': 11, 'whose': 21, 'Suppose': 46, 'inversely': 22, 'proportional': 17, 'ldots': 15, 'called': 3, 'triangular': 3, 'shown': 30, 'geometrically': 1, 'th': 24, 'label': 164, 'give': 7, 'minimum': 15, 'Laura': 2, 'training': 1, 'triathlon': 1, 'feel': 3, 'swimming': 2, 'She': 11, 'bikes': 1, 'miles': 46, 'hour': 33, 'spends': 2, 'minutes': 25, 'parking': 1, 'bike': 7, 'changing': 2, 'running': 2, 'shoes': 1, 'catching': 1, 'drink': 2, 'water': 4, 'runs': 1, 'Her': 2, 'total': 52, 'workout': 1, 'lasts': 2, 'How': 117, 'fast': 2, 'run': 4, 'hundredth': 10, 'mile': 6, 'You': 5, 'may': 5, 'use': 8, 'calculator': 4, 'problem': 6, 'enclosed': 10, 'region': 15, 'Wanda': 2, 'trying': 5, 'locate': 2, 'Fermat': 4, 'triangle': 26, 'ABC': 5, 'origin': 11, 'C': 106, 'distances': 4, 'minimized': 3, 'guesses': 2, 'computes': 2, 'obtains': 3, 'sp': 10, 'defaultpen': 26, 'fontsize': 39, 'cycle': 39, 'dashed': 8, 'S': 32, 'Krzysztof': 1, 'solved': 4, 'completing': 4, 'In': 47, 'process': 4, 'came': 2, 'equivalent': 6, 'r': 107, 'Simplify': 47, 'following': 51, 'degrees': 6, 'decreasing': 9, 'lies': 5, 'many': 195, 'written': 31, 'mx': 16, 'mb': 1, 'add': 16, 'shift': 16, 'grid': 21, 'E': 56, 'blue': 12, 'diagram': 4, 'unit': 14, 'regular': 5, 'polygon': 1, 'nine': 5, 'diagonals': 1, 'q': 55, 'particular': 6, 'novel': 2, 'contains': 12, 'words': 2, 'author': 1, 'completed': 1, 'hours': 50, 'write': 8, 'lines': 28, 'Assume': 6, 'ticklen': 13, 'tickspace': 13, 'ticklength': 39, 'cm': 61, 'axisarrowsize': 65, 'pen': 63, 'axispen': 65, 'black': 56, 'bp': 49, 'vectorarrowsize': 13, 'tickdown': 26, 'tickdownlength': 13, 'inch': 18, 'tickdownbase': 13, 'wholetickdown': 13, 'void': 15, 'rr': 26, 'cartesian': 26, 'axes': 29, 'xleft': 65, 'xright': 91, 'ybottom': 65, 'ytop': 91, 'xstep': 39, 'ystep': 39, 'bool': 39, 'useticks': 26, 'false': 52, 'complexplane': 26, 'usegrid': 26, 'true': 138, 'import': 30, 'textnormal': 26, 'Re': 13, 'Im': 13, 'else': 26, 'ylimits': 13, 'xlimits': 13, 'TicksArrx': 52, 'TicksArry': 52, 'abs': 33, 'push': 26, 'xaxis': 29, 'BottomTop': 13, 'extend': 52, 'Ticks': 82, 'pTick': 52, 'gray': 27, 'invisible': 26, 'yaxis': 29, 'LeftRight': 13, 'xequals': 26, 'ymin': 93, 'ymax': 93, 'Size': 50, 'yequals': 26, 'xmin': 100, 'xmax': 105, 'operator': 10, 'red': 49, 'operation': 18, 'fourth': 9, 'sequence': 95, 'respectively': 18, 'varies': 5, 'tx': 2, 'factored': 3, 'bowtie': 4, 'g': 151, 'entire': 5, 'satisfy': 32, 'lsf': 13, 'dps': 24, 'ds': 19, 'Label': 15, 'laxis': 48, 'Step': 24, 'OmitTick': 4, 'BeginArrow': 1, 'EndArrow': 15, 'NE': 5, 'clip': 12, 'Addison': 2, 'age': 21, 'Brenda': 4, 'Janet': 2, 'six': 12, 'older': 4, 'twins': 1, 'old': 15, 'Mackenzie': 1, 'bought': 4, 'feet': 61, 'fencing': 10, 'enclose': 3, 'rectangular': 21, 'garden': 3, 'lengths': 11, 'maximum': 17, 'ast': 2, 'ab': 27, 'difference': 44, 'portion': 13, 'G': 10, 'distance': 47, 'Compute': 33, 'dfrac': 33, 'BoatsRUs': 2, 'built': 8, 'canoes': 10, 'January': 2, 'year': 20, 'subsequent': 5, 'calendar': 2, 'previous': 8, 'May': 1, 'define': 9, 'When': 29, 'dividing': 4, 'integral': 4, 'inequalities': 2, 'F': 14, 'cfrac': 7, 'Which': 5, 'closest': 5, 'cube': 4, 'root': 12, 'halfway': 1, 'certain': 11, 'vertex': 14, 'parabola': 24, 'intercepts': 8, 'Lee': 1, 'cookies': 2, 'cups': 3, 'flour': 7, 'satisfies': 18, 'simplest': 22, 'fractional': 10, 'On': 39, 'map': 2, 'centimeter': 2, 'represents': 9, 'kilometers': 2, 'represent': 2, 'Rationalize': 13, 'denominator': 23, 'D': 50, 'divisible': 8, 'prime': 17, 'begins': 5, 'It': 11, 'long': 10, 'ends': 4, 'Expand': 20, 'going': 2, 'needs': 10, 'stop': 3, 'way': 3, 'far': 5, 'travel': 10, 'lceil': 35, 'rceil': 35, 'From': 2, 'l': 5, 'reach': 7, 'cse': 1, 'olympiad': 2, 'Engineers': 1, 'L': 2, 'T': 2, 'H': 6, 'crushing': 1, 'load': 1, 'pillars': 1, 'bahs': 2, 'rahs': 2, 'yahs': 2, 'radius': 13, 'digit': 21, 'digits': 4, 'radical': 10, 'z': 89, 'Ax': 5, 'Bx': 6, 'neq': 10, 'Note': 8, 'denotes': 2, 'greater': 11, 'solve': 5, 'rounded': 8, 'piecewise': 3, 'displaystyle': 30, 'slope': 22, 'unitsize': 4, 'R': 2, 'PQR': 1, 'consecutive': 23, 'describes': 7, 'height': 47, 'projectile': 6, 'launched': 3, 'ground': 13, 'upward': 3, 'seconds': 15, 'ball': 28, 'travels': 8, 'parabolic': 3, 'path': 4, 'given': 25, 'time': 23, 'launch': 3, 'functions': 12, 'labelled': 1, 'labels': 2, 'invertible': 4, 'pt': 12, 'picture': 6, 'pic': 32, 'h': 55, 'atan': 2, 'Alex': 9, 'gives': 5, 'Bob': 11, 'penny': 3, 'pennies': 3, 'currently': 1, 'graphed': 3, 'Vertex': 1, 'zeros': 6, 'thirds': 2, 'people': 12, 'room': 9, 'seated': 1, 'fourths': 1, 'chairs': 2, 'rest': 4, 'standing': 6, 'empty': 1, 'Without': 2, 'using': 10, 'stack': 2, 'logs': 4, 'bottom': 2, 'row': 12, 'successive': 7, 'ending': 1, 'top': 3, 'Max': 1, 'new': 22, 'dirt': 1, 'paid': 3, 'cost': 25, 'upfront': 1, 'price': 19, 'degree': 25, 'dx': 1, 'e': 14, 'letters': 3, 'nonzero': 12, 'dropped': 5, 'high': 4, 'always': 3, 'bounces': 7, 'back': 9, 'half': 18, 'fell': 2, 'After': 16, 'foot': 7, 'colony': 3, 'bacteria': 13, 'doubles': 2, 'every': 16, 'day': 50, 'starts': 4, 'pairs': 7, 'xy': 28, 'pm': 6, 'completely': 3, 'arithmetic': 38, 'mean': 5, 'satisfying': 9, 'follows': 5, 'ordered': 28, 'traveling': 2, 'taxi': 2, 'Ann': 2, 'fare': 2, 'Assuming': 6, 'directly': 5, 'traveled': 4, 'would': 21, 'Write': 5, 'Ay': 1, 'By': 3, 'intersection': 12, 'Antonette': 1, 'gets': 8, 'test': 10, 'tests': 1, 'overall': 3, 'score': 6, 'engineer': 1, 'invested': 7, 'certificate': 3, 'simple': 7, 'annual': 12, 'investment': 5, 'another': 7, 'worth': 1, 'endpoints': 16, 'gravitational': 3, 'force': 6, 'Earth': 4, 'exerts': 2, 'object': 2, 'Bill': 4, 'surface': 3, 'Newtons': 2, 'moon': 1, 'earth': 1, 'cans': 13, 'layers': 1, 'display': 5, 'supermarket': 1, 'layer': 2, 'next': 6, 'added': 21, 'numerator': 5, 'resulting': 13, 'Your': 3, 'bi': 8, 'independently': 1, 'selected': 3, 'set': 8, 'probability': 3, 'negative': 9, 'Jo': 4, 'adds': 8, 'Kate': 4, 'similar': 2, 'thing': 2, 'however': 2, 'rounds': 2, 'multiple': 11, 'rounding': 2, 'Monday': 10, 'Jessica': 2, 'told': 4, 'friends': 8, 'secret': 5, 'Tuesday': 9, 'student': 5, 'heard': 1, 'week': 14, 'students': 12, 'know': 4, 'perfect': 4, 'nabla': 12, 'Points': 3, 'dimes': 1, 'quarters': 2, 'money': 18, 'cubic': 10, 'yard': 2, 'One': 7, 'currentprojection': 1, 'orthographic': 1, 'Cu': 2, 'ft': 4, 'yd': 1, 'W': 13, 'O': 8, 'linear': 5, 'factors': 6, 'coefficients': 9, 'statement': 1, 'xz': 5, 'yz': 6, 'xyz': 6, 'falls': 2, 'rise': 1, 'denote': 4, 'Homewood': 1, 'Middle': 1, 'School': 2, 'attend': 3, 'summer': 6, 'picnic': 3, 'girls': 7, 'school': 9, 'boys': 6, 'either': 5, 'boy': 1, 'girl': 1, 'lunks': 2, 'traded': 1, 'kunks': 2, 'buy': 13, 'apples': 7, 'needed': 6, 'purchase': 5, 'dozen': 2, 'Their': 3, 'Circles': 1, 'centers': 1, 'tangent': 2, 'axis': 15, 'circles': 6, 'yards': 4, 'starting': 2, 'million': 2, 'alternatively': 1, 'multiplying': 2, 'Anisha': 1, 'created': 3, 'last': 12, 'small': 5, 'grocer': 1, 'makes': 8, 'lower': 1, 'rows': 5, 'contain': 4, 'inequality': 5, 'leq': 9, 'geq': 8, 'recent': 2, 'basketball': 1, 'game': 4, 'Shenille': 2, 'attempted': 2, 'shots': 9, 'successful': 1, 'Frood': 1, 'dropping': 3, 'froods': 5, 'scores': 2, 'Eating': 1, 'earns': 4, 'eating': 2, 'v': 12, 'undefined': 5, 'hot': 1, 'Megan': 2, 'likes': 1, 'eat': 6, 'Popsicle': 1, 'keeps': 1, 'consumption': 1, 'Popsicles': 1, 'finish': 7, 'dots': 18, 'vertical': 10, 'asymptotes': 3, 'Uri': 1, 'buys': 7, 'burgers': 3, 'soda': 3, 'Gen': 1, 'burger': 3, 'sodas': 2, 'cents': 11, 'Kevin': 1, 'Kangaroo': 1, 'hopping': 1, 'He': 9, 'wants': 10, 'get': 17, 'hop': 3, 'tires': 1, 'continues': 7, 'remaining': 4, 'hopped': 1, 'hops': 1, 'Lauren': 2, 'Meanwhile': 3, 'Jane': 1, 'Alice': 1, 'beneath': 1, 'Four': 8, 'div': 12, 'consists': 5, 'also': 5, 'formed': 4, 'st': 4, 'Dr': 1, 'Fu': 1, 'Manchu': 1, 'bank': 16, 'valued': 3, 'fractions': 9, 'mixed': 3, 'decimals': 2, 'thirteenth': 2, 'fiftieth': 1, 'kx': 13, 'Mary': 3, 'mow': 4, 'lawn': 5, 'Tom': 2, 'works': 12, 'alone': 1, 'part': 5, 'remains': 1, 'mowed': 1, 'fully': 4, 'iz': 4, 'Margo': 2, 'walks': 1, 'friend': 12, 'house': 11, 'Using': 3, 'route': 2, 'takes': 15, 'home': 6, 'walking': 2, 'trip': 9, 'walk': 7, 'result': 8, 'table': 6, 'tabular': 10, 'hline': 11, 'exists': 6, 'Circle': 5, 'located': 5, 'diameter': 4, 'results': 3, 'original': 13, 'removed': 2, 'differ': 4, 'median': 1, 'Consider': 10, 'plot': 1, 'regions': 1, 'split': 2, 'horizontal': 1, 'asymptote': 3, 'organism': 2, 'cells': 6, 'cell': 2, 'splits': 5, 'becomes': 2, 'days': 21, 'At': 24, 'This': 5, 'die': 4, 'expressed': 17, 'ne': 2, 'star': 26, 'Berengere': 2, 'American': 3, 'foreign': 1, 'exchange': 1, 'Emily': 5, 'bakery': 2, 'Paris': 1, 'accepts': 1, 'euros': 3, 'They': 2, 'want': 2, 'cake': 3, 'neither': 1, 'enough': 3, 'costs': 14, 'bill': 5, 'need': 2, 'contribute': 1, 'euro': 1, 'USD': 1, 'rational': 4, 'answers': 4, 'commas': 4, 'Rewrite': 2, 'j': 26, 'Real': 4, 'even': 14, 'algebra': 2, 'problems': 9, 'Lucky': 1, 'Lacy': 1, 'missed': 1, 'correct': 5, 'odot': 3, 'Jana': 1, 'tenth': 9, 'cqcqcq': 20, 'rgb': 10, 'gs': 30, 'linetype': 11, 'gx': 60, 'gy': 60, 'ceil': 20, 'floor': 23, 'NoZero': 20, 'overlaid': 1, 'X': 3, 'Y': 6, 'grouped': 1, 'XY': 3, 'alphabet': 1, 'assigned': 1, 'random': 1, 'word': 1, 'comes': 2, 'MATH': 1, 'TEAM': 1, 'MEET': 1, 'Factor': 13, 'fifth': 9, 'eighth': 5, 'non': 8, 'zero': 9, 'city': 1, 'taxation': 1, 'tax': 4, 'collected': 3, 'income': 4, 'thousand': 1, 'yield': 2, 'take': 21, 'pay': 12, 'Take': 1, 'minus': 2, 'Daniel': 7, 'electronics': 1, 'store': 6, 'claims': 2, 'popularity': 1, 'toaster': 3, 'measured': 2, 'sales': 2, 'customers': 3, 'according': 2, 'theory': 1, 'Point': 6, 'chosen': 2, 'rectangle': 19, 'dimensions': 6, 'numerically': 1, 'perimeter': 15, 'Susie': 3, 'invest': 7, 'Pretty': 2, 'Penny': 2, 'Five': 2, 'Dime': 1, 'originally': 2, 'different': 12, 'smaller': 8, 'expansion': 7, 'rotated': 1, 'shifted': 4, 'June': 6, 'Julia': 2, 'live': 2, 'apart': 3, 'ride': 5, 'Bernard': 1, 'constant': 17, 'improper': 4, 'precedes': 1, 'All': 2, 'triangles': 2, 'Delta': 9, 'bigcirc': 8, 'scale': 3, 'drawing': 2, 'park': 1, 'shows': 1, 'inches': 15, 'although': 1, 'necessarily': 7, 'entering': 2, 'character': 2, 'must': 28, 'parentheses': 2, 'brackets': 2, 'enter': 3, 'bounded': 3, 'appear': 1, 'appears': 1, 'Of': 2, 'sequences': 7, 'Three': 6, 'Completely': 5, 'factor': 9, 'assuming': 5, 'Then': 4, 'borrow': 1, 'options': 1, 'ten': 9, 'loan': 4, 'compounded': 10, 'quarterly': 5, 'condition': 3, 'payment': 3, 'owes': 2, 'accrue': 1, 'balance': 8, 'lump': 1, 'amounts': 2, 'schemes': 1, 'Round': 2, 'Joe': 5, 'studying': 1, 'population': 3, 'present': 2, 'none': 3, 'ac': 5, 'bc': 7, 'abc': 2, 'exception': 1, 'stages': 1, 'pattern': 5, 'toothpick': 1, 'stage': 3, 'toothpicks': 2, 'arrangement': 2, 'necessary': 4, 'create': 2, 'drawSquare': 2, 'int': 10, 'inverse': 11, 'evaluate': 5, 'whole': 9, 'squirrel': 2, 'We': 6, 'odd': 11, 'mn': 2, 'decrease': 2, 'increase': 4, 'multiply': 3, 'complex': 7, 'u': 16, 'solves': 1, 'single': 3, 'exist': 1, 'Since': 1, 'representing': 1, 'thrown': 5, 'downward': 2, 'Mars': 1, 'hit': 4, 'possibilities': 1, 'coincides': 1, 'side': 26, 'lie': 7, 'nonnegative': 5, 'corresponding': 2, 'measles': 2, 'reported': 4, 'U': 1, 'decreased': 2, 'linearly': 1, 'width': 34, 'products': 3, 'cd': 4, 'da': 2, 'Z': 7, 'XZ': 1, 'ZY': 1, 'eight': 6, 'double': 6, 'subtract': 4, 'opposite': 2, 'fg': 1, 'gh': 1, 'hj': 1, 'fj': 1, 'Jose': 2, 'yearly': 3, 'Patricia': 2, 'period': 4, 'To': 12, 'ounces': 7, 'pure': 1, 'acid': 2, 'Salt': 1, 'Lake': 1, 'UT': 1, 'temperature': 4, 'past': 2, 'noon': 1, 'Starting': 1, 'Shaffiq': 1, 'repeatedly': 3, 'divides': 1, 'reaches': 1, 'Also': 2, 'inverses': 1, 'volumes': 3, 'Theodore': 1, 'Sturgeon': 1, 'available': 3, 'paperback': 1, 'hardcover': 2, 'Theresa': 1, 'copy': 1, 'Ramon': 1, 'sells': 2, 'enchiladas': 3, 'tacos': 3, 'fixed': 2, 'item': 1, 'bf': 3, 'primes': 1, 'ones': 2, 'Anton': 4, 'species': 2, 'ants': 5, 'Species': 5, 'ant': 3, 'farm': 3, 'identical': 11, 'appearance': 1, 'knows': 3, 'Day': 2, 'counts': 2, 'mathematical': 1, 'conditions': 2, 'apply': 1, 'chess': 4, 'team': 4, 'members': 14, 'However': 2, 'attended': 6, 'meeting': 2, 'radicals': 1, 'Mark': 4, 'everyday': 1, 'Jim': 2, 'weight': 6, 'pounds': 20, 'weigh': 16, 'Hardey': 1, 'Fitness': 1, 'Center': 1, 'management': 1, 'survey': 1, 'membership': 2, 'female': 3, 'male': 2, 'field': 5, 'obtained': 5, 'writing': 2, 'pq': 6, 'Quantities': 1, 'vary': 3, 'thousandths': 1, 'Cookie': 2, 'Monster': 2, 'encounters': 2, 'cookie': 10, 'boundary': 3, 'confused': 2, 'lunch': 2, 'sized': 4, 'snack': 2, 'quad': 15, 'otherwise': 3, 'polynomials': 9, 'CB': 1, 'Ap': 1, 'Bp': 1, 'Cp': 1, 'possibly': 1, 'standard': 3, 'lab': 1, 'dish': 2, 'My': 6, 'I': 34, 'math': 6, 'homework': 13, 'work': 15, 'loosen': 3, 'bolt': 3, 'handle': 2, 'wrench': 3, 'used': 7, 'requires': 2, 'require': 1, 'reciprocal': 2, 'divisor': 3, 'express': 6, 'Mickey': 2, 'Jerry': 2, 'reciprocals': 4, 'w': 19, 'wx': 1, 'Academic': 1, 'Academy': 1, 'pass': 2, 'miss': 1, 'still': 2, 'simplifying': 2, 'occur': 1, 'py': 1, 'mnp': 1, 'randomly': 1, 'pick': 3, 'choose': 1, 'super': 2, 'window': 1, 'meters': 7, 'bounce': 1, 'rises': 1, 'preceding': 3, 'caught': 1, 'reached': 2, 'hitting': 1, 'meter': 1, 'travelled': 1, 'containing': 8, 'exceeds': 2, 'ay': 3, 'lowerx': 3, 'upperx': 3, 'lowery': 12, 'uppery': 12, 'reflect': 3, 'tick': 1, 'mark': 1, 'alternate': 1, 'James': 4, 'Louise': 2, 'Eight': 1, 'current': 5, 'ages': 5, 'Jasmine': 2, 'paperclips': 8, 'proceeded': 2, 'triple': 2, 'car': 12, 'brakes': 3, 'applied': 4, 'goes': 2, 'stops': 3, 'cylindrical': 1, 'tank': 5, 'full': 7, 'liters': 2, 'hold': 4, 'differences': 1, 'absolute': 7, 'Tiffany': 2, 'constructing': 1, 'fence': 9, 'around': 1, 'tennis': 1, 'court': 2, 'Regulation': 1, 'states': 1, 'enclosure': 2, 'large': 5, 'accommodate': 1, 'benches': 1, 'storage': 1, 'space': 2, 'optimal': 1, 'Ramanujan': 2, 'Hardy': 2, 'played': 2, 'picked': 2, 'rationalizing': 3, 'Six': 1, 'faces': 3, 'labeled': 1, 'adjacent': 3, 'di': 2, 'fi': 2, 'made': 8, 'intersections': 1, 'except': 1, 'Karen': 1, 'drove': 1, 'continuously': 1, 'covered': 2, 'speed': 8, 'UnFill': 6, 'AMC': 1, 'scored': 2, 'awarding': 1, 'response': 2, 'incorrect': 2, 'unanswered': 2, 'looking': 1, 'Sarah': 2, 'decided': 3, 'attempt': 1, 'leave': 1, 'correctly': 1, 'exact': 2, 'signs': 1, 'cubed': 2, 'acd': 1, 'curve': 1, 'cg': 1, 'George': 5, 'specific': 2, 'knowledge': 2, 'able': 4, 'rewrite': 2, 'lesser': 2, 'government': 1, 'bond': 1, 'Here': 2, 'Topsoil': 1, 'topsoil': 1, 'infty': 5, 'Below': 7, 'evidence': 1, 'choice': 2, 'Billy': 2, 'includes': 1, 'Based': 1, 'information': 2, 'call': 1, 'calculate': 6, 'mentally': 2, 'figures': 3, 'subtracts': 2, 'JoAnn': 3, 'coffee': 8, 'ounce': 1, 'cup': 3, 'drank': 3, 'cream': 3, 'stirred': 1, 'well': 2, 'amount': 16, 'While': 1, 'watching': 1, 'circus': 1, 'show': 2, 'counted': 2, 'acrobats': 2, 'elephants': 1, 'legs': 5, 'heads': 2, 'see': 1, 'Luke': 7, 'piece': 2, 'land': 1, 'restrict': 1, 'polygons': 1, 'Eighty': 1, 'quantity': 2, 'inscribed': 2, 'inside': 3, 'Complex': 1, 'often': 1, 'dealing': 1, 'alternating': 1, 'AC': 1, 'circuits': 1, 'V': 3, 'IZ': 1, 'voltage': 1, 'known': 1, 'impedance': 1, 'rationalize': 3, 'Joanie': 1, 'payments': 3, 'cent': 5, 'columns': 1, 'jar': 5, 'beginning': 4, 'experiment': 1, 'jx': 1, 'list': 3, 'symbols': 1, 'doubled': 4, 'dotsm': 1, 'paint': 4, 'everyone': 1, 'denominators': 1, 'Richard': 2, 'building': 1, 'backyard': 4, 'cover': 4, 'bordered': 1, 'rods': 1, 'connectors': 1, 'Row': 6, 'Arrow': 2, 'connector': 1, 'rod': 1, 'intersects': 8, 'sgn': 2, 'homeowners': 1, 'plan': 1, 'tiles': 2, 'seventh': 4, 'middle': 1, 'listed': 2, 'ascending': 1, 'cool': 5, 'areas': 6, 'rectangles': 1, 'took': 4, 'workers': 7, 'working': 6, 'together': 19, 'build': 3, 'embankment': 2, 'taken': 2, 'pizza': 4, 'refrigerator': 3, 'trips': 1, 'eaten': 2, 'forms': 1, 'progression': 4, 'sixth': 3, 'sums': 2, 'Fully': 1, 'twenty': 1, 'Natalie': 2, 'blueberry': 1, 'bushes': 2, 'yields': 1, 'containers': 2, 'blueberries': 2, 'trade': 1, 'zucchinis': 2, 'forty': 1, 'shortest': 2, 'motel': 3, 'bills': 5, 'charging': 1, 'flat': 3, 'fee': 4, 'night': 6, 'adding': 2, 'thereafter': 1, 'stay': 2, 'nights': 2, 'Noah': 1, 'amoeba': 3, 'placed': 3, 'puddle': 4, 'amoebas': 5, 'living': 1, 'evenly': 1, 'divide': 1, 'represented': 7, 'Theta': 6, 'underline': 9, 'tens': 1, 'planning': 1, 'weeks': 8, 'Unfortunately': 1, 'got': 6, 'sick': 1, 'pens': 3, 'pencils': 4, 'No': 1, 'prices': 2, 'include': 2, 'ca': 1, 'Amy': 4, 'making': 4, 'Abby': 3, 'Bart': 3, 'Cindy': 3, 'Damon': 3, 'Together': 1, 'lattice': 5, 'mathbb': 1, 'Mr': 4, 'Fat': 1, 'pound': 5, 'cereal': 2, 'Thin': 1, 'say': 2, 'emph': 1, 'good': 4, 'Among': 1, 'question': 1, 'NEI': 1, 'pressure': 3, 'sample': 1, 'gas': 3, 'volume': 7, 'oxygen': 1, 'liter': 2, 'container': 2, 'kPa': 2, 'move': 1, 'Tim': 1, 'expanded': 3, 'power': 3, 'discriminant': 2, 'box': 10, 'edges': 1, 'increased': 7, 'ad': 1, 'men': 4, 'steadily': 1, 'dig': 2, 'foundation': 2, 'apartment': 1, 'pages': 4, 'book': 8, 'numbered': 1, 'page': 5, 'mistakenly': 3, 'Darren': 2, 'clams': 2, 'Ethan': 1, 'daily': 2, 'Fergie': 2, 'Gertie': 1, 'repayments': 1, 'Zachary': 2, 'coins': 13, 'received': 5, 'change': 1, 'coin': 5, 'nickel': 1, 'nickels': 1, 'farthest': 1, 'cccc': 1, 'away': 1, 'Al': 3, 'Betty': 7, 'Clare': 2, 'among': 1, 'ways': 1, 'whereas': 1, 'managed': 1, 'lose': 1, 'study': 2, 'found': 2, 'women': 2, 'surveyed': 3, 'support': 1, 'funding': 2, 'medical': 1, 'research': 2, 'supported': 1, 'connecting': 2, 'segments': 3, 'Phi': 2, 'varphi': 2, 'Larry': 3, 'writes': 2, 'pinky': 1, 'finger': 4, 'applies': 1, 'output': 3, 'ring': 1, 'applying': 1, 'suppose': 1, 'longest': 1, 'quadrilateral': 1, 'Its': 1, 'sin': 1, 'Place': 1, 'hole': 2, 'including': 1, 'Jack': 3, 'walked': 3, 'hill': 1, 'Jill': 2, 'Box': 3, 'max': 1, 'min': 2, 'whichever': 1, 'similarly': 1, 'Shown': 1, 'ell': 3, 'Ivan': 1, 'rents': 2, 'drives': 1, 'cubes': 2, 'party': 1, 'Ted': 2, 'Sally': 2, 'town': 1, 'Annie': 3, 'Barbara': 3, 'Charlie': 7, 'agree': 1, 'meet': 4, 'equidistant': 3, 'locations': 1, 'upwards': 3, 'location': 1, 'Anthony': 1, 'free': 2, 'throw': 1, 'attempts': 2, 'percentage': 3, 'success': 1, 'David': 4, 'Joann': 3, 'rode': 2, 'Fran': 1, 'rides': 1, 'Marcelle': 1, 'Jaclyn': 2, 'think': 1, 'monic': 2, 'ar': 2, 'involving': 1, 'powers': 2, 'moved': 4, 'places': 2, 'Later': 1, 'tired': 1, 'simplify': 1, 'exponents': 1, 'variables': 3, 'outside': 2, 'measures': 1, 'carpet': 1, 'ink': 4, 'refill': 2, 'Rural': 1, 'USA': 1, 'enrolled': 1, 'absent': 2, 'bag': 3, 'marbles': 10, 'yellow': 5, 'moment': 1, 'remove': 1, 'pool': 5, 'filled': 1, 'hoses': 2, 'Hoses': 3, 'fill': 12, 'count': 2, 'since': 1, 'jumbo': 1, 'bows': 2, 'green': 4, 'white': 4, 'worked': 5, 'earned': 7, 'Andrew': 7, 'As': 1, 'turns': 3, 'bisector': 3, 'meets': 1, 'Enter': 2, 'extended': 1, 'BC': 3, 'Diamond': 3, 'Pirate': 4, 'Pete': 6, 'shares': 1, 'treasure': 1, 'Paul': 6, 'interesting': 1, 'says': 3, 'giving': 3, 'pile': 4, 'Next': 2, 'distributed': 1, 'gold': 1, 'raised': 2, 'oslash': 2, 'competition': 1, 'held': 1, 'tables': 3, 'stools': 2, 'stool': 1, 'Po': 1, 'successfully': 2, 'rewrites': 3, 'Marika': 3, 'birthday': 3, 'father': 2, 'said': 1, 'Type': 1, 'letter': 2, 'option': 1, 'Rosa': 1, 'Rose': 1, 'Shop': 1, 'bouquet': 3, 'roses': 3, 'eleventh': 2, 'energy': 3, 'stored': 2, 'charges': 4, 'start': 2, 'equilateral': 1, 'configuration': 1, 'stores': 1, 'Joules': 2, 'produces': 1, 'widgets': 7, 'Exhausted': 1, 'decides': 2, 'fewer': 1, 'manages': 1, 'produce': 6, 'additional': 3, 'freight': 1, 'train': 3, 'minute': 1, 'Wendy': 1, 'uses': 4, 'material': 2, 'piggy': 3, 'Milton': 1, 'spilled': 1, 'read': 4, 'could': 4, 'stain': 1, 'symmetry': 4, 'puppy': 4, 'cats': 1, 'cat': 4, 'balls': 12, 'returns': 1, 'road': 1, 'round': 4, 'Provide': 2, 'mm': 1, 'footnotesize': 2, 'Climbing': 1, 'flight': 2, 'stairs': 2, 'Jimmy': 1, 'climb': 1, 'flights': 1, 'Stage': 4, 'textsize': 4, 'unitsquare': 6, 'ABCD': 2, 'purchases': 1, 'sack': 3, 'bunch': 3, 'bananas': 5, 'cantaloupe': 3, 'carton': 2, 'dates': 2, 'Sanchez': 1, 'asked': 1, 'Juan': 2, 'subtracted': 2, 'mistake': 1, 'Maria': 1, 'SW': 5, 'dir': 7, 'chocolate': 2, 'candies': 2, 'union': 1, 'intervals': 1, 'Machiavelli': 1, 'television': 1, 'discounted': 1, 'slashed': 1, 'liquidation': 1, 'sale': 3, 'reduced': 1, 'share': 1, 'Use': 1, 'Sam': 1, 'hired': 1, 'earnings': 1, 'multiples': 2, 'cx': 4, 'horse': 2, 'merry': 1, 'go': 2, 'revolutions': 2, 'mathrm': 2, 'described': 2, 'Determine': 3, 'AE': 1, 'CD': 1, 'late': 1, 'charge': 3, 'Jenna': 1, 'due': 1, 'date': 1, 'Exactly': 1, 'Xanthia': 2, 'Molly': 2, 'reading': 1, 'prism': 1, 'diagonal': 3, 'machine': 1, 'input': 1, 'currentpen': 1, 'widthC': 5, 'heightC': 6, 'widthE': 5, 'lengthE': 5, 'angleE': 5, 'mbox': 4, 'put': 6, 'Multiply': 1, 'Compare': 1, 'Add': 1, 'Subtract': 1, 'Out': 1, 'leftpt': 12, 'rightpt': 12, 'midpt': 4, 'Sin': 1, 'Cx': 2, 'Terrell': 2, 'usually': 1, 'lifts': 1, 'weights': 2, 'lift': 2, 'airplane': 3, 'sections': 1, 'First': 1, 'Class': 2, 'seats': 4, 'Business': 1, 'Economy': 1, 'attainable': 1, 'perimeters': 1, 'centered': 2, 'Abraham': 1, 'class': 2, 'latest': 2, 'exam': 6, 'Mrs': 3, 'Berkeley': 3, 'removing': 1, 'leftmost': 1, 'ninth': 1, 'Kyle': 1, 'sixteenth': 1, 'seventeenth': 1, 'seven': 2, 'Phoenix': 1, 'hiked': 3, 'Rocky': 1, 'Path': 1, 'Trail': 1, 'averaged': 1, 'hike': 1, 'trail': 1, 'raises': 1, 'theta': 2, 'Cedric': 2, 'deposited': 4, 'pays': 6, 'compare': 2, 'respective': 3, 'balances': 4, 'hd': 1, 'minimal': 2, 'rebounds': 1, 'hits': 1, 'continued': 2, 'rccccc': 1, 'rd': 1, 'strictly': 1, 'Sixteen': 1, 'straight': 1, 'factory': 1, 'whoosits': 4, 'production': 1, 'Dave': 1, 'J': 4, 'indefinitely': 1, 'figure': 2, 'shaded': 2, 'dotfactor': 1, 'drawSquares': 6, 'gallons': 5, 'mathematician': 1, 'drinks': 1, 'sleep': 6, 'Harry': 2, 'Sandy': 4, 'wish': 1, 'Hogwarts': 1, 'lvert': 1, 'rvert': 1, 'px': 3, 'solving': 1, 'spadesuit': 4, 'Positive': 1, 'rs': 1, 'John': 4, 'believes': 1, 'related': 1, 'believe': 1, 'binomials': 1, 'Both': 1, 'Julie': 3, 'younger': 2, 'dad': 1, 'Andy': 4, 'Beth': 3, 'thirty': 1, 'questions': 5, 'wrong': 4, 'within': 1, 'mutually': 1, 'externally': 1, 'radii': 1, 'intersectionpoint': 2, 'arc': 4, 'evaluated': 3, 'receive': 2, 'Alec': 2, 'shirts': 3, 'entrance': 1, 'shopping': 1, 'warehouse': 1, 'plans': 2, 'shirt': 4, 'allow': 1, 'dog': 2, 'tied': 1, 'post': 1, 'rope': 1, 'Seven': 2, 'bowling': 4, 'Elmo': 2, 'sandwiches': 3, 'fundraiser': 1, 'sandwich': 1, 'globs': 1, 'peanut': 2, 'butter': 2, 'glob': 1, 'blobs': 1, 'jam': 3, 'blob': 1, 'spaced': 1, 'nonconstant': 2, 'ratios': 4, 'farmer': 1, 'head': 4, 'Separate': 1, 'gasoline': 1, 'marble': 1, 'Allie': 3, 'play': 1, 'rolling': 1, 'player': 1, 'rolls': 3, 'awarded': 1, 'Jenny': 1, 'ate': 3, 'jellybeans': 2, 'remained': 1, 'accidentally': 1, 'tree': 2, 'subtracting': 1, 'Working': 1, 'Xenia': 1, 'hourly': 1, 'wage': 1, 'ccc': 2, 'Participation': 1, 'local': 2, 'soccer': 1, 'league': 3, 'higher': 1, 'males': 2, 'females': 1, 'participating': 1, 'participants': 1, 'borrowing': 1, 'offers': 1, 'Plan': 4, 'debt': 2, 'accumulates': 2, 'everything': 1, 'Angela': 2, 'nested': 1, 'abcd': 1, 'satisfied': 1, 'regularly': 1, 'priced': 2, 'coupon': 1, 'discount': 1, 'final': 1, 'discounts': 3, 'person': 1, 'mows': 1, 'Ben': 2, 'Chris': 3, 'ago': 3, 'uphill': 1, 'km': 6, 'along': 2, 'hr': 1, 'Murtha': 1, 'pebble': 3, 'collection': 1, 'collects': 3, 'pebbles': 2, 'twelfth': 1, 'Perry': 1, 'Hotter': 1, 'bookstore': 2, 'offering': 1, 'clever': 1, 'shopper': 1, 'realizes': 1, 'depending': 1, 'save': 1, 'taking': 1, 'better': 1, 'approach': 2, 'rather': 2, 'cucumbers': 2, 'Tyler': 1, 'obtainable': 2, 'Lines': 1, 'Krista': 1, 'Sunday': 1, 'morning': 1, 'exceed': 1, 'vertically': 2, 'horizontally': 2, 'downwards': 1, 'translated': 1, 'Corn': 1, 'beans': 2, 'Shea': 2, 'corn': 2, 'Jordan': 2, 'ran': 1, 'Steve': 2, 'rates': 1, 'bus': 5, 'leaves': 1, 'board': 1, 'remain': 1, 'Heidi': 1, 'wall': 2, 'Eleven': 1, 'seventy': 1, 'deciding': 1, 'books': 1, 'sold': 1, 'maximize': 2, 'revenue': 1, 'BoatWorks': 2, 'March': 1, 'properties': 2, 'occurs': 1, 'convenience': 1, 'sq': 1, 'longer': 1, 'Carlos': 1, 'Manu': 2, 'flipping': 1, 'flip': 1, 'wins': 1, 'win': 1, 'orange': 2, 'Sean': 2, 'painters': 2, 'job': 2, 'street': 3, 'houses': 3, 'addresses': 3, 'south': 2, 'north': 2, 'etc': 2, 'sign': 1, 'painter': 1, 'paints': 2, 'appropriate': 1, 'collect': 1, 'Monica': 1, 'shorter': 1, 'Diana': 2, 'Eduardo': 2, 'Chad': 2, 'Faye': 2, 'faucets': 3, 'gallon': 4, 'tub': 2, 'dispense': 1, 'Frederick': 2, 'born': 2, 'grandparents': 1, 'gave': 1, 'gift': 1, 'Consecutive': 1, 'place': 1, 'elongated': 1, 'frame': 4, 'eps': 10, 'filldraw': 2, 'stands': 1, 'Marina': 1, 'aluminum': 2, 'recycled': 2, 'eventually': 1, 'Remember': 1, 'newer': 1, 'Do': 1, 'plus': 3, 'relatively': 2, 'determined': 1, 'band': 6, 'formation': 4, 'director': 1, 'arranges': 1, 'increases': 4, 'reduces': 1, 'member': 2, 'algae': 3, 'covering': 1, 'Smith': 1, 'pond': 2, 'magic': 1, 'column': 1, 'Bao': 2, 'later': 1, 'woman': 2, 'chessboard': 1, 'puts': 1, 'grains': 2, 'rice': 2, 'Sequence': 4, 'soon': 1, 'bullet': 2, 'dagger': 3, 'Samson': 1, 'derives': 1, 'utility': 2, 'relation': 2, 'Utility': 1, 'done': 1, 'frisbee': 3, 'plays': 1, 'getting': 2, 'spending': 1, 'playing': 1, 'Answer': 1, 'proportionality': 1, 'stays': 1, 'Piravena': 2, 'parts': 1, 'entirely': 2, 'cities': 1, 'angled': 1, 'kilometer': 2, 'booking': 1, 'flew': 1, 'fly': 1, 'Lulu': 2, 'leg': 1, 'With': 1, 'delta': 2, 'phi': 2, 'pie': 2, 'crusts': 3, 'oplus': 2, 'K': 2, 'Karl': 1, 'attempting': 1, 'economic': 1, 'fp': 1, 'cow': 1, 'pasture': 2, 'barn': 2, 'altogether': 1, 'organization': 5, 'leaders': 3, 'Every': 1, 'kicked': 1, 'join': 1, 'elected': 1, 'become': 1, 'fifteen': 1, 'Moving': 1, 'lollipops': 2, 'dotsb': 2, 'applications': 1, 'cliff': 1, 'Ryosuke': 3, 'picking': 1, 'odometer': 1, 'reads': 2, 'picks': 1, 'drops': 1, 'drive': 1, 'combination': 1, 'sugar': 4, 'teacher': 2, 'asks': 1, 'calculates': 1, 'grandfather': 2, 'twelve': 1, 'Scott': 1, 'completes': 1, 'Noelle': 1, 'assignment': 1, 'assignments': 4, 'rightarrow': 1, 'Janice': 1, 'items': 2, 'loc': 6, 'mathbf': 2, 'mathit': 2, 'cheese': 2, 'mouse': 2, 'farther': 1, 'closer': 1, 'mediumgrey': 2}\n"
          ]
        }
      ]
    },
    {
      "cell_type": "code",
      "metadata": {
        "colab": {
          "base_uri": "https://localhost:8080/"
        },
        "id": "YnzQzkeLatMc",
        "outputId": "453df5c1-8665-4c8c-b8a4-bacba721c66c"
      },
      "source": [
        "counts = dict(sorted(count.items(), key=lambda item: item[1],reverse=True))\n",
        "print(counts)"
      ],
      "execution_count": 77,
      "outputs": [
        {
          "output_type": "stream",
          "name": "stdout",
          "text": [
            "{'x': 2675, 'What': 597, 'frac': 573, 'f': 544, 'b': 518, 'value': 443, 'real': 430, 'If': 356, 'The': 336, 'sqrt': 320, 'A': 306, 'c': 287, 'sum': 248, 'Find': 242, 'n': 234, 'answer': 203, 'many': 195, 'p': 193, 'two': 192, 'draw': 191, 'Express': 186, 'integers': 186, 'equation': 183, 'B': 165, 'label': 164, 'positive': 163, 'graph': 156, 'g': 151, 'number': 147, 'true': 138, 'numbers': 123, 'How': 117, 'Arrows': 113, 'asy': 110, 'integer': 108, 'point': 108, 'Let': 108, 'r': 107, 'form': 106, 'C': 106, 'text': 105, 'cdot': 105, 'xmax': 105, 'right': 103, 'left': 101, 'values': 100, 'xmin': 100, 'points': 96, 'k': 96, 'square': 96, 'sequence': 95, 'size': 94, 'fraction': 94, 'line': 94, 'ymin': 93, 'ymax': 93, 'one': 91, 'xright': 91, 'ytop': 91, 'three': 90, 'common': 89, 'z': 89, 'first': 88, 'term': 88, 'find': 87, 'end': 86, 'possible': 85, 'dot': 85, 'Ticks': 82, 'product': 79, 'Evaluate': 77, 'linewidth': 73, 'function': 72, 'terms': 70, 'expression': 70, 'P': 67, 'begin': 66, 'solutions': 66, 'For': 65, 'axisarrowsize': 65, 'axispen': 65, 'xleft': 65, 'ybottom': 65, 'pen': 63, 'cm': 61, 'feet': 61, 'gx': 60, 'gy': 60, 'area': 58, 'ax': 56, 'times': 56, 'E': 56, 'black': 56, 'per': 55, 'q': 55, 'h': 55, 'coordinates': 54, 'Solve': 52, 'total': 52, 'false': 52, 'TicksArrx': 52, 'TicksArry': 52, 'extend': 52, 'pTick': 52, 'lfloor': 51, 'rfloor': 51, 'following': 51, 'units': 50, 'hours': 50, 'Size': 50, 'D': 50, 'day': 50, 'bp': 49, 'red': 49, 'N': 48, 'Given': 48, 'align': 48, 'defined': 48, 'laxis': 48, 'In': 47, 'Simplify': 47, 'distance': 47, 'height': 47, 'geometric': 46, 'Suppose': 46, 'miles': 46, 'years': 45, 'pair': 44, 'difference': 44, 'bx': 43, 'quadratic': 42, 'array': 40, 'equal': 40, 'log': 40, 'fontsize': 39, 'cycle': 39, 'ticklength': 39, 'xstep': 39, 'ystep': 39, 'bool': 39, 'On': 39, 'arithmetic': 38, 'greatest': 37, 'second': 37, 'le': 37, 'roots': 36, 'four': 36, 'nearest': 35, 'interval': 35, 'lceil': 35, 'rceil': 35, 'rate': 34, 'less': 34, 'cases': 34, 'width': 34, 'I': 34, 'hour': 33, 'abs': 33, 'Compute': 33, 'dfrac': 33, 'return': 32, 'domain': 32, 'S': 32, 'satisfy': 32, 'pic': 32, 'dollars': 31, 'interest': 31, 'smallest': 31, 'written': 31, 'largest': 30, 'shown': 30, 'import': 30, 'displaystyle': 30, 'gs': 30, 'circle': 29, 'least': 29, 'axes': 29, 'xaxis': 29, 'yaxis': 29, 'When': 29, 'length': 28, 'notation': 28, 'lines': 28, 'ball': 28, 'xy': 28, 'ordered': 28, 'must': 28, 'segment': 27, 'ratio': 27, 'solution': 27, 'five': 27, 'order': 27, 'gray': 27, 'ab': 27, 'triangle': 26, 'defaultpen': 26, 'tickdown': 26, 'rr': 26, 'cartesian': 26, 'useticks': 26, 'complexplane': 26, 'usegrid': 26, 'textnormal': 26, 'else': 26, 'push': 26, 'invisible': 26, 'xequals': 26, 'yequals': 26, 'star': 26, 'j': 26, 'side': 26, 'cdots': 25, 'decimal': 25, 'squares': 25, 'range': 25, 'minutes': 25, 'given': 25, 'cost': 25, 'degree': 25, 'exactly': 24, 'polynomial': 24, 'th': 24, 'dps': 24, 'Step': 24, 'parabola': 24, 'At': 24, 'Each': 23, 'coordinate': 23, 'denominator': 23, 'consecutive': 23, 'time': 23, 'floor': 23, 'midpoint': 22, 'equations': 22, 'series': 22, 'twice': 22, 'plane': 22, 'inversely': 22, 'simplest': 22, 'slope': 22, 'new': 22, 'center': 21, 'simplified': 21, 'much': 21, 'distinct': 21, 'whose': 21, 'grid': 21, 'age': 21, 'rectangular': 21, 'digit': 21, 'would': 21, 'added': 21, 'days': 21, 'take': 21, 'SE': 20, 'NW': 20, 'intersect': 20, 'year': 20, 'Expand': 20, 'cqcqcq': 20, 'ceil': 20, 'NoZero': 20, 'pounds': 20, 'average': 19, 'graphs': 19, 'vertices': 19, 'third': 19, 'ds': 19, 'price': 19, 'rectangle': 19, 'w': 19, 'together': 19, 'intercept': 18, 'inch': 18, 'operation': 18, 'respectively': 18, 'satisfies': 18, 'half': 18, 'money': 18, 'dots': 18, 'overline': 17, 'AB': 17, 'proportional': 17, 'maximum': 17, 'prime': 17, 'get': 17, 'expressed': 17, 'constant': 17, 'constants': 16, 'cl': 16, 'pi': 16, 'make': 16, 'sides': 16, 'mx': 16, 'add': 16, 'shift': 16, 'After': 16, 'every': 16, 'endpoints': 16, 'bank': 16, 'u': 16, 'weigh': 16, 'amount': 16, 'There': 15, 'percent': 15, 'dollar': 15, 'passes': 15, 'ldots': 15, 'minimum': 15, 'region': 15, 'void': 15, 'Label': 15, 'EndArrow': 15, 'old': 15, 'seconds': 15, 'axis': 15, 'takes': 15, 'perimeter': 15, 'inches': 15, 'quad': 15, 'work': 15, 'Calculate': 14, 'Q': 14, 'Define': 14, 'M': 14, 'infinite': 14, 'system': 14, 'unit': 14, 'F': 14, 'vertex': 14, 'e': 14, 'week': 14, 'costs': 14, 'even': 14, 'members': 14, 'coefficient': 13, 'Two': 13, 'ticklen': 13, 'tickspace': 13, 'vectorarrowsize': 13, 'tickdownlength': 13, 'tickdownbase': 13, 'wholetickdown': 13, 'Re': 13, 'Im': 13, 'ylimits': 13, 'xlimits': 13, 'BottomTop': 13, 'LeftRight': 13, 'lsf': 13, 'portion': 13, 'Rationalize': 13, 'radius': 13, 'ground': 13, 'bacteria': 13, 'cans': 13, 'resulting': 13, 'W': 13, 'buy': 13, 'kx': 13, 'original': 13, 'Factor': 13, 'homework': 13, 'coins': 13, 'drawn': 12, 'example': 12, 'blue': 12, 'contains': 12, 'clip': 12, 'six': 12, 'root': 12, 'functions': 12, 'pt': 12, 'people': 12, 'row': 12, 'nonzero': 12, 'intersection': 12, 'annual': 12, 'students': 12, 'nabla': 12, 'last': 12, 'v': 12, 'div': 12, 'works': 12, 'friend': 12, 'pay': 12, 'different': 12, 'To': 12, 'lowery': 12, 'uppery': 12, 'car': 12, 'fill': 12, 'balls': 12, 'leftpt': 12, 'rightpt': 12, 'alpha': 11, 'beta': 11, 'ge': 11, 'string': 11, 'compounds': 11, 'annually': 11, 'Cartesian': 11, 'parallel': 11, 'perpendicular': 11, 'She': 11, 'origin': 11, 'lengths': 11, 'certain': 11, 'It': 11, 'greater': 11, 'Bob': 11, 'multiple': 11, 'cents': 11, 'house': 11, 'hline': 11, 'linetype': 11, 'inverse': 11, 'odd': 11, 'identical': 11, 'earn': 10, 'increasing': 10, 'larger': 10, 'month': 10, 'equals': 10, 'hundredth': 10, 'enclosed': 10, 'sp': 10, 'operator': 10, 'fencing': 10, 'G': 10, 'canoes': 10, 'fractional': 10, 'long': 10, 'needs': 10, 'travel': 10, 'radical': 10, 'neq': 10, 'using': 10, 'test': 10, 'Monday': 10, 'cubic': 10, 'vertical': 10, 'wants': 10, 'tabular': 10, 'Consider': 10, 'rgb': 10, 'compounded': 10, 'int': 10, 'cookie': 10, 'box': 10, 'marbles': 10, 'eps': 10, 'account': 9, 'endpoint': 9, 'An': 9, 'decreasing': 9, 'fourth': 9, 'define': 9, 'represents': 9, 'Alex': 9, 'room': 9, 'back': 9, 'satisfying': 9, 'negative': 9, 'Tuesday': 9, 'coefficients': 9, 'school': 9, 'leq': 9, 'shots': 9, 'He': 9, 'fractions': 9, 'trip': 9, 'problems': 9, 'tenth': 9, 'fifth': 9, 'zero': 9, 'Delta': 9, 'factor': 9, 'ten': 9, 'whole': 9, 'polynomials': 9, 'fence': 9, 'underline': 9, 'pieces': 8, 'complete': 8, 'inclusive': 8, 'binomial': 8, 'use': 8, 'dashed': 8, 'write': 8, 'built': 8, 'previous': 8, 'intercepts': 8, 'divisible': 8, 'Note': 8, 'rounded': 8, 'travels': 8, 'gets': 8, 'bi': 8, 'set': 8, 'adds': 8, 'friends': 8, 'O': 8, 'makes': 8, 'geq': 8, 'Four': 8, 'result': 8, 'non': 8, 'smaller': 8, 'bigcirc': 8, 'balance': 8, 'containing': 8, 'paperclips': 8, 'made': 8, 'speed': 8, 'coffee': 8, 'intersects': 8, 'weeks': 8, 'book': 8, 'gum': 7, 'let': 7, 'Give': 7, 'midpoints': 7, 'clubsuit': 7, 'give': 7, 'bike': 7, 'cfrac': 7, 'flour': 7, 'reach': 7, 'describes': 7, 'successive': 7, 'bounces': 7, 'foot': 7, 'pairs': 7, 'invested': 7, 'simple': 7, 'another': 7, 'One': 7, 'girls': 7, 'apples': 7, 'finish': 7, 'buys': 7, 'continues': 7, 'walk': 7, 'Daniel': 7, 'invest': 7, 'expansion': 7, 'necessarily': 7, 'sequences': 7, 'bc': 7, 'complex': 7, 'lie': 7, 'Z': 7, 'ounces': 7, 'used': 7, 'meters': 7, 'full': 7, 'absolute': 7, 'Below': 7, 'Luke': 7, 'workers': 7, 'represented': 7, 'volume': 7, 'increased': 7, 'Betty': 7, 'Charlie': 7, 'earned': 7, 'Andrew': 7, 'widgets': 7, 'dir': 7, 'separated': 6, 'lowest': 6, 'gon': 6, 'means': 6, 'without': 6, 'pencil': 6, 'mile': 6, 'problem': 6, 'equivalent': 6, 'degrees': 6, 'particular': 6, 'Assume': 6, 'H': 6, 'Bx': 6, 'projectile': 6, 'picture': 6, 'zeros': 6, 'standing': 6, 'pm': 6, 'Assuming': 6, 'score': 6, 'force': 6, 'next': 6, 'factors': 6, 'yz': 6, 'xyz': 6, 'summer': 6, 'boys': 6, 'needed': 6, 'circles': 6, 'eat': 6, 'home': 6, 'table': 6, 'exists': 6, 'cells': 6, 'Y': 6, 'store': 6, 'Point': 6, 'dimensions': 6, 'June': 6, 'Three': 6, 'We': 6, 'eight': 6, 'double': 6, 'attended': 6, 'weight': 6, 'pq': 6, 'My': 6, 'math': 6, 'express': 6, 'UnFill': 6, 'calculate': 6, 'Row': 6, 'areas': 6, 'working': 6, 'night': 6, 'Theta': 6, 'got': 6, 'Pete': 6, 'Paul': 6, 'produce': 6, 'unitsquare': 6, 'heightC': 6, 'put': 6, 'exam': 6, 'pays': 6, 'drawSquares': 6, 'sleep': 6, 'km': 6, 'band': 6, 'loc': 6, 'property': 5, 'nx': 5, 'paper': 5, 'You': 5, 'may': 5, 'trying': 5, 'ABC': 5, 'lies': 5, 'regular': 5, 'nine': 5, 'varies': 5, 'entire': 5, 'NE': 5, 'subsequent': 5, 'Which': 5, 'closest': 5, 'begins': 5, 'far': 5, 'l': 5, 'Ax': 5, 'solve': 5, 'gives': 5, 'dropped': 5, 'mean': 5, 'follows': 5, 'directly': 5, 'Write': 5, 'investment': 5, 'display': 5, 'numerator': 5, 'secret': 5, 'student': 5, 'linear': 5, 'xz': 5, 'either': 5, 'purchase': 5, 'small': 5, 'rows': 5, 'inequality': 5, 'froods': 5, 'undefined': 5, 'consists': 5, 'also': 5, 'lawn': 5, 'part': 5, 'Circle': 5, 'located': 5, 'splits': 5, 'This': 5, 'Emily': 5, 'bill': 5, 'correct': 5, 'eighth': 5, 'ride': 5, 'Completely': 5, 'assuming': 5, 'quarterly': 5, 'Joe': 5, 'ac': 5, 'pattern': 5, 'evaluate': 5, 'thrown': 5, 'nonnegative': 5, 'ants': 5, 'Species': 5, 'field': 5, 'obtained': 5, 'current': 5, 'ages': 5, 'tank': 5, 'large': 5, 'George': 5, 'infty': 5, 'legs': 5, 'cent': 5, 'jar': 5, 'cool': 5, 'bills': 5, 'amoebas': 5, 'lattice': 5, 'pound': 5, 'page': 5, 'received': 5, 'coin': 5, 'yellow': 5, 'pool': 5, 'worked': 5, 'bananas': 5, 'SW': 5, 'widthC': 5, 'widthE': 5, 'lengthE': 5, 'angleE': 5, 'gallons': 5, 'questions': 5, 'bus': 5, 'organization': 5, 'passing': 4, 'Bank': 4, 'formula': 4, 'parabolas': 4, 'List': 4, 'compute': 4, 'borrowed': 4, 'divided': 4, 'multiplied': 4, 'like': 4, 'combined': 4, 'continuous': 4, 'lifting': 4, 'water': 4, 'run': 4, 'calculator': 4, 'Fermat': 4, 'distances': 4, 'solved': 4, 'completing': 4, 'process': 4, 'diagram': 4, 'bowtie': 4, 'OmitTick': 4, 'Brenda': 4, 'older': 4, 'bought': 4, 'dividing': 4, 'integral': 4, 'cube': 4, 'ends': 4, 'digits': 4, 'unitsize': 4, 'path': 4, 'invertible': 4, 'rest': 4, 'logs': 4, 'high': 4, 'starts': 4, 'traveled': 4, 'Earth': 4, 'Bill': 4, 'Jo': 4, 'Kate': 4, 'told': 4, 'know': 4, 'perfect': 4, 'ft': 4, 'denote': 4, 'yards': 4, 'contain': 4, 'game': 4, 'earns': 4, 'remaining': 4, 'formed': 4, 'st': 4, 'mow': 4, 'fully': 4, 'iz': 4, 'diameter': 4, 'differ': 4, 'die': 4, 'rational': 4, 'answers': 4, 'commas': 4, 'Real': 4, 'tax': 4, 'income': 4, 'shifted': 4, 'improper': 4, 'Then': 4, 'loan': 4, 'necessary': 4, 'increase': 4, 'hit': 4, 'reported': 4, 'cd': 4, 'subtract': 4, 'period': 4, 'temperature': 4, 'Anton': 4, 'chess': 4, 'team': 4, 'Mark': 4, 'sized': 4, 'reciprocals': 4, 'James': 4, 'applied': 4, 'hold': 4, 'able': 4, 'beginning': 4, 'doubled': 4, 'paint': 4, 'backyard': 4, 'cover': 4, 'seventh': 4, 'took': 4, 'pizza': 4, 'progression': 4, 'fee': 4, 'puddle': 4, 'pencils': 4, 'Amy': 4, 'making': 4, 'Mr': 4, 'good': 4, 'men': 4, 'pages': 4, 'finger': 4, 'meet': 4, 'David': 4, 'moved': 4, 'ink': 4, 'green': 4, 'white': 4, 'Pirate': 4, 'pile': 4, 'charges': 4, 'uses': 4, 'read': 4, 'could': 4, 'symmetry': 4, 'puppy': 4, 'cat': 4, 'round': 4, 'Stage': 4, 'textsize': 4, 'cx': 4, 'mbox': 4, 'midpt': 4, 'seats': 4, 'deposited': 4, 'balances': 4, 'whoosits': 4, 'J': 4, 'Sandy': 4, 'spadesuit': 4, 'John': 4, 'Andy': 4, 'wrong': 4, 'arc': 4, 'shirt': 4, 'bowling': 4, 'ratios': 4, 'head': 4, 'Plan': 4, 'gallon': 4, 'frame': 4, 'formation': 4, 'increases': 4, 'Sequence': 4, 'sugar': 4, 'assignments': 4, 'cherry': 3, 'grape': 3, 'instead': 3, 'finds': 3, 'stringpair': 3, 'invests': 3, 'semicolons': 3, 'charged': 3, 'months': 3, 'owe': 3, 'Finally': 3, 'Line': 3, 'called': 3, 'triangular': 3, 'feel': 3, 'minimized': 3, 'obtains': 3, 'factored': 3, 'enclose': 3, 'garden': 3, 'cups': 3, 'stop': 3, 'way': 3, 'piecewise': 3, 'launched': 3, 'upward': 3, 'parabolic': 3, 'launch': 3, 'penny': 3, 'pennies': 3, 'graphed': 3, 'top': 3, 'paid': 3, 'letters': 3, 'always': 3, 'colony': 3, 'completely': 3, 'By': 3, 'overall': 3, 'certificate': 3, 'gravitational': 3, 'surface': 3, 'Your': 3, 'selected': 3, 'probability': 3, 'Points': 3, 'attend': 3, 'picnic': 3, 'Their': 3, 'created': 3, 'dropping': 3, 'asymptotes': 3, 'burgers': 3, 'soda': 3, 'burger': 3, 'hop': 3, 'Meanwhile': 3, 'valued': 3, 'mixed': 3, 'Mary': 3, 'Using': 3, 'results': 3, 'asymptote': 3, 'American': 3, 'euros': 3, 'cake': 3, 'enough': 3, 'odot': 3, 'X': 3, 'XY': 3, 'collected': 3, 'toaster': 3, 'customers': 3, 'Susie': 3, 'apart': 3, 'scale': 3, 'enter': 3, 'bounded': 3, 'condition': 3, 'payment': 3, 'population': 3, 'none': 3, 'stage': 3, 'multiply': 3, 'single': 3, 'products': 3, 'yearly': 3, 'repeatedly': 3, 'volumes': 3, 'available': 3, 'enchiladas': 3, 'tacos': 3, 'bf': 3, 'ant': 3, 'farm': 3, 'knows': 3, 'female': 3, 'vary': 3, 'boundary': 3, 'otherwise': 3, 'standard': 3, 'loosen': 3, 'bolt': 3, 'wrench': 3, 'divisor': 3, 'pick': 3, 'preceding': 3, 'ay': 3, 'lowerx': 3, 'upperx': 3, 'reflect': 3, 'brakes': 3, 'stops': 3, 'rationalizing': 3, 'faces': 3, 'adjacent': 3, 'decided': 3, 'figures': 3, 'JoAnn': 3, 'cup': 3, 'drank': 3, 'cream': 3, 'inside': 3, 'V': 3, 'rationalize': 3, 'payments': 3, 'list': 3, 'build': 3, 'refrigerator': 3, 'sixth': 3, 'motel': 3, 'flat': 3, 'amoeba': 3, 'placed': 3, 'pens': 3, 'Abby': 3, 'Bart': 3, 'Cindy': 3, 'Damon': 3, 'pressure': 3, 'gas': 3, 'expanded': 3, 'power': 3, 'mistakenly': 3, 'Al': 3, 'surveyed': 3, 'segments': 3, 'Larry': 3, 'output': 3, 'Jack': 3, 'walked': 3, 'Box': 3, 'ell': 3, 'Annie': 3, 'Barbara': 3, 'equidistant': 3, 'upwards': 3, 'percentage': 3, 'Joann': 3, 'variables': 3, 'bag': 3, 'Hoses': 3, 'turns': 3, 'bisector': 3, 'BC': 3, 'Diamond': 3, 'says': 3, 'giving': 3, 'tables': 3, 'rewrites': 3, 'Marika': 3, 'birthday': 3, 'bouquet': 3, 'roses': 3, 'energy': 3, 'additional': 3, 'train': 3, 'piggy': 3, 'sack': 3, 'bunch': 3, 'cantaloupe': 3, 'sale': 3, 'Determine': 3, 'charge': 3, 'diagonal': 3, 'airplane': 3, 'Mrs': 3, 'Berkeley': 3, 'hiked': 3, 'respective': 3, 'px': 3, 'Julie': 3, 'Beth': 3, 'evaluated': 3, 'shirts': 3, 'sandwiches': 3, 'jam': 3, 'Allie': 3, 'rolls': 3, 'ate': 3, 'league': 3, 'discounts': 3, 'Chris': 3, 'ago': 3, 'pebble': 3, 'collects': 3, 'street': 3, 'houses': 3, 'addresses': 3, 'faucets': 3, 'plus': 3, 'algae': 3, 'dagger': 3, 'frisbee': 3, 'crusts': 3, 'leaders': 3, 'Ryosuke': 3, 'Chewbacca': 2, 'Some': 2, 'packs': 2, 'pack': 2, 'savings': 2, 'Lisa': 2, 'diamondsuit': 2, 'quotient': 2, 'Kimberly': 2, 'borrows': 2, 'monthly': 2, 'remainder': 2, 'counting': 2, 'natural': 2, 'Laura': 2, 'swimming': 2, 'spends': 2, 'changing': 2, 'running': 2, 'drink': 2, 'Her': 2, 'lasts': 2, 'fast': 2, 'Wanda': 2, 'locate': 2, 'guesses': 2, 'computes': 2, 'came': 2, 'novel': 2, 'words': 2, 'tx': 2, 'Addison': 2, 'Janet': 2, 'ast': 2, 'BoatsRUs': 2, 'January': 2, 'calendar': 2, 'inequalities': 2, 'cookies': 2, 'map': 2, 'centimeter': 2, 'kilometers': 2, 'represent': 2, 'going': 2, 'From': 2, 'olympiad': 2, 'L': 2, 'T': 2, 'bahs': 2, 'rahs': 2, 'yahs': 2, 'denotes': 2, 'R': 2, 'labels': 2, 'atan': 2, 'thirds': 2, 'chairs': 2, 'Without': 2, 'stack': 2, 'bottom': 2, 'fell': 2, 'doubles': 2, 'traveling': 2, 'taxi': 2, 'Ann': 2, 'fare': 2, 'exerts': 2, 'object': 2, 'Newtons': 2, 'layer': 2, 'similar': 2, 'thing': 2, 'however': 2, 'rounds': 2, 'rounding': 2, 'Jessica': 2, 'quarters': 2, 'yard': 2, 'Cu': 2, 'falls': 2, 'School': 2, 'lunks': 2, 'kunks': 2, 'dozen': 2, 'tangent': 2, 'starting': 2, 'million': 2, 'multiplying': 2, 'recent': 2, 'Shenille': 2, 'attempted': 2, 'scores': 2, 'eating': 2, 'Megan': 2, 'sodas': 2, 'Lauren': 2, 'decimals': 2, 'thirteenth': 2, 'Tom': 2, 'Margo': 2, 'route': 2, 'walking': 2, 'removed': 2, 'split': 2, 'organism': 2, 'cell': 2, 'becomes': 2, 'ne': 2, 'Berengere': 2, 'bakery': 2, 'They': 2, 'want': 2, 'need': 2, 'Rewrite': 2, 'algebra': 2, 'comes': 2, 'yield': 2, 'minus': 2, 'claims': 2, 'measured': 2, 'sales': 2, 'according': 2, 'chosen': 2, 'Pretty': 2, 'Penny': 2, 'Five': 2, 'originally': 2, 'Julia': 2, 'live': 2, 'All': 2, 'triangles': 2, 'drawing': 2, 'entering': 2, 'character': 2, 'parentheses': 2, 'brackets': 2, 'Of': 2, 'owes': 2, 'amounts': 2, 'Round': 2, 'present': 2, 'abc': 2, 'toothpicks': 2, 'arrangement': 2, 'create': 2, 'drawSquare': 2, 'squirrel': 2, 'mn': 2, 'decrease': 2, 'downward': 2, 'corresponding': 2, 'measles': 2, 'decreased': 2, 'da': 2, 'opposite': 2, 'Jose': 2, 'Patricia': 2, 'acid': 2, 'past': 2, 'Also': 2, 'hardcover': 2, 'sells': 2, 'fixed': 2, 'ones': 2, 'species': 2, 'Day': 2, 'counts': 2, 'conditions': 2, 'However': 2, 'meeting': 2, 'Jim': 2, 'membership': 2, 'male': 2, 'writing': 2, 'Cookie': 2, 'Monster': 2, 'encounters': 2, 'confused': 2, 'lunch': 2, 'snack': 2, 'dish': 2, 'handle': 2, 'requires': 2, 'reciprocal': 2, 'Mickey': 2, 'Jerry': 2, 'pass': 2, 'still': 2, 'simplifying': 2, 'super': 2, 'reached': 2, 'exceeds': 2, 'Louise': 2, 'Jasmine': 2, 'proceeded': 2, 'triple': 2, 'goes': 2, 'liters': 2, 'Tiffany': 2, 'court': 2, 'enclosure': 2, 'space': 2, 'Ramanujan': 2, 'Hardy': 2, 'played': 2, 'picked': 2, 'di': 2, 'fi': 2, 'covered': 2, 'scored': 2, 'response': 2, 'incorrect': 2, 'unanswered': 2, 'Sarah': 2, 'exact': 2, 'cubed': 2, 'specific': 2, 'knowledge': 2, 'rewrite': 2, 'lesser': 2, 'Here': 2, 'choice': 2, 'Billy': 2, 'information': 2, 'mentally': 2, 'subtracts': 2, 'well': 2, 'show': 2, 'counted': 2, 'acrobats': 2, 'heads': 2, 'piece': 2, 'quantity': 2, 'inscribed': 2, 'Richard': 2, 'Arrow': 2, 'sgn': 2, 'tiles': 2, 'listed': 2, 'embankment': 2, 'taken': 2, 'eaten': 2, 'sums': 2, 'Natalie': 2, 'bushes': 2, 'containers': 2, 'blueberries': 2, 'zucchinis': 2, 'shortest': 2, 'adding': 2, 'stay': 2, 'nights': 2, 'prices': 2, 'include': 2, 'cereal': 2, 'say': 2, 'liter': 2, 'container': 2, 'kPa': 2, 'discriminant': 2, 'dig': 2, 'foundation': 2, 'Darren': 2, 'clams': 2, 'daily': 2, 'Fergie': 2, 'Zachary': 2, 'Clare': 2, 'study': 2, 'found': 2, 'women': 2, 'funding': 2, 'research': 2, 'connecting': 2, 'Phi': 2, 'varphi': 2, 'writes': 2, 'hole': 2, 'Jill': 2, 'min': 2, 'rents': 2, 'cubes': 2, 'Ted': 2, 'Sally': 2, 'free': 2, 'attempts': 2, 'rode': 2, 'Jaclyn': 2, 'monic': 2, 'ar': 2, 'powers': 2, 'places': 2, 'outside': 2, 'refill': 2, 'absent': 2, 'hoses': 2, 'count': 2, 'bows': 2, 'Enter': 2, 'Next': 2, 'raised': 2, 'oslash': 2, 'stools': 2, 'successfully': 2, 'father': 2, 'letter': 2, 'eleventh': 2, 'stored': 2, 'start': 2, 'Joules': 2, 'decides': 2, 'material': 2, 'Provide': 2, 'footnotesize': 2, 'flight': 2, 'stairs': 2, 'ABCD': 2, 'carton': 2, 'dates': 2, 'Juan': 2, 'subtracted': 2, 'chocolate': 2, 'candies': 2, 'multiples': 2, 'horse': 2, 'go': 2, 'revolutions': 2, 'mathrm': 2, 'described': 2, 'Xanthia': 2, 'Molly': 2, 'Cx': 2, 'Terrell': 2, 'weights': 2, 'lift': 2, 'Class': 2, 'centered': 2, 'class': 2, 'latest': 2, 'seven': 2, 'theta': 2, 'Cedric': 2, 'compare': 2, 'minimal': 2, 'continued': 2, 'figure': 2, 'shaded': 2, 'Harry': 2, 'younger': 2, 'intersectionpoint': 2, 'receive': 2, 'Alec': 2, 'plans': 2, 'dog': 2, 'Seven': 2, 'Elmo': 2, 'peanut': 2, 'butter': 2, 'nonconstant': 2, 'jellybeans': 2, 'tree': 2, 'ccc': 2, 'local': 2, 'males': 2, 'debt': 2, 'accumulates': 2, 'Angela': 2, 'priced': 2, 'Ben': 2, 'along': 2, 'pebbles': 2, 'bookstore': 2, 'approach': 2, 'rather': 2, 'cucumbers': 2, 'obtainable': 2, 'vertically': 2, 'horizontally': 2, 'beans': 2, 'Shea': 2, 'corn': 2, 'Jordan': 2, 'Steve': 2, 'wall': 2, 'maximize': 2, 'BoatWorks': 2, 'properties': 2, 'Manu': 2, 'orange': 2, 'Sean': 2, 'painters': 2, 'job': 2, 'south': 2, 'north': 2, 'etc': 2, 'paints': 2, 'Diana': 2, 'Eduardo': 2, 'Chad': 2, 'Faye': 2, 'tub': 2, 'Frederick': 2, 'born': 2, 'filldraw': 2, 'aluminum': 2, 'recycled': 2, 'relatively': 2, 'member': 2, 'pond': 2, 'Bao': 2, 'woman': 2, 'grains': 2, 'rice': 2, 'bullet': 2, 'utility': 2, 'relation': 2, 'getting': 2, 'Piravena': 2, 'entirely': 2, 'kilometer': 2, 'Lulu': 2, 'delta': 2, 'phi': 2, 'pie': 2, 'oplus': 2, 'K': 2, 'pasture': 2, 'barn': 2, 'lollipops': 2, 'dotsb': 2, 'reads': 2, 'teacher': 2, 'grandfather': 2, 'items': 2, 'mathbf': 2, 'mathit': 2, 'cheese': 2, 'mouse': 2, 'mediumgrey': 2, 'others': 1, 'loose': 1, 'loses': 1, 'leading': 1, 'Springfield': 1, 'Super': 1, 'High': 1, 'Yield': 1, 'accounts': 1, 'Lucy': 1, 'tfrac': 1, 'geometrically': 1, 'training': 1, 'triathlon': 1, 'bikes': 1, 'parking': 1, 'shoes': 1, 'catching': 1, 'runs': 1, 'workout': 1, 'Krzysztof': 1, 'mb': 1, 'polygon': 1, 'diagonals': 1, 'author': 1, 'completed': 1, 'BeginArrow': 1, 'twins': 1, 'Mackenzie': 1, 'May': 1, 'halfway': 1, 'Lee': 1, 'cse': 1, 'Engineers': 1, 'crushing': 1, 'load': 1, 'pillars': 1, 'PQR': 1, 'labelled': 1, 'currently': 1, 'Vertex': 1, 'seated': 1, 'fourths': 1, 'empty': 1, 'ending': 1, 'Max': 1, 'dirt': 1, 'upfront': 1, 'dx': 1, 'Ay': 1, 'Antonette': 1, 'tests': 1, 'engineer': 1, 'worth': 1, 'moon': 1, 'earth': 1, 'layers': 1, 'supermarket': 1, 'independently': 1, 'heard': 1, 'dimes': 1, 'currentprojection': 1, 'orthographic': 1, 'yd': 1, 'statement': 1, 'rise': 1, 'Homewood': 1, 'Middle': 1, 'boy': 1, 'girl': 1, 'traded': 1, 'Circles': 1, 'centers': 1, 'alternatively': 1, 'Anisha': 1, 'grocer': 1, 'lower': 1, 'basketball': 1, 'successful': 1, 'Frood': 1, 'Eating': 1, 'hot': 1, 'likes': 1, 'Popsicle': 1, 'keeps': 1, 'consumption': 1, 'Popsicles': 1, 'Uri': 1, 'Gen': 1, 'Kevin': 1, 'Kangaroo': 1, 'hopping': 1, 'tires': 1, 'hopped': 1, 'hops': 1, 'Jane': 1, 'Alice': 1, 'beneath': 1, 'Dr': 1, 'Fu': 1, 'Manchu': 1, 'fiftieth': 1, 'alone': 1, 'remains': 1, 'mowed': 1, 'walks': 1, 'median': 1, 'plot': 1, 'regions': 1, 'horizontal': 1, 'foreign': 1, 'exchange': 1, 'Paris': 1, 'accepts': 1, 'neither': 1, 'contribute': 1, 'euro': 1, 'USD': 1, 'Lucky': 1, 'Lacy': 1, 'missed': 1, 'Jana': 1, 'overlaid': 1, 'grouped': 1, 'alphabet': 1, 'assigned': 1, 'random': 1, 'word': 1, 'MATH': 1, 'TEAM': 1, 'MEET': 1, 'city': 1, 'taxation': 1, 'thousand': 1, 'Take': 1, 'electronics': 1, 'popularity': 1, 'theory': 1, 'numerically': 1, 'Dime': 1, 'rotated': 1, 'Bernard': 1, 'precedes': 1, 'park': 1, 'shows': 1, 'although': 1, 'appear': 1, 'appears': 1, 'borrow': 1, 'options': 1, 'accrue': 1, 'lump': 1, 'schemes': 1, 'studying': 1, 'exception': 1, 'stages': 1, 'toothpick': 1, 'solves': 1, 'exist': 1, 'Since': 1, 'representing': 1, 'Mars': 1, 'possibilities': 1, 'coincides': 1, 'U': 1, 'linearly': 1, 'XZ': 1, 'ZY': 1, 'fg': 1, 'gh': 1, 'hj': 1, 'fj': 1, 'pure': 1, 'Salt': 1, 'Lake': 1, 'UT': 1, 'noon': 1, 'Starting': 1, 'Shaffiq': 1, 'divides': 1, 'reaches': 1, 'inverses': 1, 'Theodore': 1, 'Sturgeon': 1, 'paperback': 1, 'Theresa': 1, 'copy': 1, 'Ramon': 1, 'item': 1, 'primes': 1, 'appearance': 1, 'mathematical': 1, 'apply': 1, 'radicals': 1, 'everyday': 1, 'Hardey': 1, 'Fitness': 1, 'Center': 1, 'management': 1, 'survey': 1, 'Quantities': 1, 'thousandths': 1, 'CB': 1, 'Ap': 1, 'Bp': 1, 'Cp': 1, 'possibly': 1, 'lab': 1, 'require': 1, 'wx': 1, 'Academic': 1, 'Academy': 1, 'miss': 1, 'occur': 1, 'py': 1, 'mnp': 1, 'randomly': 1, 'choose': 1, 'window': 1, 'bounce': 1, 'rises': 1, 'caught': 1, 'hitting': 1, 'meter': 1, 'travelled': 1, 'tick': 1, 'mark': 1, 'alternate': 1, 'Eight': 1, 'cylindrical': 1, 'differences': 1, 'constructing': 1, 'around': 1, 'tennis': 1, 'Regulation': 1, 'states': 1, 'accommodate': 1, 'benches': 1, 'storage': 1, 'optimal': 1, 'Six': 1, 'labeled': 1, 'intersections': 1, 'except': 1, 'Karen': 1, 'drove': 1, 'continuously': 1, 'AMC': 1, 'awarding': 1, 'looking': 1, 'attempt': 1, 'leave': 1, 'correctly': 1, 'signs': 1, 'acd': 1, 'curve': 1, 'cg': 1, 'government': 1, 'bond': 1, 'Topsoil': 1, 'topsoil': 1, 'evidence': 1, 'includes': 1, 'Based': 1, 'call': 1, 'ounce': 1, 'stirred': 1, 'While': 1, 'watching': 1, 'circus': 1, 'elephants': 1, 'see': 1, 'land': 1, 'restrict': 1, 'polygons': 1, 'Eighty': 1, 'Complex': 1, 'often': 1, 'dealing': 1, 'alternating': 1, 'AC': 1, 'circuits': 1, 'IZ': 1, 'voltage': 1, 'known': 1, 'impedance': 1, 'Joanie': 1, 'columns': 1, 'experiment': 1, 'jx': 1, 'symbols': 1, 'dotsm': 1, 'everyone': 1, 'denominators': 1, 'building': 1, 'bordered': 1, 'rods': 1, 'connectors': 1, 'connector': 1, 'rod': 1, 'homeowners': 1, 'plan': 1, 'middle': 1, 'ascending': 1, 'rectangles': 1, 'trips': 1, 'forms': 1, 'Fully': 1, 'twenty': 1, 'blueberry': 1, 'yields': 1, 'trade': 1, 'forty': 1, 'charging': 1, 'thereafter': 1, 'Noah': 1, 'living': 1, 'evenly': 1, 'divide': 1, 'tens': 1, 'planning': 1, 'Unfortunately': 1, 'sick': 1, 'No': 1, 'ca': 1, 'Together': 1, 'mathbb': 1, 'Fat': 1, 'Thin': 1, 'emph': 1, 'Among': 1, 'question': 1, 'NEI': 1, 'sample': 1, 'oxygen': 1, 'move': 1, 'Tim': 1, 'edges': 1, 'ad': 1, 'steadily': 1, 'apartment': 1, 'numbered': 1, 'Ethan': 1, 'Gertie': 1, 'repayments': 1, 'change': 1, 'nickel': 1, 'nickels': 1, 'farthest': 1, 'cccc': 1, 'away': 1, 'among': 1, 'ways': 1, 'whereas': 1, 'managed': 1, 'lose': 1, 'support': 1, 'medical': 1, 'supported': 1, 'pinky': 1, 'applies': 1, 'ring': 1, 'applying': 1, 'suppose': 1, 'longest': 1, 'quadrilateral': 1, 'Its': 1, 'sin': 1, 'Place': 1, 'including': 1, 'hill': 1, 'max': 1, 'whichever': 1, 'similarly': 1, 'Shown': 1, 'Ivan': 1, 'drives': 1, 'party': 1, 'town': 1, 'agree': 1, 'locations': 1, 'location': 1, 'Anthony': 1, 'throw': 1, 'success': 1, 'Fran': 1, 'rides': 1, 'Marcelle': 1, 'think': 1, 'involving': 1, 'Later': 1, 'tired': 1, 'simplify': 1, 'exponents': 1, 'measures': 1, 'carpet': 1, 'Rural': 1, 'USA': 1, 'enrolled': 1, 'moment': 1, 'remove': 1, 'filled': 1, 'since': 1, 'jumbo': 1, 'As': 1, 'meets': 1, 'extended': 1, 'shares': 1, 'treasure': 1, 'interesting': 1, 'distributed': 1, 'gold': 1, 'competition': 1, 'held': 1, 'stool': 1, 'Po': 1, 'said': 1, 'Type': 1, 'option': 1, 'Rosa': 1, 'Rose': 1, 'Shop': 1, 'equilateral': 1, 'configuration': 1, 'stores': 1, 'produces': 1, 'Exhausted': 1, 'fewer': 1, 'manages': 1, 'freight': 1, 'minute': 1, 'Wendy': 1, 'Milton': 1, 'spilled': 1, 'stain': 1, 'cats': 1, 'returns': 1, 'road': 1, 'mm': 1, 'Climbing': 1, 'Jimmy': 1, 'climb': 1, 'flights': 1, 'purchases': 1, 'Sanchez': 1, 'asked': 1, 'mistake': 1, 'Maria': 1, 'union': 1, 'intervals': 1, 'Machiavelli': 1, 'television': 1, 'discounted': 1, 'slashed': 1, 'liquidation': 1, 'reduced': 1, 'share': 1, 'Use': 1, 'Sam': 1, 'hired': 1, 'earnings': 1, 'merry': 1, 'AE': 1, 'CD': 1, 'late': 1, 'Jenna': 1, 'due': 1, 'date': 1, 'Exactly': 1, 'reading': 1, 'prism': 1, 'machine': 1, 'input': 1, 'currentpen': 1, 'Multiply': 1, 'Compare': 1, 'Add': 1, 'Subtract': 1, 'Out': 1, 'Sin': 1, 'usually': 1, 'lifts': 1, 'sections': 1, 'First': 1, 'Business': 1, 'Economy': 1, 'attainable': 1, 'perimeters': 1, 'Abraham': 1, 'removing': 1, 'leftmost': 1, 'ninth': 1, 'Kyle': 1, 'sixteenth': 1, 'seventeenth': 1, 'Phoenix': 1, 'Rocky': 1, 'Path': 1, 'Trail': 1, 'averaged': 1, 'hike': 1, 'trail': 1, 'raises': 1, 'hd': 1, 'rebounds': 1, 'hits': 1, 'rccccc': 1, 'rd': 1, 'strictly': 1, 'Sixteen': 1, 'straight': 1, 'factory': 1, 'production': 1, 'Dave': 1, 'indefinitely': 1, 'dotfactor': 1, 'mathematician': 1, 'drinks': 1, 'wish': 1, 'Hogwarts': 1, 'lvert': 1, 'rvert': 1, 'solving': 1, 'Positive': 1, 'rs': 1, 'believes': 1, 'related': 1, 'believe': 1, 'binomials': 1, 'Both': 1, 'dad': 1, 'thirty': 1, 'within': 1, 'mutually': 1, 'externally': 1, 'radii': 1, 'entrance': 1, 'shopping': 1, 'warehouse': 1, 'allow': 1, 'tied': 1, 'post': 1, 'rope': 1, 'fundraiser': 1, 'sandwich': 1, 'globs': 1, 'glob': 1, 'blobs': 1, 'blob': 1, 'spaced': 1, 'farmer': 1, 'Separate': 1, 'gasoline': 1, 'marble': 1, 'play': 1, 'rolling': 1, 'player': 1, 'awarded': 1, 'Jenny': 1, 'remained': 1, 'accidentally': 1, 'subtracting': 1, 'Working': 1, 'Xenia': 1, 'hourly': 1, 'wage': 1, 'Participation': 1, 'soccer': 1, 'higher': 1, 'females': 1, 'participating': 1, 'participants': 1, 'borrowing': 1, 'offers': 1, 'everything': 1, 'nested': 1, 'abcd': 1, 'satisfied': 1, 'regularly': 1, 'coupon': 1, 'discount': 1, 'final': 1, 'person': 1, 'mows': 1, 'uphill': 1, 'hr': 1, 'Murtha': 1, 'collection': 1, 'twelfth': 1, 'Perry': 1, 'Hotter': 1, 'offering': 1, 'clever': 1, 'shopper': 1, 'realizes': 1, 'depending': 1, 'save': 1, 'taking': 1, 'better': 1, 'Tyler': 1, 'Lines': 1, 'Krista': 1, 'Sunday': 1, 'morning': 1, 'exceed': 1, 'downwards': 1, 'translated': 1, 'Corn': 1, 'ran': 1, 'rates': 1, 'leaves': 1, 'board': 1, 'remain': 1, 'Heidi': 1, 'Eleven': 1, 'seventy': 1, 'deciding': 1, 'books': 1, 'sold': 1, 'revenue': 1, 'March': 1, 'occurs': 1, 'convenience': 1, 'sq': 1, 'longer': 1, 'Carlos': 1, 'flipping': 1, 'flip': 1, 'wins': 1, 'win': 1, 'sign': 1, 'painter': 1, 'appropriate': 1, 'collect': 1, 'Monica': 1, 'shorter': 1, 'dispense': 1, 'grandparents': 1, 'gave': 1, 'gift': 1, 'Consecutive': 1, 'place': 1, 'elongated': 1, 'stands': 1, 'Marina': 1, 'eventually': 1, 'Remember': 1, 'newer': 1, 'Do': 1, 'determined': 1, 'director': 1, 'arranges': 1, 'reduces': 1, 'covering': 1, 'Smith': 1, 'magic': 1, 'column': 1, 'later': 1, 'chessboard': 1, 'puts': 1, 'soon': 1, 'Samson': 1, 'derives': 1, 'Utility': 1, 'done': 1, 'plays': 1, 'spending': 1, 'playing': 1, 'Answer': 1, 'proportionality': 1, 'stays': 1, 'parts': 1, 'cities': 1, 'angled': 1, 'booking': 1, 'flew': 1, 'fly': 1, 'leg': 1, 'With': 1, 'Karl': 1, 'attempting': 1, 'economic': 1, 'fp': 1, 'cow': 1, 'altogether': 1, 'Every': 1, 'kicked': 1, 'join': 1, 'elected': 1, 'become': 1, 'fifteen': 1, 'Moving': 1, 'applications': 1, 'cliff': 1, 'picking': 1, 'odometer': 1, 'picks': 1, 'drops': 1, 'drive': 1, 'combination': 1, 'asks': 1, 'calculates': 1, 'twelve': 1, 'Scott': 1, 'completes': 1, 'Noelle': 1, 'assignment': 1, 'rightarrow': 1, 'Janice': 1, 'farther': 1, 'closer': 1}\n"
          ]
        }
      ]
    },
    {
      "cell_type": "code",
      "metadata": {
        "id": "pFxFzXX3c-Qi"
      },
      "source": [
        "mw = pd.DataFrame({'Word': list(counts.keys()) , 'Value': list(counts.values()) })"
      ],
      "execution_count": 98,
      "outputs": []
    },
    {
      "cell_type": "code",
      "metadata": {
        "colab": {
          "base_uri": "https://localhost:8080/",
          "height": 17
        },
        "id": "AP3YcTBydS4K",
        "outputId": "0f566e00-b68f-4eee-be16-993e0fcb66e1"
      },
      "source": [
        "mw.to_csv(\"Mw.csv\")\n",
        "files.download('Mw.csv')"
      ],
      "execution_count": 100,
      "outputs": [
        {
          "output_type": "display_data",
          "data": {
            "application/javascript": [
              "\n",
              "    async function download(id, filename, size) {\n",
              "      if (!google.colab.kernel.accessAllowed) {\n",
              "        return;\n",
              "      }\n",
              "      const div = document.createElement('div');\n",
              "      const label = document.createElement('label');\n",
              "      label.textContent = `Downloading \"${filename}\": `;\n",
              "      div.appendChild(label);\n",
              "      const progress = document.createElement('progress');\n",
              "      progress.max = size;\n",
              "      div.appendChild(progress);\n",
              "      document.body.appendChild(div);\n",
              "\n",
              "      const buffers = [];\n",
              "      let downloaded = 0;\n",
              "\n",
              "      const channel = await google.colab.kernel.comms.open(id);\n",
              "      // Send a message to notify the kernel that we're ready.\n",
              "      channel.send({})\n",
              "\n",
              "      for await (const message of channel.messages) {\n",
              "        // Send a message to notify the kernel that we're ready.\n",
              "        channel.send({})\n",
              "        if (message.buffers) {\n",
              "          for (const buffer of message.buffers) {\n",
              "            buffers.push(buffer);\n",
              "            downloaded += buffer.byteLength;\n",
              "            progress.value = downloaded;\n",
              "          }\n",
              "        }\n",
              "      }\n",
              "      const blob = new Blob(buffers, {type: 'application/binary'});\n",
              "      const a = document.createElement('a');\n",
              "      a.href = window.URL.createObjectURL(blob);\n",
              "      a.download = filename;\n",
              "      div.appendChild(a);\n",
              "      a.click();\n",
              "      div.remove();\n",
              "    }\n",
              "  "
            ],
            "text/plain": [
              "<IPython.core.display.Javascript object>"
            ]
          },
          "metadata": {}
        },
        {
          "output_type": "display_data",
          "data": {
            "application/javascript": [
              "download(\"download_e453f59c-8ad3-44c2-b02b-0b2a1b929ee1\", \"Mw.csv\", 31032)"
            ],
            "text/plain": [
              "<IPython.core.display.Javascript object>"
            ]
          },
          "metadata": {}
        }
      ]
    },
    {
      "cell_type": "code",
      "metadata": {
        "id": "dQhvg2Ndbpo1"
      },
      "source": [
        "import itertools \n",
        "c = dict(itertools.islice(counts.items(), 30)) "
      ],
      "execution_count": 93,
      "outputs": []
    },
    {
      "cell_type": "code",
      "metadata": {
        "colab": {
          "base_uri": "https://localhost:8080/"
        },
        "id": "cljdM1pJbRVU",
        "outputId": "211127a8-4296-4cb3-b665-bce9fb956061"
      },
      "source": [
        "  \n",
        "import itertools \n",
        "    \n",
        "# Initialize dictionary\n",
        "test_dict = {'Geeks' : 1, 'For':2,  'is' : 3, 'best' : 4, 'for' : 5, 'CS' : 6} \n",
        "    \n",
        "# printing original dictionary \n",
        "print(\"The original dictionary : \" +  str(test_dict)) \n",
        "    \n",
        "# Initialize limit \n",
        "N = 3\n",
        "    \n",
        "# Using islice() + items() \n",
        "# Get first N items in dictionary \n",
        "out = dict(itertools.islice(test_dict.items(), N)) \n",
        "        \n",
        "# printing result  \n",
        "print(\"Dictionary limited by K is : \" + str(out))"
      ],
      "execution_count": 80,
      "outputs": [
        {
          "output_type": "stream",
          "name": "stdout",
          "text": [
            "The original dictionary : {'Geeks': 1, 'For': 2, 'is': 3, 'best': 4, 'for': 5, 'CS': 6}\n",
            "Dictionary limited by K is : {'Geeks': 1, 'For': 2, 'is': 3}\n"
          ]
        }
      ]
    },
    {
      "cell_type": "code",
      "metadata": {
        "id": "5oS9D4iiZ6AU"
      },
      "source": [
        "import matplotlib\n",
        "import seaborn as sns\n",
        "from matplotlib import pyplot as plt\n",
        "from matplotlib.pyplot import figure\n",
        "\n",
        "#sns.barplot(x = list(c.keys()),y= list(c.values()))\n",
        "\n",
        "\n",
        "\n",
        "figure(num=None, figsize=(12,12), dpi=80, facecolor='w', edgecolor='r')\n",
        "sns.barplot(x = list(c.keys()),y= list(c.values()) )\n",
        "\n",
        "#plt.bar(c.keys(), c.values())\n",
        "plt.show()"
      ],
      "execution_count": null,
      "outputs": []
    },
    {
      "cell_type": "code",
      "metadata": {
        "id": "H2Bk8koOXwDd"
      },
      "source": [
        "mwords = list(set(math_words))"
      ],
      "execution_count": 59,
      "outputs": []
    },
    {
      "cell_type": "code",
      "metadata": {
        "colab": {
          "base_uri": "https://localhost:8080/"
        },
        "id": "VenGhuXiX36C",
        "outputId": "1c8e4551-31c1-4afc-afdf-5f635e08098e"
      },
      "source": [
        "len(mwords)"
      ],
      "execution_count": 60,
      "outputs": [
        {
          "output_type": "execute_result",
          "data": {
            "text/plain": [
              "2369"
            ]
          },
          "metadata": {},
          "execution_count": 60
        }
      ]
    },
    {
      "cell_type": "code",
      "metadata": {
        "colab": {
          "base_uri": "https://localhost:8080/"
        },
        "id": "RpCiku7UYwhy",
        "outputId": "b739f1d7-08f1-4215-b4f7-cbe46d4aba14"
      },
      "source": [
        "import nltk \n",
        "nltk.download('stopwords')"
      ],
      "execution_count": 63,
      "outputs": [
        {
          "output_type": "stream",
          "name": "stdout",
          "text": [
            "[nltk_data] Downloading package stopwords to /root/nltk_data...\n",
            "[nltk_data]   Unzipping corpora/stopwords.zip.\n"
          ]
        },
        {
          "output_type": "execute_result",
          "data": {
            "text/plain": [
              "True"
            ]
          },
          "metadata": {},
          "execution_count": 63
        }
      ]
    },
    {
      "cell_type": "code",
      "metadata": {
        "id": "_WLifpXWX7XL"
      },
      "source": [
        "from nltk.corpus import stopwords\n",
        "\n",
        "filtered_mwords = [word for word in mwords if word not in stopwords.words('english')]"
      ],
      "execution_count": 64,
      "outputs": []
    },
    {
      "cell_type": "code",
      "metadata": {
        "colab": {
          "base_uri": "https://localhost:8080/"
        },
        "id": "arBwMaZbY3Kw",
        "outputId": "1ee5514f-3087-463c-f51a-cca05bfc5c0e"
      },
      "source": [
        "len(filtered_mwords)"
      ],
      "execution_count": 65,
      "outputs": [
        {
          "output_type": "execute_result",
          "data": {
            "text/plain": [
              "2258"
            ]
          },
          "metadata": {},
          "execution_count": 65
        }
      ]
    },
    {
      "cell_type": "code",
      "metadata": {
        "id": "fGg_gy8WY7uC"
      },
      "source": [
        ""
      ],
      "execution_count": null,
      "outputs": []
    },
    {
      "cell_type": "markdown",
      "metadata": {
        "id": "p_BBZLrZYB7U"
      },
      "source": [
        "#Drawbacks\n",
        "\n",
        "1) Words like frac,sum which could be the latex symbols how do we identify and not consider them\n",
        "\n",
        "2) Single character words like a,x which represent variables in an equation should they be considered or left out\n"
      ]
    },
    {
      "cell_type": "code",
      "metadata": {
        "id": "we-bZwrRYdW7"
      },
      "source": [
        ""
      ],
      "execution_count": null,
      "outputs": []
    }
  ]
}