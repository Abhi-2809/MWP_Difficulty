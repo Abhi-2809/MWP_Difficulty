{
  "nbformat": 4,
  "nbformat_minor": 0,
  "metadata": {
    "colab": {
      "name": "MWP Datset(3).ipynb",
      "provenance": []
    },
    "kernelspec": {
      "name": "python3",
      "display_name": "Python 3"
    },
    "language_info": {
      "name": "python"
    }
  },
  "cells": [
    {
      "cell_type": "code",
      "metadata": {
        "colab": {
          "resources": {
            "http://localhost:8080/nbextensions/google.colab/files.js": {
              "data": "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",
              "ok": true,
              "headers": [
                [
                  "content-type",
                  "application/javascript"
                ]
              ],
              "status": 200,
              "status_text": ""
            }
          },
          "base_uri": "https://localhost:8080/",
          "height": 73
        },
        "id": "hpii2rfFZN8h",
        "outputId": "05d4803b-1b9f-4d90-845a-781a20b9d244"
      },
      "source": [
        "from google.colab import files\n",
        "uploaded = files.upload()"
      ],
      "execution_count": 1,
      "outputs": [
        {
          "output_type": "display_data",
          "data": {
            "text/html": [
              "\n",
              "     <input type=\"file\" id=\"files-15d57c99-f56d-4e16-9376-553e5da500fe\" name=\"files[]\" multiple disabled\n",
              "        style=\"border:none\" />\n",
              "     <output id=\"result-15d57c99-f56d-4e16-9376-553e5da500fe\">\n",
              "      Upload widget is only available when the cell has been executed in the\n",
              "      current browser session. Please rerun this cell to enable.\n",
              "      </output>\n",
              "      <script src=\"/nbextensions/google.colab/files.js\"></script> "
            ],
            "text/plain": [
              "<IPython.core.display.HTML object>"
            ]
          },
          "metadata": {}
        },
        {
          "output_type": "stream",
          "name": "stdout",
          "text": [
            "Saving MWP Dataset(List of Num and words).csv to MWP Dataset(List of Num and words).csv\n"
          ]
        }
      ]
    },
    {
      "cell_type": "code",
      "metadata": {
        "id": "JICSo7kpaSxe"
      },
      "source": [
        "import pandas as pd\n",
        "import numpy as np"
      ],
      "execution_count": 2,
      "outputs": []
    },
    {
      "cell_type": "code",
      "metadata": {
        "id": "i6QZi-pYaceb"
      },
      "source": [
        "df = pd.read_csv('MWP Dataset(List of Num and words).csv')"
      ],
      "execution_count": 3,
      "outputs": []
    },
    {
      "cell_type": "code",
      "metadata": {
        "colab": {
          "base_uri": "https://localhost:8080/",
          "height": 615
        },
        "id": "cq2pr0HaagDh",
        "outputId": "f42737a6-3697-4315-8804-39e8d85c7b77"
      },
      "source": [
        "df"
      ],
      "execution_count": 4,
      "outputs": [
        {
          "output_type": "execute_result",
          "data": {
            "text/html": [
              "<div>\n",
              "<style scoped>\n",
              "    .dataframe tbody tr th:only-of-type {\n",
              "        vertical-align: middle;\n",
              "    }\n",
              "\n",
              "    .dataframe tbody tr th {\n",
              "        vertical-align: top;\n",
              "    }\n",
              "\n",
              "    .dataframe thead th {\n",
              "        text-align: right;\n",
              "    }\n",
              "</style>\n",
              "<table border=\"1\" class=\"dataframe\">\n",
              "  <thead>\n",
              "    <tr style=\"text-align: right;\">\n",
              "      <th></th>\n",
              "      <th>Unnamed: 0</th>\n",
              "      <th>Unnamed: 0.1</th>\n",
              "      <th>Problem</th>\n",
              "      <th>Level</th>\n",
              "      <th>Type</th>\n",
              "      <th>Solution</th>\n",
              "      <th>Extracted New Num</th>\n",
              "      <th>Final extracted words</th>\n",
              "    </tr>\n",
              "  </thead>\n",
              "  <tbody>\n",
              "    <tr>\n",
              "      <th>0</th>\n",
              "      <td>0</td>\n",
              "      <td>0</td>\n",
              "      <td>There are constants    alpha  and    beta  suc...</td>\n",
              "      <td>Level 5</td>\n",
              "      <td>Algebra</td>\n",
              "      <td>The numerator  x^2 - 80x + 1551  factors as  (...</td>\n",
              "      <td>[2, 80, 1551, 2, 57, 2970]</td>\n",
              "      <td>['There', 'are', 'constants', 'alpha', 'and', ...</td>\n",
              "    </tr>\n",
              "    <tr>\n",
              "      <th>1</th>\n",
              "      <td>1</td>\n",
              "      <td>1</td>\n",
              "      <td>The length of the segment between the points  ...</td>\n",
              "      <td>Level 5</td>\n",
              "      <td>Algebra</td>\n",
              "      <td>By the distance formula, the distance from  (2...</td>\n",
              "      <td>[2, 4, 4, 1, 2, 10]</td>\n",
              "      <td>['The', 'length', 'of', 'the', 'segment', 'bet...</td>\n",
              "    </tr>\n",
              "    <tr>\n",
              "      <th>2</th>\n",
              "      <td>2</td>\n",
              "      <td>2</td>\n",
              "      <td>Chewbacca has 20 pieces of cherry gum and 30 p...</td>\n",
              "      <td>Level 5</td>\n",
              "      <td>Algebra</td>\n",
              "      <td>If Chewbacca loses one pack of cherry gum, the...</td>\n",
              "      <td>[20, 30, 5]</td>\n",
              "      <td>['Chewbacca', 'has', 'pieces', 'of', 'cherry',...</td>\n",
              "    </tr>\n",
              "    <tr>\n",
              "      <th>3</th>\n",
              "      <td>3</td>\n",
              "      <td>3</td>\n",
              "      <td>For some constants  a  and  b,  let   [f(x) = ...</td>\n",
              "      <td>Level 5</td>\n",
              "      <td>Algebra</td>\n",
              "      <td>Setting  x = 3,  we get  f(3) = -1.  Since  -1...</td>\n",
              "      <td>[2, 8, 3, 2]</td>\n",
              "      <td>['For', 'some', 'constants', 'a', 'and', 'b', ...</td>\n",
              "    </tr>\n",
              "    <tr>\n",
              "      <th>4</th>\n",
              "      <td>4</td>\n",
              "      <td>4</td>\n",
              "      <td>Calculate the sum  1 + 3 + 5 +   cdots + 15 + ...</td>\n",
              "      <td>Level 2</td>\n",
              "      <td>Algebra</td>\n",
              "      <td>The arithmetic sequence 1, 3, 5,    dots , 17,...</td>\n",
              "      <td>[1, 3, 5, 15, 17]</td>\n",
              "      <td>['Calculate', 'the', 'sum', 'cdots']</td>\n",
              "    </tr>\n",
              "    <tr>\n",
              "      <th>...</th>\n",
              "      <td>...</td>\n",
              "      <td>...</td>\n",
              "      <td>...</td>\n",
              "      <td>...</td>\n",
              "      <td>...</td>\n",
              "      <td>...</td>\n",
              "      <td>...</td>\n",
              "      <td>...</td>\n",
              "    </tr>\n",
              "    <tr>\n",
              "      <th>1739</th>\n",
              "      <td>1739</td>\n",
              "      <td>1739</td>\n",
              "      <td>What is the slope of the line passing through ...</td>\n",
              "      <td>Level 2</td>\n",
              "      <td>Algebra</td>\n",
              "      <td>We have  m =   dfrac{y_2 - y_1}{x_2-x_1} =   d...</td>\n",
              "      <td>[3, 5, 2, 5]</td>\n",
              "      <td>['What', 'is', 'the', 'slope', 'of', 'the', 'l...</td>\n",
              "    </tr>\n",
              "    <tr>\n",
              "      <th>1740</th>\n",
              "      <td>1740</td>\n",
              "      <td>1740</td>\n",
              "      <td>Evaluate  i^{11} + i^{16} + i^{21} + i^{26} + ...</td>\n",
              "      <td>Level 4</td>\n",
              "      <td>Algebra</td>\n",
              "      <td>We know that by definition,  i^2=-1 , so  i^4=...</td>\n",
              "      <td>[11, 16, 21, 26, 31]</td>\n",
              "      <td>['Evaluate', 'i', 'i', 'i', 'i', 'i']</td>\n",
              "    </tr>\n",
              "    <tr>\n",
              "      <th>1741</th>\n",
              "      <td>1741</td>\n",
              "      <td>1741</td>\n",
              "      <td>If  a  is a constant such that  4x^2 - 12x + a...</td>\n",
              "      <td>Level 3</td>\n",
              "      <td>Algebra</td>\n",
              "      <td>If  4x^2 - 12x + a  is the square of a binomia...</td>\n",
              "      <td>[4, 2, 12]</td>\n",
              "      <td>['If', 'a', 'is', 'a', 'constant', 'such', 'th...</td>\n",
              "    </tr>\n",
              "    <tr>\n",
              "      <th>1742</th>\n",
              "      <td>1742</td>\n",
              "      <td>1742</td>\n",
              "      <td>Given  a   star b = a^2 + 2ab + b^2 , what is ...</td>\n",
              "      <td>Level 3</td>\n",
              "      <td>Algebra</td>\n",
              "      <td>Note that  a   star b = a^2 + 2ab + b^2 = (a +...</td>\n",
              "      <td>[2, 2, 2, 4, 6]</td>\n",
              "      <td>['Given', 'a', 'star', 'b', 'a', 'ab', 'b', 'w...</td>\n",
              "    </tr>\n",
              "    <tr>\n",
              "      <th>1743</th>\n",
              "      <td>1743</td>\n",
              "      <td>1743</td>\n",
              "      <td>The graph of the function  f(x)  is shown belo...</td>\n",
              "      <td>Level 5</td>\n",
              "      <td>Algebra</td>\n",
              "      <td>As shown by the graph, there are  3  values of...</td>\n",
              "      <td>[3, 7, 4, 0, 5, 0, 7, 10, 4, 4, 5, 66, 1, 5, 6...</td>\n",
              "      <td>['The', 'graph', 'of', 'the', 'function', 'f',...</td>\n",
              "    </tr>\n",
              "  </tbody>\n",
              "</table>\n",
              "<p>1744 rows × 8 columns</p>\n",
              "</div>"
            ],
            "text/plain": [
              "      Unnamed: 0  ...                              Final extracted words\n",
              "0              0  ...  ['There', 'are', 'constants', 'alpha', 'and', ...\n",
              "1              1  ...  ['The', 'length', 'of', 'the', 'segment', 'bet...\n",
              "2              2  ...  ['Chewbacca', 'has', 'pieces', 'of', 'cherry',...\n",
              "3              3  ...  ['For', 'some', 'constants', 'a', 'and', 'b', ...\n",
              "4              4  ...               ['Calculate', 'the', 'sum', 'cdots']\n",
              "...          ...  ...                                                ...\n",
              "1739        1739  ...  ['What', 'is', 'the', 'slope', 'of', 'the', 'l...\n",
              "1740        1740  ...              ['Evaluate', 'i', 'i', 'i', 'i', 'i']\n",
              "1741        1741  ...  ['If', 'a', 'is', 'a', 'constant', 'such', 'th...\n",
              "1742        1742  ...  ['Given', 'a', 'star', 'b', 'a', 'ab', 'b', 'w...\n",
              "1743        1743  ...  ['The', 'graph', 'of', 'the', 'function', 'f',...\n",
              "\n",
              "[1744 rows x 8 columns]"
            ]
          },
          "metadata": {},
          "execution_count": 4
        }
      ]
    },
    {
      "cell_type": "code",
      "metadata": {
        "id": "nqVj43UFbBxV"
      },
      "source": [
        "import ast\n",
        "final_extwords =[]\n",
        "\n",
        "for i in range(len(df)):\n",
        "  final_extwords.append(ast.literal_eval(df['Final extracted words'][i]))"
      ],
      "execution_count": 15,
      "outputs": []
    },
    {
      "cell_type": "code",
      "metadata": {
        "id": "CWrqtVDabigi"
      },
      "source": [
        "len_words = []\n",
        "\n",
        "for i in range(len(final_extwords)):\n",
        "  len_words.append(len(final_extwords[i]))"
      ],
      "execution_count": 27,
      "outputs": []
    },
    {
      "cell_type": "code",
      "metadata": {
        "colab": {
          "base_uri": "https://localhost:8080/",
          "height": 615
        },
        "id": "4EBrMRWJcHi9",
        "outputId": "1012bc4f-0eae-4bbf-8069-39948959dac8"
      },
      "source": [
        "df['Length_Words'] = len_words\n",
        "df"
      ],
      "execution_count": 30,
      "outputs": [
        {
          "output_type": "execute_result",
          "data": {
            "text/html": [
              "<div>\n",
              "<style scoped>\n",
              "    .dataframe tbody tr th:only-of-type {\n",
              "        vertical-align: middle;\n",
              "    }\n",
              "\n",
              "    .dataframe tbody tr th {\n",
              "        vertical-align: top;\n",
              "    }\n",
              "\n",
              "    .dataframe thead th {\n",
              "        text-align: right;\n",
              "    }\n",
              "</style>\n",
              "<table border=\"1\" class=\"dataframe\">\n",
              "  <thead>\n",
              "    <tr style=\"text-align: right;\">\n",
              "      <th></th>\n",
              "      <th>Unnamed: 0</th>\n",
              "      <th>Unnamed: 0.1</th>\n",
              "      <th>Problem</th>\n",
              "      <th>Level</th>\n",
              "      <th>Type</th>\n",
              "      <th>Solution</th>\n",
              "      <th>Extracted New Num</th>\n",
              "      <th>Final extracted words</th>\n",
              "      <th>Length_Words</th>\n",
              "    </tr>\n",
              "  </thead>\n",
              "  <tbody>\n",
              "    <tr>\n",
              "      <th>0</th>\n",
              "      <td>0</td>\n",
              "      <td>0</td>\n",
              "      <td>There are constants    alpha  and    beta  suc...</td>\n",
              "      <td>Level 5</td>\n",
              "      <td>Algebra</td>\n",
              "      <td>The numerator  x^2 - 80x + 1551  factors as  (...</td>\n",
              "      <td>[2, 80, 1551, 2, 57, 2970]</td>\n",
              "      <td>['There', 'are', 'constants', 'alpha', 'and', ...</td>\n",
              "      <td>22</td>\n",
              "    </tr>\n",
              "    <tr>\n",
              "      <th>1</th>\n",
              "      <td>1</td>\n",
              "      <td>1</td>\n",
              "      <td>The length of the segment between the points  ...</td>\n",
              "      <td>Level 5</td>\n",
              "      <td>Algebra</td>\n",
              "      <td>By the distance formula, the distance from  (2...</td>\n",
              "      <td>[2, 4, 4, 1, 2, 10]</td>\n",
              "      <td>['The', 'length', 'of', 'the', 'segment', 'bet...</td>\n",
              "      <td>24</td>\n",
              "    </tr>\n",
              "    <tr>\n",
              "      <th>2</th>\n",
              "      <td>2</td>\n",
              "      <td>2</td>\n",
              "      <td>Chewbacca has 20 pieces of cherry gum and 30 p...</td>\n",
              "      <td>Level 5</td>\n",
              "      <td>Algebra</td>\n",
              "      <td>If Chewbacca loses one pack of cherry gum, the...</td>\n",
              "      <td>[20, 30, 5]</td>\n",
              "      <td>['Chewbacca', 'has', 'pieces', 'of', 'cherry',...</td>\n",
              "      <td>77</td>\n",
              "    </tr>\n",
              "    <tr>\n",
              "      <th>3</th>\n",
              "      <td>3</td>\n",
              "      <td>3</td>\n",
              "      <td>For some constants  a  and  b,  let   [f(x) = ...</td>\n",
              "      <td>Level 5</td>\n",
              "      <td>Algebra</td>\n",
              "      <td>Setting  x = 3,  we get  f(3) = -1.  Since  -1...</td>\n",
              "      <td>[2, 8, 3, 2]</td>\n",
              "      <td>['For', 'some', 'constants', 'a', 'and', 'b', ...</td>\n",
              "      <td>44</td>\n",
              "    </tr>\n",
              "    <tr>\n",
              "      <th>4</th>\n",
              "      <td>4</td>\n",
              "      <td>4</td>\n",
              "      <td>Calculate the sum  1 + 3 + 5 +   cdots + 15 + ...</td>\n",
              "      <td>Level 2</td>\n",
              "      <td>Algebra</td>\n",
              "      <td>The arithmetic sequence 1, 3, 5,    dots , 17,...</td>\n",
              "      <td>[1, 3, 5, 15, 17]</td>\n",
              "      <td>['Calculate', 'the', 'sum', 'cdots']</td>\n",
              "      <td>4</td>\n",
              "    </tr>\n",
              "    <tr>\n",
              "      <th>...</th>\n",
              "      <td>...</td>\n",
              "      <td>...</td>\n",
              "      <td>...</td>\n",
              "      <td>...</td>\n",
              "      <td>...</td>\n",
              "      <td>...</td>\n",
              "      <td>...</td>\n",
              "      <td>...</td>\n",
              "      <td>...</td>\n",
              "    </tr>\n",
              "    <tr>\n",
              "      <th>1739</th>\n",
              "      <td>1739</td>\n",
              "      <td>1739</td>\n",
              "      <td>What is the slope of the line passing through ...</td>\n",
              "      <td>Level 2</td>\n",
              "      <td>Algebra</td>\n",
              "      <td>We have  m =   dfrac{y_2 - y_1}{x_2-x_1} =   d...</td>\n",
              "      <td>[3, 5, 2, 5]</td>\n",
              "      <td>['What', 'is', 'the', 'slope', 'of', 'the', 'l...</td>\n",
              "      <td>10</td>\n",
              "    </tr>\n",
              "    <tr>\n",
              "      <th>1740</th>\n",
              "      <td>1740</td>\n",
              "      <td>1740</td>\n",
              "      <td>Evaluate  i^{11} + i^{16} + i^{21} + i^{26} + ...</td>\n",
              "      <td>Level 4</td>\n",
              "      <td>Algebra</td>\n",
              "      <td>We know that by definition,  i^2=-1 , so  i^4=...</td>\n",
              "      <td>[11, 16, 21, 26, 31]</td>\n",
              "      <td>['Evaluate', 'i', 'i', 'i', 'i', 'i']</td>\n",
              "      <td>6</td>\n",
              "    </tr>\n",
              "    <tr>\n",
              "      <th>1741</th>\n",
              "      <td>1741</td>\n",
              "      <td>1741</td>\n",
              "      <td>If  a  is a constant such that  4x^2 - 12x + a...</td>\n",
              "      <td>Level 3</td>\n",
              "      <td>Algebra</td>\n",
              "      <td>If  4x^2 - 12x + a  is the square of a binomia...</td>\n",
              "      <td>[4, 2, 12]</td>\n",
              "      <td>['If', 'a', 'is', 'a', 'constant', 'such', 'th...</td>\n",
              "      <td>20</td>\n",
              "    </tr>\n",
              "    <tr>\n",
              "      <th>1742</th>\n",
              "      <td>1742</td>\n",
              "      <td>1742</td>\n",
              "      <td>Given  a   star b = a^2 + 2ab + b^2 , what is ...</td>\n",
              "      <td>Level 3</td>\n",
              "      <td>Algebra</td>\n",
              "      <td>Note that  a   star b = a^2 + 2ab + b^2 = (a +...</td>\n",
              "      <td>[2, 2, 2, 4, 6]</td>\n",
              "      <td>['Given', 'a', 'star', 'b', 'a', 'ab', 'b', 'w...</td>\n",
              "      <td>19</td>\n",
              "    </tr>\n",
              "    <tr>\n",
              "      <th>1743</th>\n",
              "      <td>1743</td>\n",
              "      <td>1743</td>\n",
              "      <td>The graph of the function  f(x)  is shown belo...</td>\n",
              "      <td>Level 5</td>\n",
              "      <td>Algebra</td>\n",
              "      <td>As shown by the graph, there are  3  values of...</td>\n",
              "      <td>[3, 7, 4, 0, 5, 0, 7, 10, 4, 4, 5, 66, 1, 5, 6...</td>\n",
              "      <td>['The', 'graph', 'of', 'the', 'function', 'f',...</td>\n",
              "      <td>137</td>\n",
              "    </tr>\n",
              "  </tbody>\n",
              "</table>\n",
              "<p>1744 rows × 9 columns</p>\n",
              "</div>"
            ],
            "text/plain": [
              "      Unnamed: 0  ...  Length_Words\n",
              "0              0  ...            22\n",
              "1              1  ...            24\n",
              "2              2  ...            77\n",
              "3              3  ...            44\n",
              "4              4  ...             4\n",
              "...          ...  ...           ...\n",
              "1739        1739  ...            10\n",
              "1740        1740  ...             6\n",
              "1741        1741  ...            20\n",
              "1742        1742  ...            19\n",
              "1743        1743  ...           137\n",
              "\n",
              "[1744 rows x 9 columns]"
            ]
          },
          "metadata": {},
          "execution_count": 30
        }
      ]
    },
    {
      "cell_type": "code",
      "metadata": {
        "id": "cqmyV09ccNVZ"
      },
      "source": [
        "import ast\n",
        "final_extnum =[]\n",
        "\n",
        "for i in range(len(df)):\n",
        "  final_extnum.append(ast.literal_eval(df['Extracted New Num'][i]))"
      ],
      "execution_count": 31,
      "outputs": []
    },
    {
      "cell_type": "code",
      "metadata": {
        "colab": {
          "base_uri": "https://localhost:8080/"
        },
        "id": "WSyW4aIGcXvv",
        "outputId": "44562e9a-97db-419d-9fa9-fb0cacbf60c8"
      },
      "source": [
        "len(final_extnum[0])"
      ],
      "execution_count": 33,
      "outputs": [
        {
          "output_type": "execute_result",
          "data": {
            "text/plain": [
              "6"
            ]
          },
          "metadata": {},
          "execution_count": 33
        }
      ]
    },
    {
      "cell_type": "code",
      "metadata": {
        "colab": {
          "base_uri": "https://localhost:8080/"
        },
        "id": "8rX0PfmldqaU",
        "outputId": "cd585430-c3ec-41ae-dd53-694516588c80"
      },
      "source": [
        "final_extnum[0]"
      ],
      "execution_count": 34,
      "outputs": [
        {
          "output_type": "execute_result",
          "data": {
            "text/plain": [
              "[2, 80, 1551, 2, 57, 2970]"
            ]
          },
          "metadata": {},
          "execution_count": 34
        }
      ]
    },
    {
      "cell_type": "code",
      "metadata": {
        "id": "j2DHAlyldvRT"
      },
      "source": [
        "len_num = []\n",
        "\n",
        "for i in range(len(final_extnum)):\n",
        "  len_num.append(len(final_extnum[i]))"
      ],
      "execution_count": 35,
      "outputs": []
    },
    {
      "cell_type": "code",
      "metadata": {
        "id": "Ch49D4t0d2IU"
      },
      "source": [
        "df[\"Length_num\"] = len_num"
      ],
      "execution_count": 36,
      "outputs": []
    },
    {
      "cell_type": "code",
      "metadata": {
        "colab": {
          "base_uri": "https://localhost:8080/",
          "height": 615
        },
        "id": "cR5mTsRXeGpu",
        "outputId": "0b3c89a7-3178-49c5-82b3-76ebd0eb89fd"
      },
      "source": [
        "df"
      ],
      "execution_count": 37,
      "outputs": [
        {
          "output_type": "execute_result",
          "data": {
            "text/html": [
              "<div>\n",
              "<style scoped>\n",
              "    .dataframe tbody tr th:only-of-type {\n",
              "        vertical-align: middle;\n",
              "    }\n",
              "\n",
              "    .dataframe tbody tr th {\n",
              "        vertical-align: top;\n",
              "    }\n",
              "\n",
              "    .dataframe thead th {\n",
              "        text-align: right;\n",
              "    }\n",
              "</style>\n",
              "<table border=\"1\" class=\"dataframe\">\n",
              "  <thead>\n",
              "    <tr style=\"text-align: right;\">\n",
              "      <th></th>\n",
              "      <th>Unnamed: 0</th>\n",
              "      <th>Unnamed: 0.1</th>\n",
              "      <th>Problem</th>\n",
              "      <th>Level</th>\n",
              "      <th>Type</th>\n",
              "      <th>Solution</th>\n",
              "      <th>Extracted New Num</th>\n",
              "      <th>Final extracted words</th>\n",
              "      <th>Length_Words</th>\n",
              "      <th>Length_num</th>\n",
              "    </tr>\n",
              "  </thead>\n",
              "  <tbody>\n",
              "    <tr>\n",
              "      <th>0</th>\n",
              "      <td>0</td>\n",
              "      <td>0</td>\n",
              "      <td>There are constants    alpha  and    beta  suc...</td>\n",
              "      <td>Level 5</td>\n",
              "      <td>Algebra</td>\n",
              "      <td>The numerator  x^2 - 80x + 1551  factors as  (...</td>\n",
              "      <td>[2, 80, 1551, 2, 57, 2970]</td>\n",
              "      <td>['There', 'are', 'constants', 'alpha', 'and', ...</td>\n",
              "      <td>22</td>\n",
              "      <td>6</td>\n",
              "    </tr>\n",
              "    <tr>\n",
              "      <th>1</th>\n",
              "      <td>1</td>\n",
              "      <td>1</td>\n",
              "      <td>The length of the segment between the points  ...</td>\n",
              "      <td>Level 5</td>\n",
              "      <td>Algebra</td>\n",
              "      <td>By the distance formula, the distance from  (2...</td>\n",
              "      <td>[2, 4, 4, 1, 2, 10]</td>\n",
              "      <td>['The', 'length', 'of', 'the', 'segment', 'bet...</td>\n",
              "      <td>24</td>\n",
              "      <td>6</td>\n",
              "    </tr>\n",
              "    <tr>\n",
              "      <th>2</th>\n",
              "      <td>2</td>\n",
              "      <td>2</td>\n",
              "      <td>Chewbacca has 20 pieces of cherry gum and 30 p...</td>\n",
              "      <td>Level 5</td>\n",
              "      <td>Algebra</td>\n",
              "      <td>If Chewbacca loses one pack of cherry gum, the...</td>\n",
              "      <td>[20, 30, 5]</td>\n",
              "      <td>['Chewbacca', 'has', 'pieces', 'of', 'cherry',...</td>\n",
              "      <td>77</td>\n",
              "      <td>3</td>\n",
              "    </tr>\n",
              "    <tr>\n",
              "      <th>3</th>\n",
              "      <td>3</td>\n",
              "      <td>3</td>\n",
              "      <td>For some constants  a  and  b,  let   [f(x) = ...</td>\n",
              "      <td>Level 5</td>\n",
              "      <td>Algebra</td>\n",
              "      <td>Setting  x = 3,  we get  f(3) = -1.  Since  -1...</td>\n",
              "      <td>[2, 8, 3, 2]</td>\n",
              "      <td>['For', 'some', 'constants', 'a', 'and', 'b', ...</td>\n",
              "      <td>44</td>\n",
              "      <td>4</td>\n",
              "    </tr>\n",
              "    <tr>\n",
              "      <th>4</th>\n",
              "      <td>4</td>\n",
              "      <td>4</td>\n",
              "      <td>Calculate the sum  1 + 3 + 5 +   cdots + 15 + ...</td>\n",
              "      <td>Level 2</td>\n",
              "      <td>Algebra</td>\n",
              "      <td>The arithmetic sequence 1, 3, 5,    dots , 17,...</td>\n",
              "      <td>[1, 3, 5, 15, 17]</td>\n",
              "      <td>['Calculate', 'the', 'sum', 'cdots']</td>\n",
              "      <td>4</td>\n",
              "      <td>5</td>\n",
              "    </tr>\n",
              "    <tr>\n",
              "      <th>...</th>\n",
              "      <td>...</td>\n",
              "      <td>...</td>\n",
              "      <td>...</td>\n",
              "      <td>...</td>\n",
              "      <td>...</td>\n",
              "      <td>...</td>\n",
              "      <td>...</td>\n",
              "      <td>...</td>\n",
              "      <td>...</td>\n",
              "      <td>...</td>\n",
              "    </tr>\n",
              "    <tr>\n",
              "      <th>1739</th>\n",
              "      <td>1739</td>\n",
              "      <td>1739</td>\n",
              "      <td>What is the slope of the line passing through ...</td>\n",
              "      <td>Level 2</td>\n",
              "      <td>Algebra</td>\n",
              "      <td>We have  m =   dfrac{y_2 - y_1}{x_2-x_1} =   d...</td>\n",
              "      <td>[3, 5, 2, 5]</td>\n",
              "      <td>['What', 'is', 'the', 'slope', 'of', 'the', 'l...</td>\n",
              "      <td>10</td>\n",
              "      <td>4</td>\n",
              "    </tr>\n",
              "    <tr>\n",
              "      <th>1740</th>\n",
              "      <td>1740</td>\n",
              "      <td>1740</td>\n",
              "      <td>Evaluate  i^{11} + i^{16} + i^{21} + i^{26} + ...</td>\n",
              "      <td>Level 4</td>\n",
              "      <td>Algebra</td>\n",
              "      <td>We know that by definition,  i^2=-1 , so  i^4=...</td>\n",
              "      <td>[11, 16, 21, 26, 31]</td>\n",
              "      <td>['Evaluate', 'i', 'i', 'i', 'i', 'i']</td>\n",
              "      <td>6</td>\n",
              "      <td>5</td>\n",
              "    </tr>\n",
              "    <tr>\n",
              "      <th>1741</th>\n",
              "      <td>1741</td>\n",
              "      <td>1741</td>\n",
              "      <td>If  a  is a constant such that  4x^2 - 12x + a...</td>\n",
              "      <td>Level 3</td>\n",
              "      <td>Algebra</td>\n",
              "      <td>If  4x^2 - 12x + a  is the square of a binomia...</td>\n",
              "      <td>[4, 2, 12]</td>\n",
              "      <td>['If', 'a', 'is', 'a', 'constant', 'such', 'th...</td>\n",
              "      <td>20</td>\n",
              "      <td>3</td>\n",
              "    </tr>\n",
              "    <tr>\n",
              "      <th>1742</th>\n",
              "      <td>1742</td>\n",
              "      <td>1742</td>\n",
              "      <td>Given  a   star b = a^2 + 2ab + b^2 , what is ...</td>\n",
              "      <td>Level 3</td>\n",
              "      <td>Algebra</td>\n",
              "      <td>Note that  a   star b = a^2 + 2ab + b^2 = (a +...</td>\n",
              "      <td>[2, 2, 2, 4, 6]</td>\n",
              "      <td>['Given', 'a', 'star', 'b', 'a', 'ab', 'b', 'w...</td>\n",
              "      <td>19</td>\n",
              "      <td>5</td>\n",
              "    </tr>\n",
              "    <tr>\n",
              "      <th>1743</th>\n",
              "      <td>1743</td>\n",
              "      <td>1743</td>\n",
              "      <td>The graph of the function  f(x)  is shown belo...</td>\n",
              "      <td>Level 5</td>\n",
              "      <td>Algebra</td>\n",
              "      <td>As shown by the graph, there are  3  values of...</td>\n",
              "      <td>[3, 7, 4, 0, 5, 0, 7, 10, 4, 4, 5, 66, 1, 5, 6...</td>\n",
              "      <td>['The', 'graph', 'of', 'the', 'function', 'f',...</td>\n",
              "      <td>137</td>\n",
              "      <td>99</td>\n",
              "    </tr>\n",
              "  </tbody>\n",
              "</table>\n",
              "<p>1744 rows × 10 columns</p>\n",
              "</div>"
            ],
            "text/plain": [
              "      Unnamed: 0  Unnamed: 0.1  ... Length_Words Length_num\n",
              "0              0             0  ...           22          6\n",
              "1              1             1  ...           24          6\n",
              "2              2             2  ...           77          3\n",
              "3              3             3  ...           44          4\n",
              "4              4             4  ...            4          5\n",
              "...          ...           ...  ...          ...        ...\n",
              "1739        1739          1739  ...           10          4\n",
              "1740        1740          1740  ...            6          5\n",
              "1741        1741          1741  ...           20          3\n",
              "1742        1742          1742  ...           19          5\n",
              "1743        1743          1743  ...          137         99\n",
              "\n",
              "[1744 rows x 10 columns]"
            ]
          },
          "metadata": {},
          "execution_count": 37
        }
      ]
    },
    {
      "cell_type": "code",
      "metadata": {
        "id": "sPAmVO-YfL2D"
      },
      "source": [
        "def count_t(l):\n",
        "\n",
        "  count = 0\n",
        "\n",
        "  for i in range(len(l)):\n",
        "    if(l[i]>=100):\n",
        "      count+=1\n",
        "\n",
        "  return count\n"
      ],
      "execution_count": 45,
      "outputs": []
    },
    {
      "cell_type": "code",
      "metadata": {
        "id": "sCavs2OseG9M"
      },
      "source": [
        "value_hund = []\n",
        "\n",
        "for i in range(len(final_extnum)):\n",
        "  count = count_t(final_extnum[i])\n",
        "  value_hund.append(count)"
      ],
      "execution_count": 46,
      "outputs": []
    },
    {
      "cell_type": "code",
      "metadata": {
        "colab": {
          "base_uri": "https://localhost:8080/"
        },
        "id": "UfDGldI-fqEI",
        "outputId": "dc5942a5-3ac6-4c76-a209-7fca434da73a"
      },
      "source": [
        "import collections\n",
        "from collections import Counter\n",
        "print(Counter(value_hund))"
      ],
      "execution_count": 48,
      "outputs": [
        {
          "output_type": "stream",
          "name": "stdout",
          "text": [
            "Counter({0: 1459, 1: 211, 2: 48, 3: 7, 4: 6, 5: 6, 6: 3, 8: 2, 7: 1, 11: 1})\n"
          ]
        }
      ]
    },
    {
      "cell_type": "code",
      "metadata": {
        "colab": {
          "base_uri": "https://localhost:8080/",
          "height": 701
        },
        "id": "7EktSrC2fsTP",
        "outputId": "0427d83b-417d-4680-f58d-ed3ed053cbf0"
      },
      "source": [
        "df['Numbers>100'] = value_hund\n",
        "df"
      ],
      "execution_count": 49,
      "outputs": [
        {
          "output_type": "execute_result",
          "data": {
            "text/html": [
              "<div>\n",
              "<style scoped>\n",
              "    .dataframe tbody tr th:only-of-type {\n",
              "        vertical-align: middle;\n",
              "    }\n",
              "\n",
              "    .dataframe tbody tr th {\n",
              "        vertical-align: top;\n",
              "    }\n",
              "\n",
              "    .dataframe thead th {\n",
              "        text-align: right;\n",
              "    }\n",
              "</style>\n",
              "<table border=\"1\" class=\"dataframe\">\n",
              "  <thead>\n",
              "    <tr style=\"text-align: right;\">\n",
              "      <th></th>\n",
              "      <th>Unnamed: 0</th>\n",
              "      <th>Unnamed: 0.1</th>\n",
              "      <th>Problem</th>\n",
              "      <th>Level</th>\n",
              "      <th>Type</th>\n",
              "      <th>Solution</th>\n",
              "      <th>Extracted New Num</th>\n",
              "      <th>Final extracted words</th>\n",
              "      <th>Length_Words</th>\n",
              "      <th>Length_num</th>\n",
              "      <th>Numbers&gt;100</th>\n",
              "    </tr>\n",
              "  </thead>\n",
              "  <tbody>\n",
              "    <tr>\n",
              "      <th>0</th>\n",
              "      <td>0</td>\n",
              "      <td>0</td>\n",
              "      <td>There are constants    alpha  and    beta  suc...</td>\n",
              "      <td>Level 5</td>\n",
              "      <td>Algebra</td>\n",
              "      <td>The numerator  x^2 - 80x + 1551  factors as  (...</td>\n",
              "      <td>[2, 80, 1551, 2, 57, 2970]</td>\n",
              "      <td>['There', 'are', 'constants', 'alpha', 'and', ...</td>\n",
              "      <td>22</td>\n",
              "      <td>6</td>\n",
              "      <td>2</td>\n",
              "    </tr>\n",
              "    <tr>\n",
              "      <th>1</th>\n",
              "      <td>1</td>\n",
              "      <td>1</td>\n",
              "      <td>The length of the segment between the points  ...</td>\n",
              "      <td>Level 5</td>\n",
              "      <td>Algebra</td>\n",
              "      <td>By the distance formula, the distance from  (2...</td>\n",
              "      <td>[2, 4, 4, 1, 2, 10]</td>\n",
              "      <td>['The', 'length', 'of', 'the', 'segment', 'bet...</td>\n",
              "      <td>24</td>\n",
              "      <td>6</td>\n",
              "      <td>0</td>\n",
              "    </tr>\n",
              "    <tr>\n",
              "      <th>2</th>\n",
              "      <td>2</td>\n",
              "      <td>2</td>\n",
              "      <td>Chewbacca has 20 pieces of cherry gum and 30 p...</td>\n",
              "      <td>Level 5</td>\n",
              "      <td>Algebra</td>\n",
              "      <td>If Chewbacca loses one pack of cherry gum, the...</td>\n",
              "      <td>[20, 30, 5]</td>\n",
              "      <td>['Chewbacca', 'has', 'pieces', 'of', 'cherry',...</td>\n",
              "      <td>77</td>\n",
              "      <td>3</td>\n",
              "      <td>0</td>\n",
              "    </tr>\n",
              "    <tr>\n",
              "      <th>3</th>\n",
              "      <td>3</td>\n",
              "      <td>3</td>\n",
              "      <td>For some constants  a  and  b,  let   [f(x) = ...</td>\n",
              "      <td>Level 5</td>\n",
              "      <td>Algebra</td>\n",
              "      <td>Setting  x = 3,  we get  f(3) = -1.  Since  -1...</td>\n",
              "      <td>[2, 8, 3, 2]</td>\n",
              "      <td>['For', 'some', 'constants', 'a', 'and', 'b', ...</td>\n",
              "      <td>44</td>\n",
              "      <td>4</td>\n",
              "      <td>0</td>\n",
              "    </tr>\n",
              "    <tr>\n",
              "      <th>4</th>\n",
              "      <td>4</td>\n",
              "      <td>4</td>\n",
              "      <td>Calculate the sum  1 + 3 + 5 +   cdots + 15 + ...</td>\n",
              "      <td>Level 2</td>\n",
              "      <td>Algebra</td>\n",
              "      <td>The arithmetic sequence 1, 3, 5,    dots , 17,...</td>\n",
              "      <td>[1, 3, 5, 15, 17]</td>\n",
              "      <td>['Calculate', 'the', 'sum', 'cdots']</td>\n",
              "      <td>4</td>\n",
              "      <td>5</td>\n",
              "      <td>0</td>\n",
              "    </tr>\n",
              "    <tr>\n",
              "      <th>...</th>\n",
              "      <td>...</td>\n",
              "      <td>...</td>\n",
              "      <td>...</td>\n",
              "      <td>...</td>\n",
              "      <td>...</td>\n",
              "      <td>...</td>\n",
              "      <td>...</td>\n",
              "      <td>...</td>\n",
              "      <td>...</td>\n",
              "      <td>...</td>\n",
              "      <td>...</td>\n",
              "    </tr>\n",
              "    <tr>\n",
              "      <th>1739</th>\n",
              "      <td>1739</td>\n",
              "      <td>1739</td>\n",
              "      <td>What is the slope of the line passing through ...</td>\n",
              "      <td>Level 2</td>\n",
              "      <td>Algebra</td>\n",
              "      <td>We have  m =   dfrac{y_2 - y_1}{x_2-x_1} =   d...</td>\n",
              "      <td>[3, 5, 2, 5]</td>\n",
              "      <td>['What', 'is', 'the', 'slope', 'of', 'the', 'l...</td>\n",
              "      <td>10</td>\n",
              "      <td>4</td>\n",
              "      <td>0</td>\n",
              "    </tr>\n",
              "    <tr>\n",
              "      <th>1740</th>\n",
              "      <td>1740</td>\n",
              "      <td>1740</td>\n",
              "      <td>Evaluate  i^{11} + i^{16} + i^{21} + i^{26} + ...</td>\n",
              "      <td>Level 4</td>\n",
              "      <td>Algebra</td>\n",
              "      <td>We know that by definition,  i^2=-1 , so  i^4=...</td>\n",
              "      <td>[11, 16, 21, 26, 31]</td>\n",
              "      <td>['Evaluate', 'i', 'i', 'i', 'i', 'i']</td>\n",
              "      <td>6</td>\n",
              "      <td>5</td>\n",
              "      <td>0</td>\n",
              "    </tr>\n",
              "    <tr>\n",
              "      <th>1741</th>\n",
              "      <td>1741</td>\n",
              "      <td>1741</td>\n",
              "      <td>If  a  is a constant such that  4x^2 - 12x + a...</td>\n",
              "      <td>Level 3</td>\n",
              "      <td>Algebra</td>\n",
              "      <td>If  4x^2 - 12x + a  is the square of a binomia...</td>\n",
              "      <td>[4, 2, 12]</td>\n",
              "      <td>['If', 'a', 'is', 'a', 'constant', 'such', 'th...</td>\n",
              "      <td>20</td>\n",
              "      <td>3</td>\n",
              "      <td>0</td>\n",
              "    </tr>\n",
              "    <tr>\n",
              "      <th>1742</th>\n",
              "      <td>1742</td>\n",
              "      <td>1742</td>\n",
              "      <td>Given  a   star b = a^2 + 2ab + b^2 , what is ...</td>\n",
              "      <td>Level 3</td>\n",
              "      <td>Algebra</td>\n",
              "      <td>Note that  a   star b = a^2 + 2ab + b^2 = (a +...</td>\n",
              "      <td>[2, 2, 2, 4, 6]</td>\n",
              "      <td>['Given', 'a', 'star', 'b', 'a', 'ab', 'b', 'w...</td>\n",
              "      <td>19</td>\n",
              "      <td>5</td>\n",
              "      <td>0</td>\n",
              "    </tr>\n",
              "    <tr>\n",
              "      <th>1743</th>\n",
              "      <td>1743</td>\n",
              "      <td>1743</td>\n",
              "      <td>The graph of the function  f(x)  is shown belo...</td>\n",
              "      <td>Level 5</td>\n",
              "      <td>Algebra</td>\n",
              "      <td>As shown by the graph, there are  3  values of...</td>\n",
              "      <td>[3, 7, 4, 0, 5, 0, 7, 10, 4, 4, 5, 66, 1, 5, 6...</td>\n",
              "      <td>['The', 'graph', 'of', 'the', 'function', 'f',...</td>\n",
              "      <td>137</td>\n",
              "      <td>99</td>\n",
              "      <td>0</td>\n",
              "    </tr>\n",
              "  </tbody>\n",
              "</table>\n",
              "<p>1744 rows × 11 columns</p>\n",
              "</div>"
            ],
            "text/plain": [
              "      Unnamed: 0  Unnamed: 0.1  ... Length_num Numbers>100\n",
              "0              0             0  ...          6           2\n",
              "1              1             1  ...          6           0\n",
              "2              2             2  ...          3           0\n",
              "3              3             3  ...          4           0\n",
              "4              4             4  ...          5           0\n",
              "...          ...           ...  ...        ...         ...\n",
              "1739        1739          1739  ...          4           0\n",
              "1740        1740          1740  ...          5           0\n",
              "1741        1741          1741  ...          3           0\n",
              "1742        1742          1742  ...          5           0\n",
              "1743        1743          1743  ...         99           0\n",
              "\n",
              "[1744 rows x 11 columns]"
            ]
          },
          "metadata": {},
          "execution_count": 49
        }
      ]
    },
    {
      "cell_type": "code",
      "metadata": {
        "colab": {
          "base_uri": "https://localhost:8080/",
          "height": 17
        },
        "id": "sGceuEtQg0fx",
        "outputId": "6bded7fa-b4c8-4d07-a518-ec29356c4a20"
      },
      "source": [
        "from google.colab import files\n",
        "\n",
        "df.to_csv('MWP New.csv')\n",
        "files.download('MWP New.csv')"
      ],
      "execution_count": 50,
      "outputs": [
        {
          "output_type": "display_data",
          "data": {
            "application/javascript": [
              "\n",
              "    async function download(id, filename, size) {\n",
              "      if (!google.colab.kernel.accessAllowed) {\n",
              "        return;\n",
              "      }\n",
              "      const div = document.createElement('div');\n",
              "      const label = document.createElement('label');\n",
              "      label.textContent = `Downloading \"${filename}\": `;\n",
              "      div.appendChild(label);\n",
              "      const progress = document.createElement('progress');\n",
              "      progress.max = size;\n",
              "      div.appendChild(progress);\n",
              "      document.body.appendChild(div);\n",
              "\n",
              "      const buffers = [];\n",
              "      let downloaded = 0;\n",
              "\n",
              "      const channel = await google.colab.kernel.comms.open(id);\n",
              "      // Send a message to notify the kernel that we're ready.\n",
              "      channel.send({})\n",
              "\n",
              "      for await (const message of channel.messages) {\n",
              "        // Send a message to notify the kernel that we're ready.\n",
              "        channel.send({})\n",
              "        if (message.buffers) {\n",
              "          for (const buffer of message.buffers) {\n",
              "            buffers.push(buffer);\n",
              "            downloaded += buffer.byteLength;\n",
              "            progress.value = downloaded;\n",
              "          }\n",
              "        }\n",
              "      }\n",
              "      const blob = new Blob(buffers, {type: 'application/binary'});\n",
              "      const a = document.createElement('a');\n",
              "      a.href = window.URL.createObjectURL(blob);\n",
              "      a.download = filename;\n",
              "      div.appendChild(a);\n",
              "      a.click();\n",
              "      div.remove();\n",
              "    }\n",
              "  "
            ],
            "text/plain": [
              "<IPython.core.display.Javascript object>"
            ]
          },
          "metadata": {}
        },
        {
          "output_type": "display_data",
          "data": {
            "application/javascript": [
              "download(\"download_666b2a0d-eb54-4b3f-9385-53551cc89a21\", \"MWP New.csv\", 1389305)"
            ],
            "text/plain": [
              "<IPython.core.display.Javascript object>"
            ]
          },
          "metadata": {}
        }
      ]
    },
    {
      "cell_type": "code",
      "metadata": {
        "id": "LdVldMZwhzTt"
      },
      "source": [
        ""
      ],
      "execution_count": null,
      "outputs": []
    }
  ]
}